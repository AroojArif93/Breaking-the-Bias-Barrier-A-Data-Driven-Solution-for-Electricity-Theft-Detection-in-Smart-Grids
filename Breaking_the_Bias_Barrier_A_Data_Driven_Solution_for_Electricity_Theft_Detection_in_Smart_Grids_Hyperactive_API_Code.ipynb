{
  "nbformat": 4,
  "nbformat_minor": 0,
  "metadata": {
    "accelerator": "GPU",
    "colab": {
      "provenance": [],
      "toc_visible": true
    },
    "kernelspec": {
      "display_name": "Python 3",
      "name": "python3"
    },
    "widgets": {
      "application/vnd.jupyter.widget-state+json": {
        "eb772f6f0dcc43a68da31f40c971d76b": {
          "model_module": "@jupyter-widgets/controls",
          "model_name": "HBoxModel",
          "state": {
            "_dom_classes": [],
            "_model_module": "@jupyter-widgets/controls",
            "_model_module_version": "1.5.0",
            "_model_name": "HBoxModel",
            "_view_count": null,
            "_view_module": "@jupyter-widgets/controls",
            "_view_module_version": "1.5.0",
            "_view_name": "HBoxView",
            "box_style": "",
            "children": [
              "IPY_MODEL_94c702f2c9194e34bf197697fe0e7a87",
              "IPY_MODEL_d43720a559044b39b23d92a351b6de9d"
            ],
            "layout": "IPY_MODEL_80d356d68b2146079aaa8355fc32e59c"
          },
          "model_module_version": "1.5.0"
        },
        "94c702f2c9194e34bf197697fe0e7a87": {
          "model_module": "@jupyter-widgets/controls",
          "model_name": "FloatProgressModel",
          "state": {
            "_dom_classes": [],
            "_model_module": "@jupyter-widgets/controls",
            "_model_module_version": "1.5.0",
            "_model_name": "FloatProgressModel",
            "_view_count": null,
            "_view_module": "@jupyter-widgets/controls",
            "_view_module_version": "1.5.0",
            "_view_name": "ProgressView",
            "bar_style": "success",
            "description": "Thread 0 -&gt; model: 100%",
            "description_tooltip": null,
            "layout": "IPY_MODEL_e27c499451514acebbe0155e39549ced",
            "max": 100,
            "min": 0,
            "orientation": "horizontal",
            "style": "IPY_MODEL_93a82725a1e14c3696542a9749f68fe5",
            "value": 100
          },
          "model_module_version": "1.5.0"
        },
        "d43720a559044b39b23d92a351b6de9d": {
          "model_module": "@jupyter-widgets/controls",
          "model_name": "HTMLModel",
          "state": {
            "_dom_classes": [],
            "_model_module": "@jupyter-widgets/controls",
            "_model_module_version": "1.5.0",
            "_model_name": "HTMLModel",
            "_view_count": null,
            "_view_module": "@jupyter-widgets/controls",
            "_view_module_version": "1.5.0",
            "_view_name": "HTMLView",
            "description": "",
            "description_tooltip": null,
            "layout": "IPY_MODEL_1f1f3a62ec74495a8a8f03a9bbd03648",
            "placeholder": "​",
            "style": "IPY_MODEL_03175a6f1ca34cef88242d4f5d507c2c",
            "value": " 100/100 [01:28&lt;00:00,  1.12it/s, best_score=-inf, best_since_iter=0]"
          },
          "model_module_version": "1.5.0"
        },
        "80d356d68b2146079aaa8355fc32e59c": {
          "model_module": "@jupyter-widgets/base",
          "model_name": "LayoutModel",
          "state": {
            "_model_module": "@jupyter-widgets/base",
            "_model_module_version": "1.2.0",
            "_model_name": "LayoutModel",
            "_view_count": null,
            "_view_module": "@jupyter-widgets/base",
            "_view_module_version": "1.2.0",
            "_view_name": "LayoutView",
            "align_content": null,
            "align_items": null,
            "align_self": null,
            "border": null,
            "bottom": null,
            "display": null,
            "flex": null,
            "flex_flow": null,
            "grid_area": null,
            "grid_auto_columns": null,
            "grid_auto_flow": null,
            "grid_auto_rows": null,
            "grid_column": null,
            "grid_gap": null,
            "grid_row": null,
            "grid_template_areas": null,
            "grid_template_columns": null,
            "grid_template_rows": null,
            "height": null,
            "justify_content": null,
            "justify_items": null,
            "left": null,
            "margin": null,
            "max_height": null,
            "max_width": null,
            "min_height": null,
            "min_width": null,
            "object_fit": null,
            "object_position": null,
            "order": null,
            "overflow": null,
            "overflow_x": null,
            "overflow_y": null,
            "padding": null,
            "right": null,
            "top": null,
            "visibility": null,
            "width": null
          },
          "model_module_version": "1.2.0"
        },
        "e27c499451514acebbe0155e39549ced": {
          "model_module": "@jupyter-widgets/base",
          "model_name": "LayoutModel",
          "state": {
            "_model_module": "@jupyter-widgets/base",
            "_model_module_version": "1.2.0",
            "_model_name": "LayoutModel",
            "_view_count": null,
            "_view_module": "@jupyter-widgets/base",
            "_view_module_version": "1.2.0",
            "_view_name": "LayoutView",
            "align_content": null,
            "align_items": null,
            "align_self": null,
            "border": null,
            "bottom": null,
            "display": null,
            "flex": null,
            "flex_flow": null,
            "grid_area": null,
            "grid_auto_columns": null,
            "grid_auto_flow": null,
            "grid_auto_rows": null,
            "grid_column": null,
            "grid_gap": null,
            "grid_row": null,
            "grid_template_areas": null,
            "grid_template_columns": null,
            "grid_template_rows": null,
            "height": null,
            "justify_content": null,
            "justify_items": null,
            "left": null,
            "margin": null,
            "max_height": null,
            "max_width": null,
            "min_height": null,
            "min_width": null,
            "object_fit": null,
            "object_position": null,
            "order": null,
            "overflow": null,
            "overflow_x": null,
            "overflow_y": null,
            "padding": null,
            "right": null,
            "top": null,
            "visibility": null,
            "width": null
          },
          "model_module_version": "1.2.0"
        },
        "93a82725a1e14c3696542a9749f68fe5": {
          "model_module": "@jupyter-widgets/controls",
          "model_name": "ProgressStyleModel",
          "state": {
            "_model_module": "@jupyter-widgets/controls",
            "_model_module_version": "1.5.0",
            "_model_name": "ProgressStyleModel",
            "_view_count": null,
            "_view_module": "@jupyter-widgets/base",
            "_view_module_version": "1.2.0",
            "_view_name": "StyleView",
            "bar_color": null,
            "description_width": "initial"
          },
          "model_module_version": "1.5.0"
        },
        "1f1f3a62ec74495a8a8f03a9bbd03648": {
          "model_module": "@jupyter-widgets/base",
          "model_name": "LayoutModel",
          "state": {
            "_model_module": "@jupyter-widgets/base",
            "_model_module_version": "1.2.0",
            "_model_name": "LayoutModel",
            "_view_count": null,
            "_view_module": "@jupyter-widgets/base",
            "_view_module_version": "1.2.0",
            "_view_name": "LayoutView",
            "align_content": null,
            "align_items": null,
            "align_self": null,
            "border": null,
            "bottom": null,
            "display": null,
            "flex": null,
            "flex_flow": null,
            "grid_area": null,
            "grid_auto_columns": null,
            "grid_auto_flow": null,
            "grid_auto_rows": null,
            "grid_column": null,
            "grid_gap": null,
            "grid_row": null,
            "grid_template_areas": null,
            "grid_template_columns": null,
            "grid_template_rows": null,
            "height": null,
            "justify_content": null,
            "justify_items": null,
            "left": null,
            "margin": null,
            "max_height": null,
            "max_width": null,
            "min_height": null,
            "min_width": null,
            "object_fit": null,
            "object_position": null,
            "order": null,
            "overflow": null,
            "overflow_x": null,
            "overflow_y": null,
            "padding": null,
            "right": null,
            "top": null,
            "visibility": null,
            "width": null
          },
          "model_module_version": "1.2.0"
        },
        "03175a6f1ca34cef88242d4f5d507c2c": {
          "model_module": "@jupyter-widgets/controls",
          "model_name": "DescriptionStyleModel",
          "state": {
            "_model_module": "@jupyter-widgets/controls",
            "_model_module_version": "1.5.0",
            "_model_name": "DescriptionStyleModel",
            "_view_count": null,
            "_view_module": "@jupyter-widgets/base",
            "_view_module_version": "1.2.0",
            "_view_name": "StyleView",
            "description_width": ""
          },
          "model_module_version": "1.5.0"
        },
        "506f3736bd0249c1b749db7c0aa4090a": {
          "model_module": "@jupyter-widgets/controls",
          "model_name": "HBoxModel",
          "state": {
            "_dom_classes": [],
            "_model_module": "@jupyter-widgets/controls",
            "_model_module_version": "1.5.0",
            "_model_name": "HBoxModel",
            "_view_count": null,
            "_view_module": "@jupyter-widgets/controls",
            "_view_module_version": "1.5.0",
            "_view_name": "HBoxView",
            "box_style": "",
            "children": [
              "IPY_MODEL_52a92fb44c414a8b81552463580718a9",
              "IPY_MODEL_efeba16ad77b4f11a27116daed34350b"
            ],
            "layout": "IPY_MODEL_28220c84d5ba43aeb0db3ca18654949b"
          },
          "model_module_version": "1.5.0"
        },
        "52a92fb44c414a8b81552463580718a9": {
          "model_module": "@jupyter-widgets/controls",
          "model_name": "FloatProgressModel",
          "state": {
            "_dom_classes": [],
            "_model_module": "@jupyter-widgets/controls",
            "_model_module_version": "1.5.0",
            "_model_name": "FloatProgressModel",
            "_view_count": null,
            "_view_module": "@jupyter-widgets/controls",
            "_view_module_version": "1.5.0",
            "_view_name": "ProgressView",
            "bar_style": "success",
            "description": "Thread 0 -&gt; stacking: 100%",
            "description_tooltip": null,
            "layout": "IPY_MODEL_ff83eede24b941769b5c8f5de383adb2",
            "max": 5,
            "min": 0,
            "orientation": "horizontal",
            "style": "IPY_MODEL_6cce9f18f970481f8e53be6fe19c3627",
            "value": 5
          },
          "model_module_version": "1.5.0"
        },
        "efeba16ad77b4f11a27116daed34350b": {
          "model_module": "@jupyter-widgets/controls",
          "model_name": "HTMLModel",
          "state": {
            "_dom_classes": [],
            "_model_module": "@jupyter-widgets/controls",
            "_model_module_version": "1.5.0",
            "_model_name": "HTMLModel",
            "_view_count": null,
            "_view_module": "@jupyter-widgets/controls",
            "_view_module_version": "1.5.0",
            "_view_name": "HTMLView",
            "description": "",
            "description_tooltip": null,
            "layout": "IPY_MODEL_baefcf42285a48d6b8f2a155c7290060",
            "placeholder": "​",
            "style": "IPY_MODEL_5800f66962994ff0b95d115a1c0a2631",
            "value": " 5/5 [31:57&lt;00:00, 383.42s/it, best_score=0.9349434290687554, best_since_iter=0]"
          },
          "model_module_version": "1.5.0"
        },
        "28220c84d5ba43aeb0db3ca18654949b": {
          "model_module": "@jupyter-widgets/base",
          "model_name": "LayoutModel",
          "state": {
            "_model_module": "@jupyter-widgets/base",
            "_model_module_version": "1.2.0",
            "_model_name": "LayoutModel",
            "_view_count": null,
            "_view_module": "@jupyter-widgets/base",
            "_view_module_version": "1.2.0",
            "_view_name": "LayoutView",
            "align_content": null,
            "align_items": null,
            "align_self": null,
            "border": null,
            "bottom": null,
            "display": null,
            "flex": null,
            "flex_flow": null,
            "grid_area": null,
            "grid_auto_columns": null,
            "grid_auto_flow": null,
            "grid_auto_rows": null,
            "grid_column": null,
            "grid_gap": null,
            "grid_row": null,
            "grid_template_areas": null,
            "grid_template_columns": null,
            "grid_template_rows": null,
            "height": null,
            "justify_content": null,
            "justify_items": null,
            "left": null,
            "margin": null,
            "max_height": null,
            "max_width": null,
            "min_height": null,
            "min_width": null,
            "object_fit": null,
            "object_position": null,
            "order": null,
            "overflow": null,
            "overflow_x": null,
            "overflow_y": null,
            "padding": null,
            "right": null,
            "top": null,
            "visibility": null,
            "width": null
          },
          "model_module_version": "1.2.0"
        },
        "ff83eede24b941769b5c8f5de383adb2": {
          "model_module": "@jupyter-widgets/base",
          "model_name": "LayoutModel",
          "state": {
            "_model_module": "@jupyter-widgets/base",
            "_model_module_version": "1.2.0",
            "_model_name": "LayoutModel",
            "_view_count": null,
            "_view_module": "@jupyter-widgets/base",
            "_view_module_version": "1.2.0",
            "_view_name": "LayoutView",
            "align_content": null,
            "align_items": null,
            "align_self": null,
            "border": null,
            "bottom": null,
            "display": null,
            "flex": null,
            "flex_flow": null,
            "grid_area": null,
            "grid_auto_columns": null,
            "grid_auto_flow": null,
            "grid_auto_rows": null,
            "grid_column": null,
            "grid_gap": null,
            "grid_row": null,
            "grid_template_areas": null,
            "grid_template_columns": null,
            "grid_template_rows": null,
            "height": null,
            "justify_content": null,
            "justify_items": null,
            "left": null,
            "margin": null,
            "max_height": null,
            "max_width": null,
            "min_height": null,
            "min_width": null,
            "object_fit": null,
            "object_position": null,
            "order": null,
            "overflow": null,
            "overflow_x": null,
            "overflow_y": null,
            "padding": null,
            "right": null,
            "top": null,
            "visibility": null,
            "width": null
          },
          "model_module_version": "1.2.0"
        },
        "6cce9f18f970481f8e53be6fe19c3627": {
          "model_module": "@jupyter-widgets/controls",
          "model_name": "ProgressStyleModel",
          "state": {
            "_model_module": "@jupyter-widgets/controls",
            "_model_module_version": "1.5.0",
            "_model_name": "ProgressStyleModel",
            "_view_count": null,
            "_view_module": "@jupyter-widgets/base",
            "_view_module_version": "1.2.0",
            "_view_name": "StyleView",
            "bar_color": null,
            "description_width": "initial"
          },
          "model_module_version": "1.5.0"
        },
        "baefcf42285a48d6b8f2a155c7290060": {
          "model_module": "@jupyter-widgets/base",
          "model_name": "LayoutModel",
          "state": {
            "_model_module": "@jupyter-widgets/base",
            "_model_module_version": "1.2.0",
            "_model_name": "LayoutModel",
            "_view_count": null,
            "_view_module": "@jupyter-widgets/base",
            "_view_module_version": "1.2.0",
            "_view_name": "LayoutView",
            "align_content": null,
            "align_items": null,
            "align_self": null,
            "border": null,
            "bottom": null,
            "display": null,
            "flex": null,
            "flex_flow": null,
            "grid_area": null,
            "grid_auto_columns": null,
            "grid_auto_flow": null,
            "grid_auto_rows": null,
            "grid_column": null,
            "grid_gap": null,
            "grid_row": null,
            "grid_template_areas": null,
            "grid_template_columns": null,
            "grid_template_rows": null,
            "height": null,
            "justify_content": null,
            "justify_items": null,
            "left": null,
            "margin": null,
            "max_height": null,
            "max_width": null,
            "min_height": null,
            "min_width": null,
            "object_fit": null,
            "object_position": null,
            "order": null,
            "overflow": null,
            "overflow_x": null,
            "overflow_y": null,
            "padding": null,
            "right": null,
            "top": null,
            "visibility": null,
            "width": null
          },
          "model_module_version": "1.2.0"
        },
        "5800f66962994ff0b95d115a1c0a2631": {
          "model_module": "@jupyter-widgets/controls",
          "model_name": "DescriptionStyleModel",
          "state": {
            "_model_module": "@jupyter-widgets/controls",
            "_model_module_version": "1.5.0",
            "_model_name": "DescriptionStyleModel",
            "_view_count": null,
            "_view_module": "@jupyter-widgets/base",
            "_view_module_version": "1.2.0",
            "_view_name": "StyleView",
            "description_width": ""
          },
          "model_module_version": "1.5.0"
        },
        "09f00d9eb7e146ff863186f1eed7729f": {
          "model_module": "@jupyter-widgets/controls",
          "model_name": "HBoxModel",
          "state": {
            "_dom_classes": [],
            "_model_module": "@jupyter-widgets/controls",
            "_model_module_version": "1.5.0",
            "_model_name": "HBoxModel",
            "_view_count": null,
            "_view_module": "@jupyter-widgets/controls",
            "_view_module_version": "1.5.0",
            "_view_name": "HBoxView",
            "box_style": "",
            "children": [
              "IPY_MODEL_a6733530c34542f8932e2e26cb338130",
              "IPY_MODEL_3d2061c6d83146bea40d8eea2c645dba"
            ],
            "layout": "IPY_MODEL_4bb9cf27abc4431fb24499c547222bc0"
          },
          "model_module_version": "1.5.0"
        },
        "a6733530c34542f8932e2e26cb338130": {
          "model_module": "@jupyter-widgets/controls",
          "model_name": "FloatProgressModel",
          "state": {
            "_dom_classes": [],
            "_model_module": "@jupyter-widgets/controls",
            "_model_module_version": "1.5.0",
            "_model_name": "FloatProgressModel",
            "_view_count": null,
            "_view_module": "@jupyter-widgets/controls",
            "_view_module_version": "1.5.0",
            "_view_name": "ProgressView",
            "bar_style": "success",
            "description": "Thread 1 -&gt; stacking: 100%",
            "description_tooltip": null,
            "layout": "IPY_MODEL_f77668d50b4d4d75bc17f053bb1d677c",
            "max": 5,
            "min": 0,
            "orientation": "horizontal",
            "style": "IPY_MODEL_4a0f021863054905a41627792c2fa7a8",
            "value": 5
          },
          "model_module_version": "1.5.0"
        },
        "3d2061c6d83146bea40d8eea2c645dba": {
          "model_module": "@jupyter-widgets/controls",
          "model_name": "HTMLModel",
          "state": {
            "_dom_classes": [],
            "_model_module": "@jupyter-widgets/controls",
            "_model_module_version": "1.5.0",
            "_model_name": "HTMLModel",
            "_view_count": null,
            "_view_module": "@jupyter-widgets/controls",
            "_view_module_version": "1.5.0",
            "_view_name": "HTMLView",
            "description": "",
            "description_tooltip": null,
            "layout": "IPY_MODEL_60b453e2678941e080e61c58572d12e5",
            "placeholder": "​",
            "style": "IPY_MODEL_0b2476b423b14d2d94f97b30959b8fae",
            "value": " 5/5 [36:05&lt;00:00, 433.17s/it, best_score=0.9340731070496083, best_since_iter=2]"
          },
          "model_module_version": "1.5.0"
        },
        "4bb9cf27abc4431fb24499c547222bc0": {
          "model_module": "@jupyter-widgets/base",
          "model_name": "LayoutModel",
          "state": {
            "_model_module": "@jupyter-widgets/base",
            "_model_module_version": "1.2.0",
            "_model_name": "LayoutModel",
            "_view_count": null,
            "_view_module": "@jupyter-widgets/base",
            "_view_module_version": "1.2.0",
            "_view_name": "LayoutView",
            "align_content": null,
            "align_items": null,
            "align_self": null,
            "border": null,
            "bottom": null,
            "display": null,
            "flex": null,
            "flex_flow": null,
            "grid_area": null,
            "grid_auto_columns": null,
            "grid_auto_flow": null,
            "grid_auto_rows": null,
            "grid_column": null,
            "grid_gap": null,
            "grid_row": null,
            "grid_template_areas": null,
            "grid_template_columns": null,
            "grid_template_rows": null,
            "height": null,
            "justify_content": null,
            "justify_items": null,
            "left": null,
            "margin": null,
            "max_height": null,
            "max_width": null,
            "min_height": null,
            "min_width": null,
            "object_fit": null,
            "object_position": null,
            "order": null,
            "overflow": null,
            "overflow_x": null,
            "overflow_y": null,
            "padding": null,
            "right": null,
            "top": null,
            "visibility": null,
            "width": null
          },
          "model_module_version": "1.2.0"
        },
        "f77668d50b4d4d75bc17f053bb1d677c": {
          "model_module": "@jupyter-widgets/base",
          "model_name": "LayoutModel",
          "state": {
            "_model_module": "@jupyter-widgets/base",
            "_model_module_version": "1.2.0",
            "_model_name": "LayoutModel",
            "_view_count": null,
            "_view_module": "@jupyter-widgets/base",
            "_view_module_version": "1.2.0",
            "_view_name": "LayoutView",
            "align_content": null,
            "align_items": null,
            "align_self": null,
            "border": null,
            "bottom": null,
            "display": null,
            "flex": null,
            "flex_flow": null,
            "grid_area": null,
            "grid_auto_columns": null,
            "grid_auto_flow": null,
            "grid_auto_rows": null,
            "grid_column": null,
            "grid_gap": null,
            "grid_row": null,
            "grid_template_areas": null,
            "grid_template_columns": null,
            "grid_template_rows": null,
            "height": null,
            "justify_content": null,
            "justify_items": null,
            "left": null,
            "margin": null,
            "max_height": null,
            "max_width": null,
            "min_height": null,
            "min_width": null,
            "object_fit": null,
            "object_position": null,
            "order": null,
            "overflow": null,
            "overflow_x": null,
            "overflow_y": null,
            "padding": null,
            "right": null,
            "top": null,
            "visibility": null,
            "width": null
          },
          "model_module_version": "1.2.0"
        },
        "4a0f021863054905a41627792c2fa7a8": {
          "model_module": "@jupyter-widgets/controls",
          "model_name": "ProgressStyleModel",
          "state": {
            "_model_module": "@jupyter-widgets/controls",
            "_model_module_version": "1.5.0",
            "_model_name": "ProgressStyleModel",
            "_view_count": null,
            "_view_module": "@jupyter-widgets/base",
            "_view_module_version": "1.2.0",
            "_view_name": "StyleView",
            "bar_color": null,
            "description_width": "initial"
          },
          "model_module_version": "1.5.0"
        },
        "60b453e2678941e080e61c58572d12e5": {
          "model_module": "@jupyter-widgets/base",
          "model_name": "LayoutModel",
          "state": {
            "_model_module": "@jupyter-widgets/base",
            "_model_module_version": "1.2.0",
            "_model_name": "LayoutModel",
            "_view_count": null,
            "_view_module": "@jupyter-widgets/base",
            "_view_module_version": "1.2.0",
            "_view_name": "LayoutView",
            "align_content": null,
            "align_items": null,
            "align_self": null,
            "border": null,
            "bottom": null,
            "display": null,
            "flex": null,
            "flex_flow": null,
            "grid_area": null,
            "grid_auto_columns": null,
            "grid_auto_flow": null,
            "grid_auto_rows": null,
            "grid_column": null,
            "grid_gap": null,
            "grid_row": null,
            "grid_template_areas": null,
            "grid_template_columns": null,
            "grid_template_rows": null,
            "height": null,
            "justify_content": null,
            "justify_items": null,
            "left": null,
            "margin": null,
            "max_height": null,
            "max_width": null,
            "min_height": null,
            "min_width": null,
            "object_fit": null,
            "object_position": null,
            "order": null,
            "overflow": null,
            "overflow_x": null,
            "overflow_y": null,
            "padding": null,
            "right": null,
            "top": null,
            "visibility": null,
            "width": null
          },
          "model_module_version": "1.2.0"
        },
        "0b2476b423b14d2d94f97b30959b8fae": {
          "model_module": "@jupyter-widgets/controls",
          "model_name": "DescriptionStyleModel",
          "state": {
            "_model_module": "@jupyter-widgets/controls",
            "_model_module_version": "1.5.0",
            "_model_name": "DescriptionStyleModel",
            "_view_count": null,
            "_view_module": "@jupyter-widgets/base",
            "_view_module_version": "1.2.0",
            "_view_name": "StyleView",
            "description_width": ""
          },
          "model_module_version": "1.5.0"
        },
        "56af8c52f7c942dbaaa05b3d6e77ae8a": {
          "model_module": "@jupyter-widgets/controls",
          "model_name": "HBoxModel",
          "state": {
            "_dom_classes": [],
            "_model_module": "@jupyter-widgets/controls",
            "_model_module_version": "1.5.0",
            "_model_name": "HBoxModel",
            "_view_count": null,
            "_view_module": "@jupyter-widgets/controls",
            "_view_module_version": "1.5.0",
            "_view_name": "HBoxView",
            "box_style": "",
            "children": [
              "IPY_MODEL_89132d4cdaa841a895a4c1f1f078b182",
              "IPY_MODEL_90cb6ca4732a491db3f1c63a8fd1d284"
            ],
            "layout": "IPY_MODEL_7abd2053332b4c149dd6ea236cb145b9"
          },
          "model_module_version": "1.5.0"
        },
        "89132d4cdaa841a895a4c1f1f078b182": {
          "model_module": "@jupyter-widgets/controls",
          "model_name": "FloatProgressModel",
          "state": {
            "_dom_classes": [],
            "_model_module": "@jupyter-widgets/controls",
            "_model_module_version": "1.5.0",
            "_model_name": "FloatProgressModel",
            "_view_count": null,
            "_view_module": "@jupyter-widgets/controls",
            "_view_module_version": "1.5.0",
            "_view_name": "ProgressView",
            "bar_style": "success",
            "description": "Thread 0 -&gt; stacking: 100%",
            "description_tooltip": null,
            "layout": "IPY_MODEL_f498026203a84ec6a89e12dcdfcf0a5b",
            "max": 100,
            "min": 0,
            "orientation": "horizontal",
            "style": "IPY_MODEL_b07dc766dae64f4a816b69b4ab3a9642",
            "value": 100
          },
          "model_module_version": "1.5.0"
        },
        "90cb6ca4732a491db3f1c63a8fd1d284": {
          "model_module": "@jupyter-widgets/controls",
          "model_name": "HTMLModel",
          "state": {
            "_dom_classes": [],
            "_model_module": "@jupyter-widgets/controls",
            "_model_module_version": "1.5.0",
            "_model_name": "HTMLModel",
            "_view_count": null,
            "_view_module": "@jupyter-widgets/controls",
            "_view_module_version": "1.5.0",
            "_view_name": "HTMLView",
            "description": "",
            "description_tooltip": null,
            "layout": "IPY_MODEL_45d122eb33ba4440b99be62dc54a2138",
            "placeholder": "​",
            "style": "IPY_MODEL_e10b88b0f4de4531a2963d501eab3a46",
            "value": " 100/100 [1:15:30&lt;00:00, 45.30s/it, best_score=0.9336379460400348, best_since_iter=22]"
          },
          "model_module_version": "1.5.0"
        },
        "7abd2053332b4c149dd6ea236cb145b9": {
          "model_module": "@jupyter-widgets/base",
          "model_name": "LayoutModel",
          "state": {
            "_model_module": "@jupyter-widgets/base",
            "_model_module_version": "1.2.0",
            "_model_name": "LayoutModel",
            "_view_count": null,
            "_view_module": "@jupyter-widgets/base",
            "_view_module_version": "1.2.0",
            "_view_name": "LayoutView",
            "align_content": null,
            "align_items": null,
            "align_self": null,
            "border": null,
            "bottom": null,
            "display": null,
            "flex": null,
            "flex_flow": null,
            "grid_area": null,
            "grid_auto_columns": null,
            "grid_auto_flow": null,
            "grid_auto_rows": null,
            "grid_column": null,
            "grid_gap": null,
            "grid_row": null,
            "grid_template_areas": null,
            "grid_template_columns": null,
            "grid_template_rows": null,
            "height": null,
            "justify_content": null,
            "justify_items": null,
            "left": null,
            "margin": null,
            "max_height": null,
            "max_width": null,
            "min_height": null,
            "min_width": null,
            "object_fit": null,
            "object_position": null,
            "order": null,
            "overflow": null,
            "overflow_x": null,
            "overflow_y": null,
            "padding": null,
            "right": null,
            "top": null,
            "visibility": null,
            "width": null
          },
          "model_module_version": "1.2.0"
        },
        "f498026203a84ec6a89e12dcdfcf0a5b": {
          "model_module": "@jupyter-widgets/base",
          "model_name": "LayoutModel",
          "state": {
            "_model_module": "@jupyter-widgets/base",
            "_model_module_version": "1.2.0",
            "_model_name": "LayoutModel",
            "_view_count": null,
            "_view_module": "@jupyter-widgets/base",
            "_view_module_version": "1.2.0",
            "_view_name": "LayoutView",
            "align_content": null,
            "align_items": null,
            "align_self": null,
            "border": null,
            "bottom": null,
            "display": null,
            "flex": null,
            "flex_flow": null,
            "grid_area": null,
            "grid_auto_columns": null,
            "grid_auto_flow": null,
            "grid_auto_rows": null,
            "grid_column": null,
            "grid_gap": null,
            "grid_row": null,
            "grid_template_areas": null,
            "grid_template_columns": null,
            "grid_template_rows": null,
            "height": null,
            "justify_content": null,
            "justify_items": null,
            "left": null,
            "margin": null,
            "max_height": null,
            "max_width": null,
            "min_height": null,
            "min_width": null,
            "object_fit": null,
            "object_position": null,
            "order": null,
            "overflow": null,
            "overflow_x": null,
            "overflow_y": null,
            "padding": null,
            "right": null,
            "top": null,
            "visibility": null,
            "width": null
          },
          "model_module_version": "1.2.0"
        },
        "b07dc766dae64f4a816b69b4ab3a9642": {
          "model_module": "@jupyter-widgets/controls",
          "model_name": "ProgressStyleModel",
          "state": {
            "_model_module": "@jupyter-widgets/controls",
            "_model_module_version": "1.5.0",
            "_model_name": "ProgressStyleModel",
            "_view_count": null,
            "_view_module": "@jupyter-widgets/base",
            "_view_module_version": "1.2.0",
            "_view_name": "StyleView",
            "bar_color": null,
            "description_width": "initial"
          },
          "model_module_version": "1.5.0"
        },
        "45d122eb33ba4440b99be62dc54a2138": {
          "model_module": "@jupyter-widgets/base",
          "model_name": "LayoutModel",
          "state": {
            "_model_module": "@jupyter-widgets/base",
            "_model_module_version": "1.2.0",
            "_model_name": "LayoutModel",
            "_view_count": null,
            "_view_module": "@jupyter-widgets/base",
            "_view_module_version": "1.2.0",
            "_view_name": "LayoutView",
            "align_content": null,
            "align_items": null,
            "align_self": null,
            "border": null,
            "bottom": null,
            "display": null,
            "flex": null,
            "flex_flow": null,
            "grid_area": null,
            "grid_auto_columns": null,
            "grid_auto_flow": null,
            "grid_auto_rows": null,
            "grid_column": null,
            "grid_gap": null,
            "grid_row": null,
            "grid_template_areas": null,
            "grid_template_columns": null,
            "grid_template_rows": null,
            "height": null,
            "justify_content": null,
            "justify_items": null,
            "left": null,
            "margin": null,
            "max_height": null,
            "max_width": null,
            "min_height": null,
            "min_width": null,
            "object_fit": null,
            "object_position": null,
            "order": null,
            "overflow": null,
            "overflow_x": null,
            "overflow_y": null,
            "padding": null,
            "right": null,
            "top": null,
            "visibility": null,
            "width": null
          },
          "model_module_version": "1.2.0"
        },
        "e10b88b0f4de4531a2963d501eab3a46": {
          "model_module": "@jupyter-widgets/controls",
          "model_name": "DescriptionStyleModel",
          "state": {
            "_model_module": "@jupyter-widgets/controls",
            "_model_module_version": "1.5.0",
            "_model_name": "DescriptionStyleModel",
            "_view_count": null,
            "_view_module": "@jupyter-widgets/base",
            "_view_module_version": "1.2.0",
            "_view_name": "StyleView",
            "description_width": ""
          },
          "model_module_version": "1.5.0"
        },
        "65c1289fdc664500b6158bd3bb435281": {
          "model_module": "@jupyter-widgets/controls",
          "model_name": "HBoxModel",
          "state": {
            "_dom_classes": [],
            "_model_module": "@jupyter-widgets/controls",
            "_model_module_version": "1.5.0",
            "_model_name": "HBoxModel",
            "_view_count": null,
            "_view_module": "@jupyter-widgets/controls",
            "_view_module_version": "1.5.0",
            "_view_name": "HBoxView",
            "box_style": "",
            "children": [
              "IPY_MODEL_f242d8e4fcf5465ea0abdbdc597c702b",
              "IPY_MODEL_ef241be0883d40918f09a31cdaf4cd6a"
            ],
            "layout": "IPY_MODEL_7ea36d2ef85146ada52a35209a86c481"
          },
          "model_module_version": "1.5.0"
        },
        "f242d8e4fcf5465ea0abdbdc597c702b": {
          "model_module": "@jupyter-widgets/controls",
          "model_name": "FloatProgressModel",
          "state": {
            "_dom_classes": [],
            "_model_module": "@jupyter-widgets/controls",
            "_model_module_version": "1.5.0",
            "_model_name": "FloatProgressModel",
            "_view_count": null,
            "_view_module": "@jupyter-widgets/controls",
            "_view_module_version": "1.5.0",
            "_view_name": "ProgressView",
            "bar_style": "success",
            "description": "Thread 0 -&gt; stacking: 100%",
            "description_tooltip": null,
            "layout": "IPY_MODEL_0c3a3a1ac8284660b0ac15c632738395",
            "max": 50,
            "min": 0,
            "orientation": "horizontal",
            "style": "IPY_MODEL_2bc21099bce94e89b3921e8b703177e0",
            "value": 50
          },
          "model_module_version": "1.5.0"
        },
        "ef241be0883d40918f09a31cdaf4cd6a": {
          "model_module": "@jupyter-widgets/controls",
          "model_name": "HTMLModel",
          "state": {
            "_dom_classes": [],
            "_model_module": "@jupyter-widgets/controls",
            "_model_module_version": "1.5.0",
            "_model_name": "HTMLModel",
            "_view_count": null,
            "_view_module": "@jupyter-widgets/controls",
            "_view_module_version": "1.5.0",
            "_view_name": "HTMLView",
            "description": "",
            "description_tooltip": null,
            "layout": "IPY_MODEL_5fb113fcccfb48209ca5703f0ef33ddd",
            "placeholder": "​",
            "style": "IPY_MODEL_8020ba4703c1471bae4d01ef6dc84030",
            "value": " 50/50 [00:29&lt;00:00,  1.69it/s, best_score=0.9338555265448215, best_since_iter=0]"
          },
          "model_module_version": "1.5.0"
        },
        "7ea36d2ef85146ada52a35209a86c481": {
          "model_module": "@jupyter-widgets/base",
          "model_name": "LayoutModel",
          "state": {
            "_model_module": "@jupyter-widgets/base",
            "_model_module_version": "1.2.0",
            "_model_name": "LayoutModel",
            "_view_count": null,
            "_view_module": "@jupyter-widgets/base",
            "_view_module_version": "1.2.0",
            "_view_name": "LayoutView",
            "align_content": null,
            "align_items": null,
            "align_self": null,
            "border": null,
            "bottom": null,
            "display": null,
            "flex": null,
            "flex_flow": null,
            "grid_area": null,
            "grid_auto_columns": null,
            "grid_auto_flow": null,
            "grid_auto_rows": null,
            "grid_column": null,
            "grid_gap": null,
            "grid_row": null,
            "grid_template_areas": null,
            "grid_template_columns": null,
            "grid_template_rows": null,
            "height": null,
            "justify_content": null,
            "justify_items": null,
            "left": null,
            "margin": null,
            "max_height": null,
            "max_width": null,
            "min_height": null,
            "min_width": null,
            "object_fit": null,
            "object_position": null,
            "order": null,
            "overflow": null,
            "overflow_x": null,
            "overflow_y": null,
            "padding": null,
            "right": null,
            "top": null,
            "visibility": null,
            "width": null
          },
          "model_module_version": "1.2.0"
        },
        "0c3a3a1ac8284660b0ac15c632738395": {
          "model_module": "@jupyter-widgets/base",
          "model_name": "LayoutModel",
          "state": {
            "_model_module": "@jupyter-widgets/base",
            "_model_module_version": "1.2.0",
            "_model_name": "LayoutModel",
            "_view_count": null,
            "_view_module": "@jupyter-widgets/base",
            "_view_module_version": "1.2.0",
            "_view_name": "LayoutView",
            "align_content": null,
            "align_items": null,
            "align_self": null,
            "border": null,
            "bottom": null,
            "display": null,
            "flex": null,
            "flex_flow": null,
            "grid_area": null,
            "grid_auto_columns": null,
            "grid_auto_flow": null,
            "grid_auto_rows": null,
            "grid_column": null,
            "grid_gap": null,
            "grid_row": null,
            "grid_template_areas": null,
            "grid_template_columns": null,
            "grid_template_rows": null,
            "height": null,
            "justify_content": null,
            "justify_items": null,
            "left": null,
            "margin": null,
            "max_height": null,
            "max_width": null,
            "min_height": null,
            "min_width": null,
            "object_fit": null,
            "object_position": null,
            "order": null,
            "overflow": null,
            "overflow_x": null,
            "overflow_y": null,
            "padding": null,
            "right": null,
            "top": null,
            "visibility": null,
            "width": null
          },
          "model_module_version": "1.2.0"
        },
        "2bc21099bce94e89b3921e8b703177e0": {
          "model_module": "@jupyter-widgets/controls",
          "model_name": "ProgressStyleModel",
          "state": {
            "_model_module": "@jupyter-widgets/controls",
            "_model_module_version": "1.5.0",
            "_model_name": "ProgressStyleModel",
            "_view_count": null,
            "_view_module": "@jupyter-widgets/base",
            "_view_module_version": "1.2.0",
            "_view_name": "StyleView",
            "bar_color": null,
            "description_width": "initial"
          },
          "model_module_version": "1.5.0"
        },
        "5fb113fcccfb48209ca5703f0ef33ddd": {
          "model_module": "@jupyter-widgets/base",
          "model_name": "LayoutModel",
          "state": {
            "_model_module": "@jupyter-widgets/base",
            "_model_module_version": "1.2.0",
            "_model_name": "LayoutModel",
            "_view_count": null,
            "_view_module": "@jupyter-widgets/base",
            "_view_module_version": "1.2.0",
            "_view_name": "LayoutView",
            "align_content": null,
            "align_items": null,
            "align_self": null,
            "border": null,
            "bottom": null,
            "display": null,
            "flex": null,
            "flex_flow": null,
            "grid_area": null,
            "grid_auto_columns": null,
            "grid_auto_flow": null,
            "grid_auto_rows": null,
            "grid_column": null,
            "grid_gap": null,
            "grid_row": null,
            "grid_template_areas": null,
            "grid_template_columns": null,
            "grid_template_rows": null,
            "height": null,
            "justify_content": null,
            "justify_items": null,
            "left": null,
            "margin": null,
            "max_height": null,
            "max_width": null,
            "min_height": null,
            "min_width": null,
            "object_fit": null,
            "object_position": null,
            "order": null,
            "overflow": null,
            "overflow_x": null,
            "overflow_y": null,
            "padding": null,
            "right": null,
            "top": null,
            "visibility": null,
            "width": null
          },
          "model_module_version": "1.2.0"
        },
        "8020ba4703c1471bae4d01ef6dc84030": {
          "model_module": "@jupyter-widgets/controls",
          "model_name": "DescriptionStyleModel",
          "state": {
            "_model_module": "@jupyter-widgets/controls",
            "_model_module_version": "1.5.0",
            "_model_name": "DescriptionStyleModel",
            "_view_count": null,
            "_view_module": "@jupyter-widgets/base",
            "_view_module_version": "1.2.0",
            "_view_name": "StyleView",
            "description_width": ""
          },
          "model_module_version": "1.5.0"
        },
        "fba3985fb8e140aba380d738d616f0ac": {
          "model_module": "@jupyter-widgets/controls",
          "model_name": "HBoxModel",
          "state": {
            "_dom_classes": [],
            "_model_module": "@jupyter-widgets/controls",
            "_model_module_version": "1.5.0",
            "_model_name": "HBoxModel",
            "_view_count": null,
            "_view_module": "@jupyter-widgets/controls",
            "_view_module_version": "1.5.0",
            "_view_name": "HBoxView",
            "box_style": "",
            "children": [
              "IPY_MODEL_458f8336ccb04437be64ca6cee27d370",
              "IPY_MODEL_6c42db65dd284cf5b01b283b94a30547"
            ],
            "layout": "IPY_MODEL_0abe9512fbfd470699aa992b6c4f125a"
          },
          "model_module_version": "1.5.0"
        },
        "458f8336ccb04437be64ca6cee27d370": {
          "model_module": "@jupyter-widgets/controls",
          "model_name": "FloatProgressModel",
          "state": {
            "_dom_classes": [],
            "_model_module": "@jupyter-widgets/controls",
            "_model_module_version": "1.5.0",
            "_model_name": "FloatProgressModel",
            "_view_count": null,
            "_view_module": "@jupyter-widgets/controls",
            "_view_module_version": "1.5.0",
            "_view_name": "ProgressView",
            "bar_style": "success",
            "description": "Thread 1 -&gt; stacking: 100%",
            "description_tooltip": null,
            "layout": "IPY_MODEL_53c81cd47f734103ac0b16b8f71b6b7a",
            "max": 50,
            "min": 0,
            "orientation": "horizontal",
            "style": "IPY_MODEL_ae3187770e0a4008bfb1b19335b5bb30",
            "value": 50
          },
          "model_module_version": "1.5.0"
        },
        "6c42db65dd284cf5b01b283b94a30547": {
          "model_module": "@jupyter-widgets/controls",
          "model_name": "HTMLModel",
          "state": {
            "_dom_classes": [],
            "_model_module": "@jupyter-widgets/controls",
            "_model_module_version": "1.5.0",
            "_model_name": "HTMLModel",
            "_view_count": null,
            "_view_module": "@jupyter-widgets/controls",
            "_view_module_version": "1.5.0",
            "_view_name": "HTMLView",
            "description": "",
            "description_tooltip": null,
            "layout": "IPY_MODEL_a1e1e69a8e374ce4b6f5405a975855d6",
            "placeholder": "​",
            "style": "IPY_MODEL_d7a355b7910f42e4a285289ecf1ae832",
            "value": " 50/50 [00:29&lt;00:00,  1.70it/s, best_score=0.9338555265448215, best_since_iter=0]"
          },
          "model_module_version": "1.5.0"
        },
        "0abe9512fbfd470699aa992b6c4f125a": {
          "model_module": "@jupyter-widgets/base",
          "model_name": "LayoutModel",
          "state": {
            "_model_module": "@jupyter-widgets/base",
            "_model_module_version": "1.2.0",
            "_model_name": "LayoutModel",
            "_view_count": null,
            "_view_module": "@jupyter-widgets/base",
            "_view_module_version": "1.2.0",
            "_view_name": "LayoutView",
            "align_content": null,
            "align_items": null,
            "align_self": null,
            "border": null,
            "bottom": null,
            "display": null,
            "flex": null,
            "flex_flow": null,
            "grid_area": null,
            "grid_auto_columns": null,
            "grid_auto_flow": null,
            "grid_auto_rows": null,
            "grid_column": null,
            "grid_gap": null,
            "grid_row": null,
            "grid_template_areas": null,
            "grid_template_columns": null,
            "grid_template_rows": null,
            "height": null,
            "justify_content": null,
            "justify_items": null,
            "left": null,
            "margin": null,
            "max_height": null,
            "max_width": null,
            "min_height": null,
            "min_width": null,
            "object_fit": null,
            "object_position": null,
            "order": null,
            "overflow": null,
            "overflow_x": null,
            "overflow_y": null,
            "padding": null,
            "right": null,
            "top": null,
            "visibility": null,
            "width": null
          },
          "model_module_version": "1.2.0"
        },
        "53c81cd47f734103ac0b16b8f71b6b7a": {
          "model_module": "@jupyter-widgets/base",
          "model_name": "LayoutModel",
          "state": {
            "_model_module": "@jupyter-widgets/base",
            "_model_module_version": "1.2.0",
            "_model_name": "LayoutModel",
            "_view_count": null,
            "_view_module": "@jupyter-widgets/base",
            "_view_module_version": "1.2.0",
            "_view_name": "LayoutView",
            "align_content": null,
            "align_items": null,
            "align_self": null,
            "border": null,
            "bottom": null,
            "display": null,
            "flex": null,
            "flex_flow": null,
            "grid_area": null,
            "grid_auto_columns": null,
            "grid_auto_flow": null,
            "grid_auto_rows": null,
            "grid_column": null,
            "grid_gap": null,
            "grid_row": null,
            "grid_template_areas": null,
            "grid_template_columns": null,
            "grid_template_rows": null,
            "height": null,
            "justify_content": null,
            "justify_items": null,
            "left": null,
            "margin": null,
            "max_height": null,
            "max_width": null,
            "min_height": null,
            "min_width": null,
            "object_fit": null,
            "object_position": null,
            "order": null,
            "overflow": null,
            "overflow_x": null,
            "overflow_y": null,
            "padding": null,
            "right": null,
            "top": null,
            "visibility": null,
            "width": null
          },
          "model_module_version": "1.2.0"
        },
        "ae3187770e0a4008bfb1b19335b5bb30": {
          "model_module": "@jupyter-widgets/controls",
          "model_name": "ProgressStyleModel",
          "state": {
            "_model_module": "@jupyter-widgets/controls",
            "_model_module_version": "1.5.0",
            "_model_name": "ProgressStyleModel",
            "_view_count": null,
            "_view_module": "@jupyter-widgets/base",
            "_view_module_version": "1.2.0",
            "_view_name": "StyleView",
            "bar_color": null,
            "description_width": "initial"
          },
          "model_module_version": "1.5.0"
        },
        "a1e1e69a8e374ce4b6f5405a975855d6": {
          "model_module": "@jupyter-widgets/base",
          "model_name": "LayoutModel",
          "state": {
            "_model_module": "@jupyter-widgets/base",
            "_model_module_version": "1.2.0",
            "_model_name": "LayoutModel",
            "_view_count": null,
            "_view_module": "@jupyter-widgets/base",
            "_view_module_version": "1.2.0",
            "_view_name": "LayoutView",
            "align_content": null,
            "align_items": null,
            "align_self": null,
            "border": null,
            "bottom": null,
            "display": null,
            "flex": null,
            "flex_flow": null,
            "grid_area": null,
            "grid_auto_columns": null,
            "grid_auto_flow": null,
            "grid_auto_rows": null,
            "grid_column": null,
            "grid_gap": null,
            "grid_row": null,
            "grid_template_areas": null,
            "grid_template_columns": null,
            "grid_template_rows": null,
            "height": null,
            "justify_content": null,
            "justify_items": null,
            "left": null,
            "margin": null,
            "max_height": null,
            "max_width": null,
            "min_height": null,
            "min_width": null,
            "object_fit": null,
            "object_position": null,
            "order": null,
            "overflow": null,
            "overflow_x": null,
            "overflow_y": null,
            "padding": null,
            "right": null,
            "top": null,
            "visibility": null,
            "width": null
          },
          "model_module_version": "1.2.0"
        },
        "d7a355b7910f42e4a285289ecf1ae832": {
          "model_module": "@jupyter-widgets/controls",
          "model_name": "DescriptionStyleModel",
          "state": {
            "_model_module": "@jupyter-widgets/controls",
            "_model_module_version": "1.5.0",
            "_model_name": "DescriptionStyleModel",
            "_view_count": null,
            "_view_module": "@jupyter-widgets/base",
            "_view_module_version": "1.2.0",
            "_view_name": "StyleView",
            "description_width": ""
          },
          "model_module_version": "1.5.0"
        },
        "ee25295906b846e99788f299cf2551bc": {
          "model_module": "@jupyter-widgets/controls",
          "model_name": "HBoxModel",
          "state": {
            "_dom_classes": [],
            "_model_module": "@jupyter-widgets/controls",
            "_model_module_version": "1.5.0",
            "_model_name": "HBoxModel",
            "_view_count": null,
            "_view_module": "@jupyter-widgets/controls",
            "_view_module_version": "1.5.0",
            "_view_name": "HBoxView",
            "box_style": "",
            "children": [
              "IPY_MODEL_57cc70a44eb246bcaef60f909b7f4354",
              "IPY_MODEL_f04351074e4c4b5898d3c2abe7f96b1a"
            ],
            "layout": "IPY_MODEL_e0f4b6a5ebef43de84e750250282938f"
          },
          "model_module_version": "1.5.0"
        },
        "57cc70a44eb246bcaef60f909b7f4354": {
          "model_module": "@jupyter-widgets/controls",
          "model_name": "FloatProgressModel",
          "state": {
            "_dom_classes": [],
            "_model_module": "@jupyter-widgets/controls",
            "_model_module_version": "1.5.0",
            "_model_name": "FloatProgressModel",
            "_view_count": null,
            "_view_module": "@jupyter-widgets/controls",
            "_view_module_version": "1.5.0",
            "_view_name": "ProgressView",
            "bar_style": "success",
            "description": "Thread 0 -&gt; model: 100%",
            "description_tooltip": null,
            "layout": "IPY_MODEL_4e5f915b7d924431b57b8999078aed0c",
            "max": 100,
            "min": 0,
            "orientation": "horizontal",
            "style": "IPY_MODEL_9257b349e7c94868aa2f7eb763a6f8a0",
            "value": 100
          },
          "model_module_version": "1.5.0"
        },
        "f04351074e4c4b5898d3c2abe7f96b1a": {
          "model_module": "@jupyter-widgets/controls",
          "model_name": "HTMLModel",
          "state": {
            "_dom_classes": [],
            "_model_module": "@jupyter-widgets/controls",
            "_model_module_version": "1.5.0",
            "_model_name": "HTMLModel",
            "_view_count": null,
            "_view_module": "@jupyter-widgets/controls",
            "_view_module_version": "1.5.0",
            "_view_name": "HTMLView",
            "description": "",
            "description_tooltip": null,
            "layout": "IPY_MODEL_e9389861ca024ba089003f80ec9b080e",
            "placeholder": "​",
            "style": "IPY_MODEL_aa159f8035374636906435e50bd289f0",
            "value": " 100/100 [1:49:44&lt;00:00, 65.85s/it, best_score=0.934508268059182, best_since_iter=62]"
          },
          "model_module_version": "1.5.0"
        },
        "e0f4b6a5ebef43de84e750250282938f": {
          "model_module": "@jupyter-widgets/base",
          "model_name": "LayoutModel",
          "state": {
            "_model_module": "@jupyter-widgets/base",
            "_model_module_version": "1.2.0",
            "_model_name": "LayoutModel",
            "_view_count": null,
            "_view_module": "@jupyter-widgets/base",
            "_view_module_version": "1.2.0",
            "_view_name": "LayoutView",
            "align_content": null,
            "align_items": null,
            "align_self": null,
            "border": null,
            "bottom": null,
            "display": null,
            "flex": null,
            "flex_flow": null,
            "grid_area": null,
            "grid_auto_columns": null,
            "grid_auto_flow": null,
            "grid_auto_rows": null,
            "grid_column": null,
            "grid_gap": null,
            "grid_row": null,
            "grid_template_areas": null,
            "grid_template_columns": null,
            "grid_template_rows": null,
            "height": null,
            "justify_content": null,
            "justify_items": null,
            "left": null,
            "margin": null,
            "max_height": null,
            "max_width": null,
            "min_height": null,
            "min_width": null,
            "object_fit": null,
            "object_position": null,
            "order": null,
            "overflow": null,
            "overflow_x": null,
            "overflow_y": null,
            "padding": null,
            "right": null,
            "top": null,
            "visibility": null,
            "width": null
          },
          "model_module_version": "1.2.0"
        },
        "4e5f915b7d924431b57b8999078aed0c": {
          "model_module": "@jupyter-widgets/base",
          "model_name": "LayoutModel",
          "state": {
            "_model_module": "@jupyter-widgets/base",
            "_model_module_version": "1.2.0",
            "_model_name": "LayoutModel",
            "_view_count": null,
            "_view_module": "@jupyter-widgets/base",
            "_view_module_version": "1.2.0",
            "_view_name": "LayoutView",
            "align_content": null,
            "align_items": null,
            "align_self": null,
            "border": null,
            "bottom": null,
            "display": null,
            "flex": null,
            "flex_flow": null,
            "grid_area": null,
            "grid_auto_columns": null,
            "grid_auto_flow": null,
            "grid_auto_rows": null,
            "grid_column": null,
            "grid_gap": null,
            "grid_row": null,
            "grid_template_areas": null,
            "grid_template_columns": null,
            "grid_template_rows": null,
            "height": null,
            "justify_content": null,
            "justify_items": null,
            "left": null,
            "margin": null,
            "max_height": null,
            "max_width": null,
            "min_height": null,
            "min_width": null,
            "object_fit": null,
            "object_position": null,
            "order": null,
            "overflow": null,
            "overflow_x": null,
            "overflow_y": null,
            "padding": null,
            "right": null,
            "top": null,
            "visibility": null,
            "width": null
          },
          "model_module_version": "1.2.0"
        },
        "9257b349e7c94868aa2f7eb763a6f8a0": {
          "model_module": "@jupyter-widgets/controls",
          "model_name": "ProgressStyleModel",
          "state": {
            "_model_module": "@jupyter-widgets/controls",
            "_model_module_version": "1.5.0",
            "_model_name": "ProgressStyleModel",
            "_view_count": null,
            "_view_module": "@jupyter-widgets/base",
            "_view_module_version": "1.2.0",
            "_view_name": "StyleView",
            "bar_color": null,
            "description_width": "initial"
          },
          "model_module_version": "1.5.0"
        },
        "e9389861ca024ba089003f80ec9b080e": {
          "model_module": "@jupyter-widgets/base",
          "model_name": "LayoutModel",
          "state": {
            "_model_module": "@jupyter-widgets/base",
            "_model_module_version": "1.2.0",
            "_model_name": "LayoutModel",
            "_view_count": null,
            "_view_module": "@jupyter-widgets/base",
            "_view_module_version": "1.2.0",
            "_view_name": "LayoutView",
            "align_content": null,
            "align_items": null,
            "align_self": null,
            "border": null,
            "bottom": null,
            "display": null,
            "flex": null,
            "flex_flow": null,
            "grid_area": null,
            "grid_auto_columns": null,
            "grid_auto_flow": null,
            "grid_auto_rows": null,
            "grid_column": null,
            "grid_gap": null,
            "grid_row": null,
            "grid_template_areas": null,
            "grid_template_columns": null,
            "grid_template_rows": null,
            "height": null,
            "justify_content": null,
            "justify_items": null,
            "left": null,
            "margin": null,
            "max_height": null,
            "max_width": null,
            "min_height": null,
            "min_width": null,
            "object_fit": null,
            "object_position": null,
            "order": null,
            "overflow": null,
            "overflow_x": null,
            "overflow_y": null,
            "padding": null,
            "right": null,
            "top": null,
            "visibility": null,
            "width": null
          },
          "model_module_version": "1.2.0"
        },
        "aa159f8035374636906435e50bd289f0": {
          "model_module": "@jupyter-widgets/controls",
          "model_name": "DescriptionStyleModel",
          "state": {
            "_model_module": "@jupyter-widgets/controls",
            "_model_module_version": "1.5.0",
            "_model_name": "DescriptionStyleModel",
            "_view_count": null,
            "_view_module": "@jupyter-widgets/base",
            "_view_module_version": "1.2.0",
            "_view_name": "StyleView",
            "description_width": ""
          },
          "model_module_version": "1.5.0"
        },
        "f78b834028064acf8575015101fab2f7": {
          "model_module": "@jupyter-widgets/controls",
          "model_name": "HBoxModel",
          "state": {
            "_dom_classes": [],
            "_model_module": "@jupyter-widgets/controls",
            "_model_module_version": "1.5.0",
            "_model_name": "HBoxModel",
            "_view_count": null,
            "_view_module": "@jupyter-widgets/controls",
            "_view_module_version": "1.5.0",
            "_view_name": "HBoxView",
            "box_style": "",
            "children": [
              "IPY_MODEL_962faa37c7634fa7bef4c9810b4fa857",
              "IPY_MODEL_8b0e50d7e3454d599f1772d613777455"
            ],
            "layout": "IPY_MODEL_09b33b217c3146c892aae8272c63a8ca"
          },
          "model_module_version": "1.5.0"
        },
        "962faa37c7634fa7bef4c9810b4fa857": {
          "model_module": "@jupyter-widgets/controls",
          "model_name": "FloatProgressModel",
          "state": {
            "_dom_classes": [],
            "_model_module": "@jupyter-widgets/controls",
            "_model_module_version": "1.5.0",
            "_model_name": "FloatProgressModel",
            "_view_count": null,
            "_view_module": "@jupyter-widgets/controls",
            "_view_module_version": "1.5.0",
            "_view_name": "ProgressView",
            "bar_style": "success",
            "description": "Thread 0 -&gt; model: 100%",
            "description_tooltip": null,
            "layout": "IPY_MODEL_9b78190bd3ba4065b697908531b0be26",
            "max": 100,
            "min": 0,
            "orientation": "horizontal",
            "style": "IPY_MODEL_f0bb7e94b3ec4bc0892ed3d5537d352e",
            "value": 100
          },
          "model_module_version": "1.5.0"
        },
        "8b0e50d7e3454d599f1772d613777455": {
          "model_module": "@jupyter-widgets/controls",
          "model_name": "HTMLModel",
          "state": {
            "_dom_classes": [],
            "_model_module": "@jupyter-widgets/controls",
            "_model_module_version": "1.5.0",
            "_model_name": "HTMLModel",
            "_view_count": null,
            "_view_module": "@jupyter-widgets/controls",
            "_view_module_version": "1.5.0",
            "_view_name": "HTMLView",
            "description": "",
            "description_tooltip": null,
            "layout": "IPY_MODEL_ffe59638ea584c468413c6178cff1693",
            "placeholder": "​",
            "style": "IPY_MODEL_58f56527ff714506a7cc382803565716",
            "value": " 100/100 [43:25&lt;00:00, 26.05s/it, best_score=0.934508268059182, best_since_iter=73]"
          },
          "model_module_version": "1.5.0"
        },
        "09b33b217c3146c892aae8272c63a8ca": {
          "model_module": "@jupyter-widgets/base",
          "model_name": "LayoutModel",
          "state": {
            "_model_module": "@jupyter-widgets/base",
            "_model_module_version": "1.2.0",
            "_model_name": "LayoutModel",
            "_view_count": null,
            "_view_module": "@jupyter-widgets/base",
            "_view_module_version": "1.2.0",
            "_view_name": "LayoutView",
            "align_content": null,
            "align_items": null,
            "align_self": null,
            "border": null,
            "bottom": null,
            "display": null,
            "flex": null,
            "flex_flow": null,
            "grid_area": null,
            "grid_auto_columns": null,
            "grid_auto_flow": null,
            "grid_auto_rows": null,
            "grid_column": null,
            "grid_gap": null,
            "grid_row": null,
            "grid_template_areas": null,
            "grid_template_columns": null,
            "grid_template_rows": null,
            "height": null,
            "justify_content": null,
            "justify_items": null,
            "left": null,
            "margin": null,
            "max_height": null,
            "max_width": null,
            "min_height": null,
            "min_width": null,
            "object_fit": null,
            "object_position": null,
            "order": null,
            "overflow": null,
            "overflow_x": null,
            "overflow_y": null,
            "padding": null,
            "right": null,
            "top": null,
            "visibility": null,
            "width": null
          },
          "model_module_version": "1.2.0"
        },
        "9b78190bd3ba4065b697908531b0be26": {
          "model_module": "@jupyter-widgets/base",
          "model_name": "LayoutModel",
          "state": {
            "_model_module": "@jupyter-widgets/base",
            "_model_module_version": "1.2.0",
            "_model_name": "LayoutModel",
            "_view_count": null,
            "_view_module": "@jupyter-widgets/base",
            "_view_module_version": "1.2.0",
            "_view_name": "LayoutView",
            "align_content": null,
            "align_items": null,
            "align_self": null,
            "border": null,
            "bottom": null,
            "display": null,
            "flex": null,
            "flex_flow": null,
            "grid_area": null,
            "grid_auto_columns": null,
            "grid_auto_flow": null,
            "grid_auto_rows": null,
            "grid_column": null,
            "grid_gap": null,
            "grid_row": null,
            "grid_template_areas": null,
            "grid_template_columns": null,
            "grid_template_rows": null,
            "height": null,
            "justify_content": null,
            "justify_items": null,
            "left": null,
            "margin": null,
            "max_height": null,
            "max_width": null,
            "min_height": null,
            "min_width": null,
            "object_fit": null,
            "object_position": null,
            "order": null,
            "overflow": null,
            "overflow_x": null,
            "overflow_y": null,
            "padding": null,
            "right": null,
            "top": null,
            "visibility": null,
            "width": null
          },
          "model_module_version": "1.2.0"
        },
        "f0bb7e94b3ec4bc0892ed3d5537d352e": {
          "model_module": "@jupyter-widgets/controls",
          "model_name": "ProgressStyleModel",
          "state": {
            "_model_module": "@jupyter-widgets/controls",
            "_model_module_version": "1.5.0",
            "_model_name": "ProgressStyleModel",
            "_view_count": null,
            "_view_module": "@jupyter-widgets/base",
            "_view_module_version": "1.2.0",
            "_view_name": "StyleView",
            "bar_color": null,
            "description_width": "initial"
          },
          "model_module_version": "1.5.0"
        },
        "ffe59638ea584c468413c6178cff1693": {
          "model_module": "@jupyter-widgets/base",
          "model_name": "LayoutModel",
          "state": {
            "_model_module": "@jupyter-widgets/base",
            "_model_module_version": "1.2.0",
            "_model_name": "LayoutModel",
            "_view_count": null,
            "_view_module": "@jupyter-widgets/base",
            "_view_module_version": "1.2.0",
            "_view_name": "LayoutView",
            "align_content": null,
            "align_items": null,
            "align_self": null,
            "border": null,
            "bottom": null,
            "display": null,
            "flex": null,
            "flex_flow": null,
            "grid_area": null,
            "grid_auto_columns": null,
            "grid_auto_flow": null,
            "grid_auto_rows": null,
            "grid_column": null,
            "grid_gap": null,
            "grid_row": null,
            "grid_template_areas": null,
            "grid_template_columns": null,
            "grid_template_rows": null,
            "height": null,
            "justify_content": null,
            "justify_items": null,
            "left": null,
            "margin": null,
            "max_height": null,
            "max_width": null,
            "min_height": null,
            "min_width": null,
            "object_fit": null,
            "object_position": null,
            "order": null,
            "overflow": null,
            "overflow_x": null,
            "overflow_y": null,
            "padding": null,
            "right": null,
            "top": null,
            "visibility": null,
            "width": null
          },
          "model_module_version": "1.2.0"
        },
        "58f56527ff714506a7cc382803565716": {
          "model_module": "@jupyter-widgets/controls",
          "model_name": "DescriptionStyleModel",
          "state": {
            "_model_module": "@jupyter-widgets/controls",
            "_model_module_version": "1.5.0",
            "_model_name": "DescriptionStyleModel",
            "_view_count": null,
            "_view_module": "@jupyter-widgets/base",
            "_view_module_version": "1.2.0",
            "_view_name": "StyleView",
            "description_width": ""
          },
          "model_module_version": "1.5.0"
        },
        "656cb666346a4ccda2f61efa2a4b7e36": {
          "model_module": "@jupyter-widgets/controls",
          "model_name": "HBoxModel",
          "state": {
            "_dom_classes": [],
            "_model_module": "@jupyter-widgets/controls",
            "_model_module_version": "1.5.0",
            "_model_name": "HBoxModel",
            "_view_count": null,
            "_view_module": "@jupyter-widgets/controls",
            "_view_module_version": "1.5.0",
            "_view_name": "HBoxView",
            "box_style": "",
            "children": [
              "IPY_MODEL_16ae6d94dc6e492c99a7afe9f0d96322",
              "IPY_MODEL_acc1dbd3b54c4f979baf64fcdf3bf45b"
            ],
            "layout": "IPY_MODEL_d02f42ba54d14ba884edf3dd04b256ab"
          },
          "model_module_version": "1.5.0"
        },
        "16ae6d94dc6e492c99a7afe9f0d96322": {
          "model_module": "@jupyter-widgets/controls",
          "model_name": "FloatProgressModel",
          "state": {
            "_dom_classes": [],
            "_model_module": "@jupyter-widgets/controls",
            "_model_module_version": "1.5.0",
            "_model_name": "FloatProgressModel",
            "_view_count": null,
            "_view_module": "@jupyter-widgets/controls",
            "_view_module_version": "1.5.0",
            "_view_name": "ProgressView",
            "bar_style": "",
            "description": "Thread 0 -&gt; model:   3%",
            "description_tooltip": null,
            "layout": "IPY_MODEL_6a61c8814c8d4ca0b4bb00f20c953b30",
            "max": 100,
            "min": 0,
            "orientation": "horizontal",
            "style": "IPY_MODEL_f5b4dd1541dd4fff8d80a07aa113eebd",
            "value": 3
          },
          "model_module_version": "1.5.0"
        },
        "acc1dbd3b54c4f979baf64fcdf3bf45b": {
          "model_module": "@jupyter-widgets/controls",
          "model_name": "HTMLModel",
          "state": {
            "_dom_classes": [],
            "_model_module": "@jupyter-widgets/controls",
            "_model_module_version": "1.5.0",
            "_model_name": "HTMLModel",
            "_view_count": null,
            "_view_module": "@jupyter-widgets/controls",
            "_view_module_version": "1.5.0",
            "_view_name": "HTMLView",
            "description": "",
            "description_tooltip": null,
            "layout": "IPY_MODEL_11a6c4b1b749466a8a37b6d47148a9f5",
            "placeholder": "​",
            "style": "IPY_MODEL_b9af5e414bee44b4ae7b2709f1a00668",
            "value": " 3/100 [1:54:42&lt;61:17:48, 2274.93s/it, best_score=0.9338555265448215, best_since_iter=0]"
          },
          "model_module_version": "1.5.0"
        },
        "d02f42ba54d14ba884edf3dd04b256ab": {
          "model_module": "@jupyter-widgets/base",
          "model_name": "LayoutModel",
          "state": {
            "_model_module": "@jupyter-widgets/base",
            "_model_module_version": "1.2.0",
            "_model_name": "LayoutModel",
            "_view_count": null,
            "_view_module": "@jupyter-widgets/base",
            "_view_module_version": "1.2.0",
            "_view_name": "LayoutView",
            "align_content": null,
            "align_items": null,
            "align_self": null,
            "border": null,
            "bottom": null,
            "display": null,
            "flex": null,
            "flex_flow": null,
            "grid_area": null,
            "grid_auto_columns": null,
            "grid_auto_flow": null,
            "grid_auto_rows": null,
            "grid_column": null,
            "grid_gap": null,
            "grid_row": null,
            "grid_template_areas": null,
            "grid_template_columns": null,
            "grid_template_rows": null,
            "height": null,
            "justify_content": null,
            "justify_items": null,
            "left": null,
            "margin": null,
            "max_height": null,
            "max_width": null,
            "min_height": null,
            "min_width": null,
            "object_fit": null,
            "object_position": null,
            "order": null,
            "overflow": null,
            "overflow_x": null,
            "overflow_y": null,
            "padding": null,
            "right": null,
            "top": null,
            "visibility": null,
            "width": null
          },
          "model_module_version": "1.2.0"
        },
        "6a61c8814c8d4ca0b4bb00f20c953b30": {
          "model_module": "@jupyter-widgets/base",
          "model_name": "LayoutModel",
          "state": {
            "_model_module": "@jupyter-widgets/base",
            "_model_module_version": "1.2.0",
            "_model_name": "LayoutModel",
            "_view_count": null,
            "_view_module": "@jupyter-widgets/base",
            "_view_module_version": "1.2.0",
            "_view_name": "LayoutView",
            "align_content": null,
            "align_items": null,
            "align_self": null,
            "border": null,
            "bottom": null,
            "display": null,
            "flex": null,
            "flex_flow": null,
            "grid_area": null,
            "grid_auto_columns": null,
            "grid_auto_flow": null,
            "grid_auto_rows": null,
            "grid_column": null,
            "grid_gap": null,
            "grid_row": null,
            "grid_template_areas": null,
            "grid_template_columns": null,
            "grid_template_rows": null,
            "height": null,
            "justify_content": null,
            "justify_items": null,
            "left": null,
            "margin": null,
            "max_height": null,
            "max_width": null,
            "min_height": null,
            "min_width": null,
            "object_fit": null,
            "object_position": null,
            "order": null,
            "overflow": null,
            "overflow_x": null,
            "overflow_y": null,
            "padding": null,
            "right": null,
            "top": null,
            "visibility": null,
            "width": null
          },
          "model_module_version": "1.2.0"
        },
        "f5b4dd1541dd4fff8d80a07aa113eebd": {
          "model_module": "@jupyter-widgets/controls",
          "model_name": "ProgressStyleModel",
          "state": {
            "_model_module": "@jupyter-widgets/controls",
            "_model_module_version": "1.5.0",
            "_model_name": "ProgressStyleModel",
            "_view_count": null,
            "_view_module": "@jupyter-widgets/base",
            "_view_module_version": "1.2.0",
            "_view_name": "StyleView",
            "bar_color": null,
            "description_width": "initial"
          },
          "model_module_version": "1.5.0"
        },
        "11a6c4b1b749466a8a37b6d47148a9f5": {
          "model_module": "@jupyter-widgets/base",
          "model_name": "LayoutModel",
          "state": {
            "_model_module": "@jupyter-widgets/base",
            "_model_module_version": "1.2.0",
            "_model_name": "LayoutModel",
            "_view_count": null,
            "_view_module": "@jupyter-widgets/base",
            "_view_module_version": "1.2.0",
            "_view_name": "LayoutView",
            "align_content": null,
            "align_items": null,
            "align_self": null,
            "border": null,
            "bottom": null,
            "display": null,
            "flex": null,
            "flex_flow": null,
            "grid_area": null,
            "grid_auto_columns": null,
            "grid_auto_flow": null,
            "grid_auto_rows": null,
            "grid_column": null,
            "grid_gap": null,
            "grid_row": null,
            "grid_template_areas": null,
            "grid_template_columns": null,
            "grid_template_rows": null,
            "height": null,
            "justify_content": null,
            "justify_items": null,
            "left": null,
            "margin": null,
            "max_height": null,
            "max_width": null,
            "min_height": null,
            "min_width": null,
            "object_fit": null,
            "object_position": null,
            "order": null,
            "overflow": null,
            "overflow_x": null,
            "overflow_y": null,
            "padding": null,
            "right": null,
            "top": null,
            "visibility": null,
            "width": null
          },
          "model_module_version": "1.2.0"
        },
        "b9af5e414bee44b4ae7b2709f1a00668": {
          "model_module": "@jupyter-widgets/controls",
          "model_name": "DescriptionStyleModel",
          "state": {
            "_model_module": "@jupyter-widgets/controls",
            "_model_module_version": "1.5.0",
            "_model_name": "DescriptionStyleModel",
            "_view_count": null,
            "_view_module": "@jupyter-widgets/base",
            "_view_module_version": "1.2.0",
            "_view_name": "StyleView",
            "description_width": ""
          },
          "model_module_version": "1.5.0"
        },
        "36bb9202825c48d49f5f8e5648735bcd": {
          "model_module": "@jupyter-widgets/controls",
          "model_name": "HBoxModel",
          "state": {
            "_dom_classes": [],
            "_model_module": "@jupyter-widgets/controls",
            "_model_module_version": "1.5.0",
            "_model_name": "HBoxModel",
            "_view_count": null,
            "_view_module": "@jupyter-widgets/controls",
            "_view_module_version": "1.5.0",
            "_view_name": "HBoxView",
            "box_style": "",
            "children": [
              "IPY_MODEL_2f31651b9e2e4551b88682c4f65498c3",
              "IPY_MODEL_72f7f414b1a0454b97c194a97a7ba251"
            ],
            "layout": "IPY_MODEL_eb466882837c4292bc5af1b6e0d46382"
          },
          "model_module_version": "1.5.0"
        },
        "2f31651b9e2e4551b88682c4f65498c3": {
          "model_module": "@jupyter-widgets/controls",
          "model_name": "FloatProgressModel",
          "state": {
            "_dom_classes": [],
            "_model_module": "@jupyter-widgets/controls",
            "_model_module_version": "1.5.0",
            "_model_name": "FloatProgressModel",
            "_view_count": null,
            "_view_module": "@jupyter-widgets/controls",
            "_view_module_version": "1.5.0",
            "_view_name": "ProgressView",
            "bar_style": "success",
            "description": "Thread 0 -&gt; model: 100%",
            "description_tooltip": null,
            "layout": "IPY_MODEL_6435309fd5f64f2d814cea12c456a7fc",
            "max": 100,
            "min": 0,
            "orientation": "horizontal",
            "style": "IPY_MODEL_1246aa2f8527491992770ffcb32c695a",
            "value": 100
          },
          "model_module_version": "1.5.0"
        },
        "72f7f414b1a0454b97c194a97a7ba251": {
          "model_module": "@jupyter-widgets/controls",
          "model_name": "HTMLModel",
          "state": {
            "_dom_classes": [],
            "_model_module": "@jupyter-widgets/controls",
            "_model_module_version": "1.5.0",
            "_model_name": "HTMLModel",
            "_view_count": null,
            "_view_module": "@jupyter-widgets/controls",
            "_view_module_version": "1.5.0",
            "_view_name": "HTMLView",
            "description": "",
            "description_tooltip": null,
            "layout": "IPY_MODEL_5b2588afbb4f42e1ae6e6665dadb5c45",
            "placeholder": "​",
            "style": "IPY_MODEL_c037f28f9cfa42658f1afc9e365fdcb5",
            "value": " 100/100 [1:39:11&lt;00:00, 59.51s/it, best_score=-inf, best_since_iter=0]"
          },
          "model_module_version": "1.5.0"
        },
        "eb466882837c4292bc5af1b6e0d46382": {
          "model_module": "@jupyter-widgets/base",
          "model_name": "LayoutModel",
          "state": {
            "_model_module": "@jupyter-widgets/base",
            "_model_module_version": "1.2.0",
            "_model_name": "LayoutModel",
            "_view_count": null,
            "_view_module": "@jupyter-widgets/base",
            "_view_module_version": "1.2.0",
            "_view_name": "LayoutView",
            "align_content": null,
            "align_items": null,
            "align_self": null,
            "border": null,
            "bottom": null,
            "display": null,
            "flex": null,
            "flex_flow": null,
            "grid_area": null,
            "grid_auto_columns": null,
            "grid_auto_flow": null,
            "grid_auto_rows": null,
            "grid_column": null,
            "grid_gap": null,
            "grid_row": null,
            "grid_template_areas": null,
            "grid_template_columns": null,
            "grid_template_rows": null,
            "height": null,
            "justify_content": null,
            "justify_items": null,
            "left": null,
            "margin": null,
            "max_height": null,
            "max_width": null,
            "min_height": null,
            "min_width": null,
            "object_fit": null,
            "object_position": null,
            "order": null,
            "overflow": null,
            "overflow_x": null,
            "overflow_y": null,
            "padding": null,
            "right": null,
            "top": null,
            "visibility": null,
            "width": null
          },
          "model_module_version": "1.2.0"
        },
        "6435309fd5f64f2d814cea12c456a7fc": {
          "model_module": "@jupyter-widgets/base",
          "model_name": "LayoutModel",
          "state": {
            "_model_module": "@jupyter-widgets/base",
            "_model_module_version": "1.2.0",
            "_model_name": "LayoutModel",
            "_view_count": null,
            "_view_module": "@jupyter-widgets/base",
            "_view_module_version": "1.2.0",
            "_view_name": "LayoutView",
            "align_content": null,
            "align_items": null,
            "align_self": null,
            "border": null,
            "bottom": null,
            "display": null,
            "flex": null,
            "flex_flow": null,
            "grid_area": null,
            "grid_auto_columns": null,
            "grid_auto_flow": null,
            "grid_auto_rows": null,
            "grid_column": null,
            "grid_gap": null,
            "grid_row": null,
            "grid_template_areas": null,
            "grid_template_columns": null,
            "grid_template_rows": null,
            "height": null,
            "justify_content": null,
            "justify_items": null,
            "left": null,
            "margin": null,
            "max_height": null,
            "max_width": null,
            "min_height": null,
            "min_width": null,
            "object_fit": null,
            "object_position": null,
            "order": null,
            "overflow": null,
            "overflow_x": null,
            "overflow_y": null,
            "padding": null,
            "right": null,
            "top": null,
            "visibility": null,
            "width": null
          },
          "model_module_version": "1.2.0"
        },
        "1246aa2f8527491992770ffcb32c695a": {
          "model_module": "@jupyter-widgets/controls",
          "model_name": "ProgressStyleModel",
          "state": {
            "_model_module": "@jupyter-widgets/controls",
            "_model_module_version": "1.5.0",
            "_model_name": "ProgressStyleModel",
            "_view_count": null,
            "_view_module": "@jupyter-widgets/base",
            "_view_module_version": "1.2.0",
            "_view_name": "StyleView",
            "bar_color": null,
            "description_width": "initial"
          },
          "model_module_version": "1.5.0"
        },
        "5b2588afbb4f42e1ae6e6665dadb5c45": {
          "model_module": "@jupyter-widgets/base",
          "model_name": "LayoutModel",
          "state": {
            "_model_module": "@jupyter-widgets/base",
            "_model_module_version": "1.2.0",
            "_model_name": "LayoutModel",
            "_view_count": null,
            "_view_module": "@jupyter-widgets/base",
            "_view_module_version": "1.2.0",
            "_view_name": "LayoutView",
            "align_content": null,
            "align_items": null,
            "align_self": null,
            "border": null,
            "bottom": null,
            "display": null,
            "flex": null,
            "flex_flow": null,
            "grid_area": null,
            "grid_auto_columns": null,
            "grid_auto_flow": null,
            "grid_auto_rows": null,
            "grid_column": null,
            "grid_gap": null,
            "grid_row": null,
            "grid_template_areas": null,
            "grid_template_columns": null,
            "grid_template_rows": null,
            "height": null,
            "justify_content": null,
            "justify_items": null,
            "left": null,
            "margin": null,
            "max_height": null,
            "max_width": null,
            "min_height": null,
            "min_width": null,
            "object_fit": null,
            "object_position": null,
            "order": null,
            "overflow": null,
            "overflow_x": null,
            "overflow_y": null,
            "padding": null,
            "right": null,
            "top": null,
            "visibility": null,
            "width": null
          },
          "model_module_version": "1.2.0"
        },
        "c037f28f9cfa42658f1afc9e365fdcb5": {
          "model_module": "@jupyter-widgets/controls",
          "model_name": "DescriptionStyleModel",
          "state": {
            "_model_module": "@jupyter-widgets/controls",
            "_model_module_version": "1.5.0",
            "_model_name": "DescriptionStyleModel",
            "_view_count": null,
            "_view_module": "@jupyter-widgets/base",
            "_view_module_version": "1.2.0",
            "_view_name": "StyleView",
            "description_width": ""
          },
          "model_module_version": "1.5.0"
        },
        "b14cf11bbd0f439db7604186db228e4e": {
          "model_module": "@jupyter-widgets/controls",
          "model_name": "HBoxModel",
          "state": {
            "_view_name": "HBoxView",
            "_dom_classes": [],
            "_model_name": "HBoxModel",
            "_view_module": "@jupyter-widgets/controls",
            "_model_module_version": "1.5.0",
            "_view_count": null,
            "_view_module_version": "1.5.0",
            "box_style": "",
            "layout": "IPY_MODEL_5264b331367d43eea10b8f28a4359102",
            "_model_module": "@jupyter-widgets/controls",
            "children": [
              "IPY_MODEL_77c45177cc1346a5a9723353094e81b6",
              "IPY_MODEL_0695b54b17b54ffba5520e3348722d85"
            ]
          },
          "model_module_version": "1.5.0"
        },
        "5264b331367d43eea10b8f28a4359102": {
          "model_module": "@jupyter-widgets/base",
          "model_name": "LayoutModel",
          "state": {
            "_view_name": "LayoutView",
            "grid_template_rows": null,
            "right": null,
            "justify_content": null,
            "_view_module": "@jupyter-widgets/base",
            "overflow": null,
            "_model_module_version": "1.2.0",
            "_view_count": null,
            "flex_flow": null,
            "width": null,
            "min_width": null,
            "border": null,
            "align_items": null,
            "bottom": null,
            "_model_module": "@jupyter-widgets/base",
            "top": null,
            "grid_column": null,
            "overflow_y": null,
            "overflow_x": null,
            "grid_auto_flow": null,
            "grid_area": null,
            "grid_template_columns": null,
            "flex": null,
            "_model_name": "LayoutModel",
            "justify_items": null,
            "grid_row": null,
            "max_height": null,
            "align_content": null,
            "visibility": null,
            "align_self": null,
            "height": null,
            "min_height": null,
            "padding": null,
            "grid_auto_rows": null,
            "grid_gap": null,
            "max_width": null,
            "order": null,
            "_view_module_version": "1.2.0",
            "grid_template_areas": null,
            "object_position": null,
            "object_fit": null,
            "grid_auto_columns": null,
            "margin": null,
            "display": null,
            "left": null
          },
          "model_module_version": "1.2.0"
        },
        "77c45177cc1346a5a9723353094e81b6": {
          "model_module": "@jupyter-widgets/controls",
          "model_name": "FloatProgressModel",
          "state": {
            "_view_name": "ProgressView",
            "style": "IPY_MODEL_d3b763288ed1487888c1551ee1cf7297",
            "_dom_classes": [],
            "description": "Thread 0 -&gt; stacking: 100%",
            "_model_name": "FloatProgressModel",
            "bar_style": "success",
            "max": 5,
            "_view_module": "@jupyter-widgets/controls",
            "_model_module_version": "1.5.0",
            "value": 5,
            "_view_count": null,
            "_view_module_version": "1.5.0",
            "orientation": "horizontal",
            "min": 0,
            "description_tooltip": null,
            "_model_module": "@jupyter-widgets/controls",
            "layout": "IPY_MODEL_724febc88caf4f9394d5e72de9aed81e"
          },
          "model_module_version": "1.5.0"
        },
        "0695b54b17b54ffba5520e3348722d85": {
          "model_module": "@jupyter-widgets/controls",
          "model_name": "HTMLModel",
          "state": {
            "_view_name": "HTMLView",
            "style": "IPY_MODEL_06f2bf10bfec482f83875ba30e2fd1ab",
            "_dom_classes": [],
            "description": "",
            "_model_name": "HTMLModel",
            "placeholder": "​",
            "_view_module": "@jupyter-widgets/controls",
            "_model_module_version": "1.5.0",
            "value": " 5/5 [34:18&lt;00:00, 411.73s/it, best_score=0.8805916461879654, best_since_iter=1]",
            "_view_count": null,
            "_view_module_version": "1.5.0",
            "description_tooltip": null,
            "_model_module": "@jupyter-widgets/controls",
            "layout": "IPY_MODEL_ca8a51c0d4cf4b76bfd150083b29f1a5"
          },
          "model_module_version": "1.5.0"
        },
        "d3b763288ed1487888c1551ee1cf7297": {
          "model_module": "@jupyter-widgets/controls",
          "model_name": "ProgressStyleModel",
          "state": {
            "_view_name": "StyleView",
            "_model_name": "ProgressStyleModel",
            "description_width": "initial",
            "_view_module": "@jupyter-widgets/base",
            "_model_module_version": "1.5.0",
            "_view_count": null,
            "_view_module_version": "1.2.0",
            "bar_color": null,
            "_model_module": "@jupyter-widgets/controls"
          },
          "model_module_version": "1.5.0"
        },
        "724febc88caf4f9394d5e72de9aed81e": {
          "model_module": "@jupyter-widgets/base",
          "model_name": "LayoutModel",
          "state": {
            "_view_name": "LayoutView",
            "grid_template_rows": null,
            "right": null,
            "justify_content": null,
            "_view_module": "@jupyter-widgets/base",
            "overflow": null,
            "_model_module_version": "1.2.0",
            "_view_count": null,
            "flex_flow": null,
            "width": null,
            "min_width": null,
            "border": null,
            "align_items": null,
            "bottom": null,
            "_model_module": "@jupyter-widgets/base",
            "top": null,
            "grid_column": null,
            "overflow_y": null,
            "overflow_x": null,
            "grid_auto_flow": null,
            "grid_area": null,
            "grid_template_columns": null,
            "flex": null,
            "_model_name": "LayoutModel",
            "justify_items": null,
            "grid_row": null,
            "max_height": null,
            "align_content": null,
            "visibility": null,
            "align_self": null,
            "height": null,
            "min_height": null,
            "padding": null,
            "grid_auto_rows": null,
            "grid_gap": null,
            "max_width": null,
            "order": null,
            "_view_module_version": "1.2.0",
            "grid_template_areas": null,
            "object_position": null,
            "object_fit": null,
            "grid_auto_columns": null,
            "margin": null,
            "display": null,
            "left": null
          },
          "model_module_version": "1.2.0"
        },
        "06f2bf10bfec482f83875ba30e2fd1ab": {
          "model_module": "@jupyter-widgets/controls",
          "model_name": "DescriptionStyleModel",
          "state": {
            "_view_name": "StyleView",
            "_model_name": "DescriptionStyleModel",
            "description_width": "",
            "_view_module": "@jupyter-widgets/base",
            "_model_module_version": "1.5.0",
            "_view_count": null,
            "_view_module_version": "1.2.0",
            "_model_module": "@jupyter-widgets/controls"
          },
          "model_module_version": "1.5.0"
        },
        "ca8a51c0d4cf4b76bfd150083b29f1a5": {
          "model_module": "@jupyter-widgets/base",
          "model_name": "LayoutModel",
          "state": {
            "_view_name": "LayoutView",
            "grid_template_rows": null,
            "right": null,
            "justify_content": null,
            "_view_module": "@jupyter-widgets/base",
            "overflow": null,
            "_model_module_version": "1.2.0",
            "_view_count": null,
            "flex_flow": null,
            "width": null,
            "min_width": null,
            "border": null,
            "align_items": null,
            "bottom": null,
            "_model_module": "@jupyter-widgets/base",
            "top": null,
            "grid_column": null,
            "overflow_y": null,
            "overflow_x": null,
            "grid_auto_flow": null,
            "grid_area": null,
            "grid_template_columns": null,
            "flex": null,
            "_model_name": "LayoutModel",
            "justify_items": null,
            "grid_row": null,
            "max_height": null,
            "align_content": null,
            "visibility": null,
            "align_self": null,
            "height": null,
            "min_height": null,
            "padding": null,
            "grid_auto_rows": null,
            "grid_gap": null,
            "max_width": null,
            "order": null,
            "_view_module_version": "1.2.0",
            "grid_template_areas": null,
            "object_position": null,
            "object_fit": null,
            "grid_auto_columns": null,
            "margin": null,
            "display": null,
            "left": null
          },
          "model_module_version": "1.2.0"
        }
      }
    }
  },
  "cells": [
    {
      "cell_type": "code",
      "metadata": {
        "colab": {
          "base_uri": "https://localhost:8080/"
        },
        "id": "8bmHAFT7CIpB",
        "outputId": "5cc962dd-bef9-4a6d-92bb-a261a3deb153"
      },
      "source": [
        " # Use seaborn for pairplot\n",
        "!pip install -q seaborn\n",
        "!pip install pycm\n",
        "# Use some functions from tensorflow_docs\n",
        "!pip install -q git+https://github.com/tensorflow/docs"
      ],
      "execution_count": null,
      "outputs": [
        {
          "output_type": "stream",
          "text": [
            "Collecting pycm\n",
            "\u001b[?25l  Downloading https://files.pythonhosted.org/packages/07/e0/de92301a06bf5e2d24e04edc178ee457b49dbad2606c3252949222110f4d/pycm-3.0-py2.py3-none-any.whl (61kB)\n",
            "\u001b[K     |████████████████████████████████| 71kB 5.9MB/s \n",
            "\u001b[?25hCollecting art>=1.8\n",
            "\u001b[?25l  Downloading https://files.pythonhosted.org/packages/a3/fa/eedb425a69ca6652b96423dcb73555a05c70d1f78ad039f2b856282c8300/art-5.0-py2.py3-none-any.whl (560kB)\n",
            "\u001b[K     |████████████████████████████████| 563kB 8.3MB/s \n",
            "\u001b[?25hRequirement already satisfied: numpy>=1.9.0 in /usr/local/lib/python3.6/dist-packages (from pycm) (1.18.5)\n",
            "Installing collected packages: art, pycm\n",
            "Successfully installed art-5.0 pycm-3.0\n",
            "  Building wheel for tensorflow-docs (setup.py) ... \u001b[?25l\u001b[?25hdone\n"
          ],
          "name": "stdout"
        }
      ]
    },
    {
      "cell_type": "code",
      "metadata": {
        "colab": {
          "base_uri": "https://localhost:8080/"
        },
        "id": "jTaE28sBCnTa",
        "outputId": "d9f1a249-7380-4791-8f69-1b26cfa28b32"
      },
      "source": [
        "import pathlib\n",
        "import matplotlib.pyplot as plt\n",
        "import numpy as np\n",
        "import pandas as pd\n",
        "import seaborn as sns\n",
        "import tensorflow as tf\n",
        "from tensorflow import keras\n",
        "from tensorflow.keras import layers\n",
        "import tensorflow_docs as tfdocs\n",
        "import tensorflow_docs.plots\n",
        "import tensorflow_docs.modeling\n",
        "print(tf.__version__)\n",
        "# Import libraries\n",
        "import pandas as pd\n",
        "import numpy as np\n",
        "import seaborn as sns\n",
        "import matplotlib.pyplot as plt\n",
        "from keras.utils import plot_model\n",
        "import matplotlib.pyplot as plot\n",
        "import seaborn\n",
        "%matplotlib inline\n",
        "\n",
        "import pandas as pd\n",
        "import numpy as np\n",
        "import seaborn as sns\n",
        "import matplotlib.pyplot as plt\n",
        "%matplotlib inline\n",
        "from collections import Counter\n",
        "from sklearn.datasets import make_classification\n",
        "from sklearn.model_selection import train_test_split as tts\n",
        "from sklearn.decomposition import PCA\n",
        "from sklearn.neighbors import KNeighborsClassifier as KNN\n",
        "from sklearn.metrics import classification_report\n",
        "from imblearn.over_sampling import SMOTE\n",
        "from imblearn.pipeline import Pipeline\n",
        "from sklearn.metrics import r2_score, classification_report, confusion_matrix, accuracy_score, roc_auc_score, roc_curve, precision_recall_curve\n",
        "\n",
        "# Put this when it's called\n",
        "from sklearn.model_selection import train_test_split\n",
        "from sklearn.model_selection import learning_curve\n",
        "from sklearn.model_selection import validation_curve\n",
        "from sklearn.model_selection import cross_val_score\n",
        "from sklearn.linear_model import LogisticRegression\n",
        "from keras.optimizers import Adam, Nadam\n",
        "import pandas as pd\n",
        "import numpy as np\n",
        "import matplotlib.pyplot as plt\n",
        "import math\n",
        "import statistics\n",
        "from sklearn.decomposition import PCA\n",
        "from sklearn.ensemble import RandomForestClassifier as RB\n",
        "#from sklearn.decomposition import KernelPCA\n",
        "from sklearn.model_selection import train_test_split\n",
        "from imblearn.over_sampling import SMOTE as SM\n",
        "from sklearn.ensemble import RandomForestRegressor as RF,GradientBoostingRegressor as GB,ExtraTreesClassifier as ET\n",
        "from sklearn.metrics import f1_score\n",
        "from sklearn.cluster import KMeans\n",
        "from sklearn.metrics.pairwise import euclidean_distances\n",
        "from sklearn.neural_network import MLPClassifier as MP\n",
        "from keras.callbacks import ModelCheckpoint\n",
        "\n",
        "\n",
        "from keras.models import Sequential\n",
        "from keras.layers import Dense\n",
        "from keras.layers import LSTM\n",
        "from keras.layers import Dropout\n",
        "from keras.callbacks import EarlyStopping\n",
        "from keras import backend as K\n",
        "from keras import optimizers\n",
        "from keras.layers import LeakyReLU\n",
        "from numpy import array\n",
        "from numpy import cumsum\n",
        "from matplotlib import pyplot\n",
        "from pandas import DataFrame\n",
        "from keras.models import Sequential\n",
        "from keras.layers import LSTM\n",
        "from keras.layers import Dense\n",
        "from keras.layers import TimeDistributed\n",
        "from keras.layers import Bidirectional\n",
        "\n",
        "import tensorflow_docs as tfdocs\n",
        "import tensorflow_docs.plots\n",
        "import pandas as pd\n",
        "import numpy as np\n",
        "from sklearn.preprocessing import MinMaxScaler\n",
        "from sklearn.metrics import mean_squared_error\n",
        "from keras.models import Sequential\n",
        "from keras.layers import LSTM\n",
        "from keras.layers import Dropout\n",
        "from keras.layers import Dense\n",
        "from keras.layers import Bidirectional\n",
        "from keras.layers import TimeDistributed\n",
        "from sklearn import preprocessing\n",
        "from sklearn.impute import SimpleImputer \n",
        "from sklearn.preprocessing import MinMaxScaler\n",
        "import seaborn as sns\n",
        "import numpy"
      ],
      "execution_count": null,
      "outputs": [
        {
          "output_type": "stream",
          "text": [
            "2.3.0\n"
          ],
          "name": "stdout"
        },
        {
          "output_type": "stream",
          "text": [
            "/usr/local/lib/python3.6/dist-packages/sklearn/externals/six.py:31: FutureWarning: The module is deprecated in version 0.21 and will be removed in version 0.23 since we've dropped support for Python 2.7. Please rely on the official version of six (https://pypi.org/project/six/).\n",
            "  \"(https://pypi.org/project/six/).\", FutureWarning)\n",
            "/usr/local/lib/python3.6/dist-packages/sklearn/utils/deprecation.py:144: FutureWarning: The sklearn.neighbors.base module is  deprecated in version 0.22 and will be removed in version 0.24. The corresponding classes / functions should instead be imported from sklearn.neighbors. Anything that cannot be imported from sklearn.neighbors is now part of the private API.\n",
            "  warnings.warn(message, FutureWarning)\n"
          ],
          "name": "stderr"
        }
      ]
    },
    {
      "cell_type": "markdown",
      "metadata": {
        "id": "Gd9b7Gr1C0Lh"
      },
      "source": [
        "# **Read the dataset**"
      ]
    },
    {
      "cell_type": "code",
      "metadata": {
        "colab": {
          "base_uri": "https://localhost:8080/"
        },
        "id": "hdLsxHVPCxvc",
        "outputId": "8973c081-a5d5-4110-8f64-eb6e0dab82c6"
      },
      "source": [
        "import pandas as pd\n",
        "%matplotlib inline\n",
        "import matplotlib.pylab as plt\n",
        "import numpy as np\n",
        "\n",
        "import pandas\n",
        "# Create table for missing data analysis\n",
        "def draw_missing_data_table(df):\n",
        "    total = df.isnull().sum().sort_values(ascending=False)\n",
        "    percent = (df.isnull().sum()/df.isnull().count()).sort_values(ascending=False)\n",
        "    missing_data = pd.concat([total, percent], axis=1, keys=['Total', 'Percent'])\n",
        "    return missing_data\n",
        "\n",
        "df = pd.read_csv('/content/drive/My Drive/data/data.csv')\n",
        "df_raw = df.copy()  # Save original data set, just in case.\n",
        "#df1.isnull().sum()\n",
        "\n",
        "l=df.columns\n",
        "la=['CONS_NO','FLAG']\n",
        "lb=[]\n",
        "for i in l:\n",
        "    if i not in la:\n",
        "        lb.append(i)\n",
        "\n",
        "# Analyse missing data\n",
        "draw_missing_data_table(df)\n",
        "\n",
        "\n",
        "math.isnan(df.iloc[0][2])\n",
        "\n",
        "\n",
        "#df1.isnull().sum()\n",
        "l=df.columns\n",
        "la=['CONS_NO','FLAG']\n",
        "lb=[]\n",
        "for i in l:\n",
        "    if i not in la:\n",
        "        lb.append(i)\n",
        "\n",
        "import datetime\n",
        "dates = [datetime.datetime.strptime(ts, \"%Y/%m/%d\") for ts in lb]\n",
        "#dates.sort()\n",
        "fdates = [datetime.datetime.strftime(ts, \"%Y/%m/%d\") for ts in dates]\n",
        "\n",
        "fdates.insert(0,\"FLAG\")\n",
        "fdates.insert(0,\"CONS_NO\")\n",
        "\n",
        "df.columns=fdates\n",
        "\n",
        "import datetime\n",
        "dates = [datetime.datetime.strptime(ts, \"%Y/%m/%d\") for ts in lb]\n",
        "dates.sort()\n",
        "sorteddates = [datetime.datetime.strftime(ts, \"%Y/%m/%d\") for ts in dates]\n",
        "\n",
        "cols=df.columns.tolist()[0:2]+sorteddates\n",
        "df=df[cols]\n",
        "\n",
        "\n",
        "df1=df\n",
        "l=df[\"2014/01/01\"]\n",
        "l1=df[\"2014/01/02\"]\n",
        "l=np.asarray(l).tolist()\n",
        "l1=np.asarray(l1).tolist()\n",
        "\n",
        "l2=[]\n",
        "for i in range(len(l)):\n",
        "    if math.isnan(l[i]):\n",
        "        if math.isnan(l1[i]):\n",
        "            l2.append(0)\n",
        "        else:\n",
        "            l2.append(l1[i]/2)\n",
        "    else:\n",
        "        l2.append(l[i])\n",
        "df1[\"2014/01/01\"]=l2\n",
        "\n",
        "df1.head()\n",
        "l=df[\"2016/10/31\"]\n",
        "l1=df[\"2016/10/30\"]\n",
        "l=np.asarray(l).tolist()\n",
        "l1=np.asarray(l1).tolist()\n",
        "l2=[]\n",
        "for i in range(len(l)):\n",
        "    if math.isnan(l[i]):\n",
        "        if math.isnan(l1[i]):\n",
        "            l2.append(0)\n",
        "        else:\n",
        "            l2.append(l1[i]/2)\n",
        "    else:\n",
        "        l2.append(l[i])\n",
        "df1[\"2016/10/31\"]=l2\n",
        "\n",
        "#df1.isnull().sum()\n",
        "l=df.columns\n",
        "la=['CONS_NO','FLAG']\n",
        "lbx=[]\n",
        "for i in l:\n",
        "    if i not in la:\n",
        "        lbx.append(i)\n",
        "\n",
        "print(\"dimensions of dataset : \", df.shape)"
      ],
      "execution_count": null,
      "outputs": [
        {
          "output_type": "stream",
          "text": [
            "dimensions of dataset :  (42372, 1036)\n"
          ],
          "name": "stdout"
        }
      ]
    },
    {
      "cell_type": "markdown",
      "metadata": {
        "id": "r37LpGR8FWLF"
      },
      "source": [
        "# **Count the occurence of 0 and 1**"
      ]
    },
    {
      "cell_type": "code",
      "metadata": {
        "colab": {
          "base_uri": "https://localhost:8080/"
        },
        "id": "wlaYkooUFW9q",
        "outputId": "1a4caf6a-bdd8-4a38-eeec-2d8ffd0caff1"
      },
      "source": [
        "# Count the occurrences of fraud and no fraud and print them\n",
        "occ = df1['FLAG'].value_counts()\n",
        "occ"
      ],
      "execution_count": null,
      "outputs": [
        {
          "output_type": "execute_result",
          "data": {
            "text/plain": [
              "0    38757\n",
              "1     3615\n",
              "Name: FLAG, dtype: int64"
            ]
          },
          "metadata": {
            "tags": []
          },
          "execution_count": 4
        }
      ]
    },
    {
      "cell_type": "markdown",
      "metadata": {
        "id": "TpMIjKi5FZEL"
      },
      "source": [
        "# **Remove the values if cconsisitency is greater than 7**"
      ]
    },
    {
      "cell_type": "code",
      "metadata": {
        "id": "RN64mo3CFc0q"
      },
      "source": [
        "df1 = df1[df1.isnull().sum(axis=1) < 7]"
      ],
      "execution_count": null,
      "outputs": []
    },
    {
      "cell_type": "code",
      "metadata": {
        "colab": {
          "base_uri": "https://localhost:8080/"
        },
        "id": "ZWG67DKnFe2f",
        "outputId": "90683eb8-def5-4724-83fa-64ef2f1df683"
      },
      "source": [
        "df1.shape"
      ],
      "execution_count": null,
      "outputs": [
        {
          "output_type": "execute_result",
          "data": {
            "text/plain": [
              "(42372, 1036)"
            ]
          },
          "metadata": {
            "tags": []
          },
          "execution_count": 5
        }
      ]
    },
    {
      "cell_type": "markdown",
      "metadata": {
        "id": "1JKzWzF3Fhnq"
      },
      "source": [
        "# **\"\" \"configuration of the plot display\" \"\"**"
      ]
    },
    {
      "cell_type": "code",
      "metadata": {
        "id": "F672zKXWFg4p"
      },
      "source": [
        "\"\" \"configuration of the plot display\" \"\"\n",
        "plt.rcParams[\"figure.figsize\"] = (10,5)"
      ],
      "execution_count": null,
      "outputs": []
    },
    {
      "cell_type": "markdown",
      "metadata": {
        "id": "falBGLfzFn55"
      },
      "source": [
        "# **Count the occurrences of fraud and no fraud and print them**"
      ]
    },
    {
      "cell_type": "code",
      "metadata": {
        "colab": {
          "base_uri": "https://localhost:8080/"
        },
        "id": "g2VmQYlSFqEo",
        "outputId": "8f42542b-92d8-408b-fb80-45d79e98879c"
      },
      "source": [
        "# Count the occurrences of fraud and no fraud and print them\n",
        "occ = df1['FLAG'].value_counts()\n",
        "occ"
      ],
      "execution_count": null,
      "outputs": [
        {
          "output_type": "execute_result",
          "data": {
            "text/plain": [
              "0    5723\n",
              "1     406\n",
              "Name: FLAG, dtype: int64"
            ]
          },
          "metadata": {
            "tags": []
          },
          "execution_count": 8
        }
      ]
    },
    {
      "cell_type": "markdown",
      "metadata": {
        "id": "dCdbjJItFsFS"
      },
      "source": [
        "# **Print the ratio of fraud cases**"
      ]
    },
    {
      "cell_type": "code",
      "metadata": {
        "colab": {
          "base_uri": "https://localhost:8080/"
        },
        "id": "ZUI-MnKwFvQA",
        "outputId": "0c779285-bb50-42ad-dcac-d0ffaae7f0d8"
      },
      "source": [
        "# Print the ratio of fraud cases\n",
        "ratio_cases = occ/len(df1.index)\n",
        "print(f'Ratio of fraudulent cases: {ratio_cases[1]}\\nRatio of non-fraudulent cases: {ratio_cases[0]}')\n",
        "print(\"Fraction of cases that were fraud: {0:.2f}\".format(df1.FLAG.sum()/df1.FLAG.count()))"
      ],
      "execution_count": null,
      "outputs": [
        {
          "output_type": "stream",
          "text": [
            "Ratio of fraudulent cases: 0.06624245390765214\n",
            "Ratio of non-fraudulent cases: 0.9337575460923478\n",
            "Fraction of cases that were fraud: 0.07\n"
          ],
          "name": "stdout"
        }
      ]
    },
    {
      "cell_type": "markdown",
      "metadata": {
        "id": "17-sxG8sFxyS"
      },
      "source": [
        "# **Assign coulmn to X and Y**"
      ]
    },
    {
      "cell_type": "code",
      "metadata": {
        "id": "13Ee0ZqZFzjI"
      },
      "source": [
        "df3=df1[0:]\n",
        "X=df3[lbx[0:]]\n",
        "Y=df3[\"FLAG\"]"
      ],
      "execution_count": null,
      "outputs": []
    },
    {
      "cell_type": "code",
      "metadata": {
        "colab": {
          "base_uri": "https://localhost:8080/",
          "height": 558
        },
        "id": "YezLlclhdebu",
        "outputId": "254ba8c9-d1d2-4fef-86dd-9e98000b7b33"
      },
      "source": [
        "f, ax = plt.subplots(nrows=1, ncols=1,figsize=(15,8))\n",
        "sns.countplot(df['FLAG'],facecolor=(0, 0, 0, 0),linewidth=5,edgecolor=sns.color_palette(\"dark\", 3), label = \"Count\")\n",
        "# ax.set_title(\"2D 2 classes Generated Data\")\n",
        "plt.ylabel('Total observations',fontsize=16)\n",
        "plt.xlabel('Class',fontsize=16)\n",
        "plt.savefig('generated_data.png',)\n",
        "plt.savefig('generated_data.eps',)\n",
        "# To check the count of fraudulent and normal transactions\n"
      ],
      "execution_count": null,
      "outputs": [
        {
          "output_type": "stream",
          "text": [
            "/usr/local/lib/python3.6/dist-packages/seaborn/_decorators.py:43: FutureWarning: Pass the following variable as a keyword arg: x. From version 0.12, the only valid positional argument will be `data`, and passing other arguments without an explicit keyword will result in an error or misinterpretation.\n",
            "  FutureWarning\n"
          ],
          "name": "stderr"
        },
        {
          "output_type": "display_data",
          "data": {
            "image/png": "[encoded data removed]",
            "text/plain": [
              "<Figure size 1080x576 with 1 Axes>"
            ]
          },
          "metadata": {
            "tags": [],
            "needs_background": "light"
          }
        }
      ]
    },
    {
      "cell_type": "code",
      "metadata": {
        "id": "e5RgcCvTsKig"
      },
      "source": [],
      "execution_count": null,
      "outputs": []
    },
    {
      "cell_type": "code",
      "metadata": {
        "colab": {
          "base_uri": "https://localhost:8080/",
          "height": 513
        },
        "id": "sANCzk4_0oQr",
        "outputId": "15876eaf-74a0-4b07-a1fe-b84d249c75e6"
      },
      "source": [
        "from sklearn.datasets import make_classification\n",
        "# Easy decision boundary\n",
        "X,Y = make_classification(n_samples=2000, n_features=2, n_informative=2, \n",
        "                            n_redundant=0, n_repeated=0, n_classes=2, \n",
        "                            n_clusters_per_class=1,class_sep=1,flip_y=0,\n",
        "                            random_state=17)\n",
        "f, ax = plt.subplots(nrows=1, ncols=1,figsize=(15,8))\n",
        "sns.scatterplot(X[:,0],X[:,1],hue=Y,palette='Set1', ax=ax)\n",
        "ax.set_title(\"2D 2 classes Generated Data\")\n",
        "plt.ylabel('Dim 2')\n",
        "plt.xlabel('Dim 1')\n",
        "plt.savefig('generated_data.png')"
      ],
      "execution_count": null,
      "outputs": [
        {
          "output_type": "display_data",
          "data": {
            "image/png": "[encoded data removed]",
            "text/plain": [
              "<Figure size 1080x576 with 1 Axes>"
            ]
          },
          "metadata": {
            "tags": []
          }
        }
      ]
    },
    {
      "cell_type": "code",
      "metadata": {
        "colab": {
          "base_uri": "https://localhost:8080/",
          "height": 34
        },
        "id": "0WBib6bWF5wy",
        "outputId": "1fa0d1f5-3efb-463c-989d-49b3d65ace60"
      },
      "source": [
        "X.shape"
      ],
      "execution_count": null,
      "outputs": [
        {
          "output_type": "execute_result",
          "data": {
            "text/plain": [
              "(6129, 1034)"
            ]
          },
          "metadata": {
            "tags": []
          },
          "execution_count": 22
        }
      ]
    },
    {
      "cell_type": "markdown",
      "metadata": {
        "id": "PJxAA_XCF1TC"
      },
      "source": [
        "# **Transpose dataset**"
      ]
    },
    {
      "cell_type": "code",
      "metadata": {
        "colab": {
          "base_uri": "https://localhost:8080/",
          "height": 237
        },
        "id": "WFFCTzN5F-Qk",
        "outputId": "86c7c725-a1f1-4cc0-f749-0ee6df14068c"
      },
      "source": [
        "X=X.transpose()\n",
        "X.head(5)"
      ],
      "execution_count": null,
      "outputs": [
        {
          "output_type": "execute_result",
          "data": {
            "text/html": [
              "<div>\n",
              "<style scoped>\n",
              "    .dataframe tbody tr th:only-of-type {\n",
              "        vertical-align: middle;\n",
              "    }\n",
              "\n",
              "    .dataframe tbody tr th {\n",
              "        vertical-align: top;\n",
              "    }\n",
              "\n",
              "    .dataframe thead th {\n",
              "        text-align: right;\n",
              "    }\n",
              "</style>\n",
              "<table border=\"1\" class=\"dataframe\">\n",
              "  <thead>\n",
              "    <tr style=\"text-align: right;\">\n",
              "      <th></th>\n",
              "      <th>4</th>\n",
              "      <th>6</th>\n",
              "      <th>7</th>\n",
              "      <th>14</th>\n",
              "      <th>19</th>\n",
              "      <th>31</th>\n",
              "      <th>70</th>\n",
              "      <th>95</th>\n",
              "      <th>96</th>\n",
              "      <th>112</th>\n",
              "      <th>116</th>\n",
              "      <th>118</th>\n",
              "      <th>127</th>\n",
              "      <th>142</th>\n",
              "      <th>155</th>\n",
              "      <th>176</th>\n",
              "      <th>199</th>\n",
              "      <th>201</th>\n",
              "      <th>210</th>\n",
              "      <th>218</th>\n",
              "      <th>221</th>\n",
              "      <th>227</th>\n",
              "      <th>254</th>\n",
              "      <th>265</th>\n",
              "      <th>272</th>\n",
              "      <th>274</th>\n",
              "      <th>276</th>\n",
              "      <th>286</th>\n",
              "      <th>293</th>\n",
              "      <th>322</th>\n",
              "      <th>323</th>\n",
              "      <th>340</th>\n",
              "      <th>341</th>\n",
              "      <th>369</th>\n",
              "      <th>380</th>\n",
              "      <th>391</th>\n",
              "      <th>414</th>\n",
              "      <th>417</th>\n",
              "      <th>422</th>\n",
              "      <th>438</th>\n",
              "      <th>...</th>\n",
              "      <th>42068</th>\n",
              "      <th>42070</th>\n",
              "      <th>42080</th>\n",
              "      <th>42081</th>\n",
              "      <th>42083</th>\n",
              "      <th>42084</th>\n",
              "      <th>42085</th>\n",
              "      <th>42097</th>\n",
              "      <th>42105</th>\n",
              "      <th>42120</th>\n",
              "      <th>42135</th>\n",
              "      <th>42139</th>\n",
              "      <th>42144</th>\n",
              "      <th>42147</th>\n",
              "      <th>42154</th>\n",
              "      <th>42163</th>\n",
              "      <th>42172</th>\n",
              "      <th>42179</th>\n",
              "      <th>42183</th>\n",
              "      <th>42190</th>\n",
              "      <th>42199</th>\n",
              "      <th>42210</th>\n",
              "      <th>42228</th>\n",
              "      <th>42232</th>\n",
              "      <th>42236</th>\n",
              "      <th>42245</th>\n",
              "      <th>42251</th>\n",
              "      <th>42263</th>\n",
              "      <th>42281</th>\n",
              "      <th>42285</th>\n",
              "      <th>42296</th>\n",
              "      <th>42298</th>\n",
              "      <th>42314</th>\n",
              "      <th>42320</th>\n",
              "      <th>42323</th>\n",
              "      <th>42327</th>\n",
              "      <th>42331</th>\n",
              "      <th>42342</th>\n",
              "      <th>42355</th>\n",
              "      <th>42357</th>\n",
              "    </tr>\n",
              "  </thead>\n",
              "  <tbody>\n",
              "    <tr>\n",
              "      <th>2014/01/01</th>\n",
              "      <td>2.90</td>\n",
              "      <td>0.11</td>\n",
              "      <td>0.91</td>\n",
              "      <td>0.00</td>\n",
              "      <td>0.02</td>\n",
              "      <td>16.22</td>\n",
              "      <td>92.19</td>\n",
              "      <td>1.19</td>\n",
              "      <td>0.00</td>\n",
              "      <td>7.61</td>\n",
              "      <td>9.53</td>\n",
              "      <td>0.0</td>\n",
              "      <td>0.55</td>\n",
              "      <td>0.0</td>\n",
              "      <td>11.63</td>\n",
              "      <td>20.17</td>\n",
              "      <td>2.73</td>\n",
              "      <td>2.57</td>\n",
              "      <td>0.0</td>\n",
              "      <td>11.68</td>\n",
              "      <td>0.0</td>\n",
              "      <td>5.06</td>\n",
              "      <td>22.51</td>\n",
              "      <td>0.0</td>\n",
              "      <td>4.44</td>\n",
              "      <td>3.76</td>\n",
              "      <td>0.00</td>\n",
              "      <td>14.59</td>\n",
              "      <td>0.0</td>\n",
              "      <td>8.75</td>\n",
              "      <td>0.0</td>\n",
              "      <td>14.63</td>\n",
              "      <td>0.00</td>\n",
              "      <td>9.49</td>\n",
              "      <td>8.79</td>\n",
              "      <td>8.06</td>\n",
              "      <td>4.71</td>\n",
              "      <td>0.0</td>\n",
              "      <td>12.13</td>\n",
              "      <td>4.38</td>\n",
              "      <td>...</td>\n",
              "      <td>5.47</td>\n",
              "      <td>23.76</td>\n",
              "      <td>1.53</td>\n",
              "      <td>1.59</td>\n",
              "      <td>0.0</td>\n",
              "      <td>11.26</td>\n",
              "      <td>0.00</td>\n",
              "      <td>27.93</td>\n",
              "      <td>0.14</td>\n",
              "      <td>6.72</td>\n",
              "      <td>8.01</td>\n",
              "      <td>0.0</td>\n",
              "      <td>10.61</td>\n",
              "      <td>0.49</td>\n",
              "      <td>9.25</td>\n",
              "      <td>26.25</td>\n",
              "      <td>0.0</td>\n",
              "      <td>0.19</td>\n",
              "      <td>14.14</td>\n",
              "      <td>5.18</td>\n",
              "      <td>7.89</td>\n",
              "      <td>8.15</td>\n",
              "      <td>1.37</td>\n",
              "      <td>0.0</td>\n",
              "      <td>14.97</td>\n",
              "      <td>1.12</td>\n",
              "      <td>19.08</td>\n",
              "      <td>1.58</td>\n",
              "      <td>5.93</td>\n",
              "      <td>0.0</td>\n",
              "      <td>0.0</td>\n",
              "      <td>0.00</td>\n",
              "      <td>0.0</td>\n",
              "      <td>6.30</td>\n",
              "      <td>4.50</td>\n",
              "      <td>0.0</td>\n",
              "      <td>3.60</td>\n",
              "      <td>0.22</td>\n",
              "      <td>36.35</td>\n",
              "      <td>2.03</td>\n",
              "    </tr>\n",
              "    <tr>\n",
              "      <th>2014/01/02</th>\n",
              "      <td>5.64</td>\n",
              "      <td>0.11</td>\n",
              "      <td>1.16</td>\n",
              "      <td>0.00</td>\n",
              "      <td>0.02</td>\n",
              "      <td>11.45</td>\n",
              "      <td>60.70</td>\n",
              "      <td>1.15</td>\n",
              "      <td>1.74</td>\n",
              "      <td>8.40</td>\n",
              "      <td>8.86</td>\n",
              "      <td>0.0</td>\n",
              "      <td>0.68</td>\n",
              "      <td>0.0</td>\n",
              "      <td>12.11</td>\n",
              "      <td>20.08</td>\n",
              "      <td>2.64</td>\n",
              "      <td>0.59</td>\n",
              "      <td>0.0</td>\n",
              "      <td>13.79</td>\n",
              "      <td>0.0</td>\n",
              "      <td>4.45</td>\n",
              "      <td>20.58</td>\n",
              "      <td>0.0</td>\n",
              "      <td>4.00</td>\n",
              "      <td>6.74</td>\n",
              "      <td>5.99</td>\n",
              "      <td>11.77</td>\n",
              "      <td>0.0</td>\n",
              "      <td>10.01</td>\n",
              "      <td>0.0</td>\n",
              "      <td>12.03</td>\n",
              "      <td>0.00</td>\n",
              "      <td>5.59</td>\n",
              "      <td>3.43</td>\n",
              "      <td>8.18</td>\n",
              "      <td>3.08</td>\n",
              "      <td>0.0</td>\n",
              "      <td>12.47</td>\n",
              "      <td>3.49</td>\n",
              "      <td>...</td>\n",
              "      <td>2.15</td>\n",
              "      <td>25.84</td>\n",
              "      <td>1.50</td>\n",
              "      <td>1.77</td>\n",
              "      <td>0.0</td>\n",
              "      <td>10.01</td>\n",
              "      <td>13.58</td>\n",
              "      <td>27.26</td>\n",
              "      <td>0.13</td>\n",
              "      <td>5.89</td>\n",
              "      <td>0.00</td>\n",
              "      <td>0.0</td>\n",
              "      <td>8.48</td>\n",
              "      <td>0.53</td>\n",
              "      <td>7.70</td>\n",
              "      <td>30.57</td>\n",
              "      <td>0.0</td>\n",
              "      <td>0.43</td>\n",
              "      <td>10.75</td>\n",
              "      <td>5.39</td>\n",
              "      <td>7.81</td>\n",
              "      <td>8.56</td>\n",
              "      <td>1.53</td>\n",
              "      <td>0.0</td>\n",
              "      <td>8.77</td>\n",
              "      <td>1.04</td>\n",
              "      <td>11.35</td>\n",
              "      <td>1.53</td>\n",
              "      <td>10.39</td>\n",
              "      <td>0.0</td>\n",
              "      <td>0.0</td>\n",
              "      <td>0.01</td>\n",
              "      <td>0.0</td>\n",
              "      <td>7.85</td>\n",
              "      <td>4.81</td>\n",
              "      <td>0.0</td>\n",
              "      <td>3.76</td>\n",
              "      <td>0.71</td>\n",
              "      <td>6.72</td>\n",
              "      <td>2.82</td>\n",
              "    </tr>\n",
              "    <tr>\n",
              "      <th>2014/01/03</th>\n",
              "      <td>6.99</td>\n",
              "      <td>0.25</td>\n",
              "      <td>0.75</td>\n",
              "      <td>0.01</td>\n",
              "      <td>0.01</td>\n",
              "      <td>13.33</td>\n",
              "      <td>59.18</td>\n",
              "      <td>0.89</td>\n",
              "      <td>5.57</td>\n",
              "      <td>0.00</td>\n",
              "      <td>8.18</td>\n",
              "      <td>0.0</td>\n",
              "      <td>0.49</td>\n",
              "      <td>0.0</td>\n",
              "      <td>0.00</td>\n",
              "      <td>19.71</td>\n",
              "      <td>2.19</td>\n",
              "      <td>0.44</td>\n",
              "      <td>0.0</td>\n",
              "      <td>12.07</td>\n",
              "      <td>0.0</td>\n",
              "      <td>4.09</td>\n",
              "      <td>19.22</td>\n",
              "      <td>0.0</td>\n",
              "      <td>5.72</td>\n",
              "      <td>4.51</td>\n",
              "      <td>0.00</td>\n",
              "      <td>13.49</td>\n",
              "      <td>0.0</td>\n",
              "      <td>8.32</td>\n",
              "      <td>0.0</td>\n",
              "      <td>10.78</td>\n",
              "      <td>0.41</td>\n",
              "      <td>4.45</td>\n",
              "      <td>3.19</td>\n",
              "      <td>9.78</td>\n",
              "      <td>3.10</td>\n",
              "      <td>0.0</td>\n",
              "      <td>15.59</td>\n",
              "      <td>5.45</td>\n",
              "      <td>...</td>\n",
              "      <td>2.78</td>\n",
              "      <td>26.15</td>\n",
              "      <td>0.87</td>\n",
              "      <td>1.99</td>\n",
              "      <td>0.0</td>\n",
              "      <td>10.17</td>\n",
              "      <td>0.00</td>\n",
              "      <td>20.19</td>\n",
              "      <td>0.13</td>\n",
              "      <td>4.62</td>\n",
              "      <td>0.00</td>\n",
              "      <td>0.0</td>\n",
              "      <td>6.42</td>\n",
              "      <td>0.51</td>\n",
              "      <td>7.94</td>\n",
              "      <td>22.19</td>\n",
              "      <td>0.0</td>\n",
              "      <td>0.61</td>\n",
              "      <td>8.04</td>\n",
              "      <td>4.21</td>\n",
              "      <td>7.84</td>\n",
              "      <td>6.61</td>\n",
              "      <td>1.46</td>\n",
              "      <td>0.0</td>\n",
              "      <td>9.86</td>\n",
              "      <td>0.81</td>\n",
              "      <td>8.70</td>\n",
              "      <td>1.68</td>\n",
              "      <td>15.37</td>\n",
              "      <td>0.0</td>\n",
              "      <td>0.0</td>\n",
              "      <td>0.02</td>\n",
              "      <td>0.0</td>\n",
              "      <td>8.40</td>\n",
              "      <td>6.81</td>\n",
              "      <td>0.0</td>\n",
              "      <td>2.86</td>\n",
              "      <td>0.92</td>\n",
              "      <td>4.41</td>\n",
              "      <td>1.93</td>\n",
              "    </tr>\n",
              "    <tr>\n",
              "      <th>2014/01/04</th>\n",
              "      <td>3.32</td>\n",
              "      <td>0.27</td>\n",
              "      <td>1.30</td>\n",
              "      <td>0.00</td>\n",
              "      <td>0.03</td>\n",
              "      <td>14.51</td>\n",
              "      <td>62.09</td>\n",
              "      <td>0.93</td>\n",
              "      <td>7.45</td>\n",
              "      <td>0.00</td>\n",
              "      <td>8.30</td>\n",
              "      <td>0.0</td>\n",
              "      <td>0.56</td>\n",
              "      <td>0.0</td>\n",
              "      <td>10.61</td>\n",
              "      <td>20.85</td>\n",
              "      <td>2.38</td>\n",
              "      <td>0.38</td>\n",
              "      <td>0.0</td>\n",
              "      <td>11.73</td>\n",
              "      <td>0.0</td>\n",
              "      <td>3.43</td>\n",
              "      <td>21.83</td>\n",
              "      <td>0.0</td>\n",
              "      <td>4.42</td>\n",
              "      <td>4.77</td>\n",
              "      <td>23.21</td>\n",
              "      <td>10.94</td>\n",
              "      <td>0.0</td>\n",
              "      <td>9.24</td>\n",
              "      <td>0.0</td>\n",
              "      <td>11.33</td>\n",
              "      <td>0.00</td>\n",
              "      <td>6.18</td>\n",
              "      <td>4.79</td>\n",
              "      <td>16.56</td>\n",
              "      <td>3.45</td>\n",
              "      <td>0.0</td>\n",
              "      <td>13.59</td>\n",
              "      <td>2.85</td>\n",
              "      <td>...</td>\n",
              "      <td>2.34</td>\n",
              "      <td>19.79</td>\n",
              "      <td>1.17</td>\n",
              "      <td>1.84</td>\n",
              "      <td>0.0</td>\n",
              "      <td>11.24</td>\n",
              "      <td>14.16</td>\n",
              "      <td>0.00</td>\n",
              "      <td>0.13</td>\n",
              "      <td>5.54</td>\n",
              "      <td>9.92</td>\n",
              "      <td>0.0</td>\n",
              "      <td>10.20</td>\n",
              "      <td>0.51</td>\n",
              "      <td>6.96</td>\n",
              "      <td>27.61</td>\n",
              "      <td>0.0</td>\n",
              "      <td>0.52</td>\n",
              "      <td>9.79</td>\n",
              "      <td>4.65</td>\n",
              "      <td>7.58</td>\n",
              "      <td>5.52</td>\n",
              "      <td>1.55</td>\n",
              "      <td>0.0</td>\n",
              "      <td>12.40</td>\n",
              "      <td>1.00</td>\n",
              "      <td>10.50</td>\n",
              "      <td>1.48</td>\n",
              "      <td>8.27</td>\n",
              "      <td>0.0</td>\n",
              "      <td>0.0</td>\n",
              "      <td>0.01</td>\n",
              "      <td>0.0</td>\n",
              "      <td>8.72</td>\n",
              "      <td>7.08</td>\n",
              "      <td>0.0</td>\n",
              "      <td>3.46</td>\n",
              "      <td>0.52</td>\n",
              "      <td>1.26</td>\n",
              "      <td>2.13</td>\n",
              "    </tr>\n",
              "    <tr>\n",
              "      <th>2014/01/05</th>\n",
              "      <td>3.61</td>\n",
              "      <td>0.21</td>\n",
              "      <td>0.74</td>\n",
              "      <td>0.00</td>\n",
              "      <td>0.28</td>\n",
              "      <td>13.66</td>\n",
              "      <td>78.03</td>\n",
              "      <td>0.95</td>\n",
              "      <td>3.31</td>\n",
              "      <td>0.00</td>\n",
              "      <td>7.50</td>\n",
              "      <td>0.0</td>\n",
              "      <td>0.55</td>\n",
              "      <td>0.0</td>\n",
              "      <td>6.49</td>\n",
              "      <td>21.00</td>\n",
              "      <td>2.66</td>\n",
              "      <td>0.46</td>\n",
              "      <td>0.0</td>\n",
              "      <td>20.03</td>\n",
              "      <td>0.0</td>\n",
              "      <td>3.93</td>\n",
              "      <td>20.84</td>\n",
              "      <td>0.0</td>\n",
              "      <td>2.90</td>\n",
              "      <td>4.64</td>\n",
              "      <td>45.21</td>\n",
              "      <td>12.96</td>\n",
              "      <td>0.0</td>\n",
              "      <td>8.75</td>\n",
              "      <td>0.0</td>\n",
              "      <td>13.56</td>\n",
              "      <td>0.00</td>\n",
              "      <td>7.98</td>\n",
              "      <td>3.60</td>\n",
              "      <td>18.87</td>\n",
              "      <td>2.91</td>\n",
              "      <td>0.0</td>\n",
              "      <td>14.86</td>\n",
              "      <td>4.74</td>\n",
              "      <td>...</td>\n",
              "      <td>1.56</td>\n",
              "      <td>18.22</td>\n",
              "      <td>0.00</td>\n",
              "      <td>1.79</td>\n",
              "      <td>0.0</td>\n",
              "      <td>8.85</td>\n",
              "      <td>13.81</td>\n",
              "      <td>22.71</td>\n",
              "      <td>0.14</td>\n",
              "      <td>9.22</td>\n",
              "      <td>0.00</td>\n",
              "      <td>0.0</td>\n",
              "      <td>10.10</td>\n",
              "      <td>0.46</td>\n",
              "      <td>12.32</td>\n",
              "      <td>27.97</td>\n",
              "      <td>0.0</td>\n",
              "      <td>0.41</td>\n",
              "      <td>10.38</td>\n",
              "      <td>4.20</td>\n",
              "      <td>7.77</td>\n",
              "      <td>5.92</td>\n",
              "      <td>1.57</td>\n",
              "      <td>0.0</td>\n",
              "      <td>13.41</td>\n",
              "      <td>1.03</td>\n",
              "      <td>14.68</td>\n",
              "      <td>1.15</td>\n",
              "      <td>13.30</td>\n",
              "      <td>0.0</td>\n",
              "      <td>0.0</td>\n",
              "      <td>0.02</td>\n",
              "      <td>0.0</td>\n",
              "      <td>6.55</td>\n",
              "      <td>9.11</td>\n",
              "      <td>0.0</td>\n",
              "      <td>4.63</td>\n",
              "      <td>0.20</td>\n",
              "      <td>0.00</td>\n",
              "      <td>1.81</td>\n",
              "    </tr>\n",
              "  </tbody>\n",
              "</table>\n",
              "<p>5 rows × 6129 columns</p>\n",
              "</div>"
            ],
            "text/plain": [
              "            4      6      7      14     ...  42331  42342  42355  42357\n",
              "2014/01/01   2.90   0.11   0.91   0.00  ...   3.60   0.22  36.35   2.03\n",
              "2014/01/02   5.64   0.11   1.16   0.00  ...   3.76   0.71   6.72   2.82\n",
              "2014/01/03   6.99   0.25   0.75   0.01  ...   2.86   0.92   4.41   1.93\n",
              "2014/01/04   3.32   0.27   1.30   0.00  ...   3.46   0.52   1.26   2.13\n",
              "2014/01/05   3.61   0.21   0.74   0.00  ...   4.63   0.20   0.00   1.81\n",
              "\n",
              "[5 rows x 6129 columns]"
            ]
          },
          "metadata": {
            "tags": []
          },
          "execution_count": 13
        }
      ]
    },
    {
      "cell_type": "markdown",
      "metadata": {
        "id": "PSz0-Y71GAJB"
      },
      "source": [
        "# **Interpolation Method**\n",
        "\n",
        "---\n",
        "\n"
      ]
    },
    {
      "cell_type": "code",
      "metadata": {
        "colab": {
          "base_uri": "https://localhost:8080/"
        },
        "id": "UnjPqIJ9GB8I",
        "outputId": "a79b971c-45b8-49a0-d561-87396b7e156d"
      },
      "source": [
        "X=X.interpolate(method ='linear', limit_direction ='forward')\n",
        "X=X.interpolate(method ='linear', limit_direction ='backward') \n",
        "X.isna().sum()"
      ],
      "execution_count": null,
      "outputs": [
        {
          "output_type": "execute_result",
          "data": {
            "text/plain": [
              "4        0\n",
              "6        0\n",
              "7        0\n",
              "14       0\n",
              "19       0\n",
              "        ..\n",
              "42327    0\n",
              "42331    0\n",
              "42342    0\n",
              "42355    0\n",
              "42357    0\n",
              "Length: 6129, dtype: int64"
            ]
          },
          "metadata": {
            "tags": []
          },
          "execution_count": 14
        }
      ]
    },
    {
      "cell_type": "code",
      "metadata": {
        "colab": {
          "base_uri": "https://localhost:8080/",
          "height": 408
        },
        "id": "Dvt7sdMe4j27",
        "outputId": "5b1bcbd6-8f7e-4140-f2af-d21f0260b106"
      },
      "source": [
        "X=X.transpose()\n",
        "X"
      ],
      "execution_count": null,
      "outputs": [
        {
          "output_type": "execute_result",
          "data": {
            "text/html": [
              "<div>\n",
              "<style scoped>\n",
              "    .dataframe tbody tr th:only-of-type {\n",
              "        vertical-align: middle;\n",
              "    }\n",
              "\n",
              "    .dataframe tbody tr th {\n",
              "        vertical-align: top;\n",
              "    }\n",
              "\n",
              "    .dataframe thead th {\n",
              "        text-align: right;\n",
              "    }\n",
              "</style>\n",
              "<table border=\"1\" class=\"dataframe\">\n",
              "  <thead>\n",
              "    <tr style=\"text-align: right;\">\n",
              "      <th></th>\n",
              "      <th>2014/01/01</th>\n",
              "      <th>2014/01/02</th>\n",
              "      <th>2014/01/03</th>\n",
              "      <th>2014/01/04</th>\n",
              "      <th>2014/01/05</th>\n",
              "      <th>2014/01/06</th>\n",
              "      <th>2014/01/07</th>\n",
              "      <th>2014/01/08</th>\n",
              "      <th>2014/01/09</th>\n",
              "      <th>2014/01/10</th>\n",
              "      <th>2014/01/11</th>\n",
              "      <th>2014/01/12</th>\n",
              "      <th>2014/01/13</th>\n",
              "      <th>2014/01/14</th>\n",
              "      <th>2014/01/15</th>\n",
              "      <th>2014/01/16</th>\n",
              "      <th>2014/01/17</th>\n",
              "      <th>2014/01/18</th>\n",
              "      <th>2014/01/19</th>\n",
              "      <th>2014/01/20</th>\n",
              "      <th>2014/01/21</th>\n",
              "      <th>2014/01/22</th>\n",
              "      <th>2014/01/23</th>\n",
              "      <th>2014/01/24</th>\n",
              "      <th>2014/01/25</th>\n",
              "      <th>2014/01/26</th>\n",
              "      <th>2014/01/27</th>\n",
              "      <th>2014/01/28</th>\n",
              "      <th>2014/01/29</th>\n",
              "      <th>2014/01/30</th>\n",
              "      <th>2014/01/31</th>\n",
              "      <th>2014/02/01</th>\n",
              "      <th>2014/02/02</th>\n",
              "      <th>2014/02/03</th>\n",
              "      <th>2014/02/04</th>\n",
              "      <th>2014/02/05</th>\n",
              "      <th>2014/02/06</th>\n",
              "      <th>2014/02/07</th>\n",
              "      <th>2014/02/08</th>\n",
              "      <th>2014/02/09</th>\n",
              "      <th>...</th>\n",
              "      <th>2016/09/22</th>\n",
              "      <th>2016/09/23</th>\n",
              "      <th>2016/09/24</th>\n",
              "      <th>2016/09/25</th>\n",
              "      <th>2016/09/26</th>\n",
              "      <th>2016/09/27</th>\n",
              "      <th>2016/09/28</th>\n",
              "      <th>2016/09/29</th>\n",
              "      <th>2016/09/30</th>\n",
              "      <th>2016/10/01</th>\n",
              "      <th>2016/10/02</th>\n",
              "      <th>2016/10/03</th>\n",
              "      <th>2016/10/04</th>\n",
              "      <th>2016/10/05</th>\n",
              "      <th>2016/10/06</th>\n",
              "      <th>2016/10/07</th>\n",
              "      <th>2016/10/08</th>\n",
              "      <th>2016/10/09</th>\n",
              "      <th>2016/10/10</th>\n",
              "      <th>2016/10/11</th>\n",
              "      <th>2016/10/12</th>\n",
              "      <th>2016/10/13</th>\n",
              "      <th>2016/10/14</th>\n",
              "      <th>2016/10/15</th>\n",
              "      <th>2016/10/16</th>\n",
              "      <th>2016/10/17</th>\n",
              "      <th>2016/10/18</th>\n",
              "      <th>2016/10/19</th>\n",
              "      <th>2016/10/20</th>\n",
              "      <th>2016/10/21</th>\n",
              "      <th>2016/10/22</th>\n",
              "      <th>2016/10/23</th>\n",
              "      <th>2016/10/24</th>\n",
              "      <th>2016/10/25</th>\n",
              "      <th>2016/10/26</th>\n",
              "      <th>2016/10/27</th>\n",
              "      <th>2016/10/28</th>\n",
              "      <th>2016/10/29</th>\n",
              "      <th>2016/10/30</th>\n",
              "      <th>2016/10/31</th>\n",
              "    </tr>\n",
              "  </thead>\n",
              "  <tbody>\n",
              "    <tr>\n",
              "      <th>4</th>\n",
              "      <td>2.90</td>\n",
              "      <td>5.64</td>\n",
              "      <td>6.99</td>\n",
              "      <td>3.32</td>\n",
              "      <td>3.61</td>\n",
              "      <td>5.35</td>\n",
              "      <td>4.73</td>\n",
              "      <td>3.68</td>\n",
              "      <td>3.53</td>\n",
              "      <td>3.42</td>\n",
              "      <td>3.81</td>\n",
              "      <td>4.58</td>\n",
              "      <td>3.56</td>\n",
              "      <td>4.25</td>\n",
              "      <td>3.86</td>\n",
              "      <td>3.53</td>\n",
              "      <td>3.41</td>\n",
              "      <td>0.85</td>\n",
              "      <td>0.88</td>\n",
              "      <td>3.81</td>\n",
              "      <td>6.51</td>\n",
              "      <td>9.19</td>\n",
              "      <td>7.79</td>\n",
              "      <td>7.02</td>\n",
              "      <td>7.25</td>\n",
              "      <td>6.37</td>\n",
              "      <td>6.43</td>\n",
              "      <td>7.89</td>\n",
              "      <td>7.46</td>\n",
              "      <td>7.95</td>\n",
              "      <td>7.59</td>\n",
              "      <td>4.84</td>\n",
              "      <td>6.06</td>\n",
              "      <td>5.60</td>\n",
              "      <td>6.72</td>\n",
              "      <td>7.29</td>\n",
              "      <td>5.60</td>\n",
              "      <td>6.28</td>\n",
              "      <td>6.73</td>\n",
              "      <td>6.97</td>\n",
              "      <td>...</td>\n",
              "      <td>9.56</td>\n",
              "      <td>9.48</td>\n",
              "      <td>10.60</td>\n",
              "      <td>10.06</td>\n",
              "      <td>10.79</td>\n",
              "      <td>10.91</td>\n",
              "      <td>17.77</td>\n",
              "      <td>10.37</td>\n",
              "      <td>13.51</td>\n",
              "      <td>14.13</td>\n",
              "      <td>17.44</td>\n",
              "      <td>15.96</td>\n",
              "      <td>12.18</td>\n",
              "      <td>18.54</td>\n",
              "      <td>13.44</td>\n",
              "      <td>11.68</td>\n",
              "      <td>9.15</td>\n",
              "      <td>9.16</td>\n",
              "      <td>10.19</td>\n",
              "      <td>10.31</td>\n",
              "      <td>8.03</td>\n",
              "      <td>10.08</td>\n",
              "      <td>10.34</td>\n",
              "      <td>11.24</td>\n",
              "      <td>15.14</td>\n",
              "      <td>14.36</td>\n",
              "      <td>12.39</td>\n",
              "      <td>10.36</td>\n",
              "      <td>9.29</td>\n",
              "      <td>7.91</td>\n",
              "      <td>14.21</td>\n",
              "      <td>10.22</td>\n",
              "      <td>8.47</td>\n",
              "      <td>6.11</td>\n",
              "      <td>6.10</td>\n",
              "      <td>6.73</td>\n",
              "      <td>7.52</td>\n",
              "      <td>10.89</td>\n",
              "      <td>9.86</td>\n",
              "      <td>8.72</td>\n",
              "    </tr>\n",
              "    <tr>\n",
              "      <th>6</th>\n",
              "      <td>0.11</td>\n",
              "      <td>0.11</td>\n",
              "      <td>0.25</td>\n",
              "      <td>0.27</td>\n",
              "      <td>0.21</td>\n",
              "      <td>0.20</td>\n",
              "      <td>0.14</td>\n",
              "      <td>0.34</td>\n",
              "      <td>0.23</td>\n",
              "      <td>0.53</td>\n",
              "      <td>0.45</td>\n",
              "      <td>0.51</td>\n",
              "      <td>1.32</td>\n",
              "      <td>0.71</td>\n",
              "      <td>0.12</td>\n",
              "      <td>0.52</td>\n",
              "      <td>0.55</td>\n",
              "      <td>0.74</td>\n",
              "      <td>0.92</td>\n",
              "      <td>1.37</td>\n",
              "      <td>1.81</td>\n",
              "      <td>1.12</td>\n",
              "      <td>1.00</td>\n",
              "      <td>0.75</td>\n",
              "      <td>2.17</td>\n",
              "      <td>2.87</td>\n",
              "      <td>1.12</td>\n",
              "      <td>1.41</td>\n",
              "      <td>1.73</td>\n",
              "      <td>1.54</td>\n",
              "      <td>1.15</td>\n",
              "      <td>1.60</td>\n",
              "      <td>1.99</td>\n",
              "      <td>1.44</td>\n",
              "      <td>1.79</td>\n",
              "      <td>1.86</td>\n",
              "      <td>1.99</td>\n",
              "      <td>2.06</td>\n",
              "      <td>3.02</td>\n",
              "      <td>2.14</td>\n",
              "      <td>...</td>\n",
              "      <td>2.16</td>\n",
              "      <td>1.60</td>\n",
              "      <td>5.10</td>\n",
              "      <td>2.41</td>\n",
              "      <td>2.70</td>\n",
              "      <td>3.04</td>\n",
              "      <td>4.33</td>\n",
              "      <td>2.46</td>\n",
              "      <td>3.19</td>\n",
              "      <td>4.76</td>\n",
              "      <td>3.13</td>\n",
              "      <td>5.86</td>\n",
              "      <td>2.92</td>\n",
              "      <td>3.07</td>\n",
              "      <td>3.72</td>\n",
              "      <td>0.74</td>\n",
              "      <td>2.68</td>\n",
              "      <td>2.02</td>\n",
              "      <td>1.61</td>\n",
              "      <td>1.19</td>\n",
              "      <td>1.06</td>\n",
              "      <td>1.65</td>\n",
              "      <td>1.08</td>\n",
              "      <td>0.38</td>\n",
              "      <td>0.00</td>\n",
              "      <td>0.89</td>\n",
              "      <td>0.49</td>\n",
              "      <td>2.49</td>\n",
              "      <td>1.30</td>\n",
              "      <td>1.25</td>\n",
              "      <td>1.85</td>\n",
              "      <td>3.36</td>\n",
              "      <td>1.45</td>\n",
              "      <td>2.12</td>\n",
              "      <td>1.55</td>\n",
              "      <td>1.18</td>\n",
              "      <td>1.13</td>\n",
              "      <td>1.34</td>\n",
              "      <td>1.26</td>\n",
              "      <td>1.40</td>\n",
              "    </tr>\n",
              "    <tr>\n",
              "      <th>7</th>\n",
              "      <td>0.91</td>\n",
              "      <td>1.16</td>\n",
              "      <td>0.75</td>\n",
              "      <td>1.30</td>\n",
              "      <td>0.74</td>\n",
              "      <td>0.94</td>\n",
              "      <td>0.85</td>\n",
              "      <td>1.21</td>\n",
              "      <td>1.17</td>\n",
              "      <td>0.86</td>\n",
              "      <td>1.10</td>\n",
              "      <td>0.66</td>\n",
              "      <td>5.82</td>\n",
              "      <td>3.17</td>\n",
              "      <td>1.18</td>\n",
              "      <td>4.05</td>\n",
              "      <td>3.66</td>\n",
              "      <td>3.21</td>\n",
              "      <td>4.83</td>\n",
              "      <td>5.92</td>\n",
              "      <td>3.99</td>\n",
              "      <td>1.45</td>\n",
              "      <td>1.39</td>\n",
              "      <td>2.06</td>\n",
              "      <td>0.89</td>\n",
              "      <td>5.87</td>\n",
              "      <td>2.96</td>\n",
              "      <td>3.30</td>\n",
              "      <td>2.44</td>\n",
              "      <td>4.57</td>\n",
              "      <td>6.44</td>\n",
              "      <td>5.61</td>\n",
              "      <td>5.97</td>\n",
              "      <td>4.25</td>\n",
              "      <td>10.92</td>\n",
              "      <td>15.02</td>\n",
              "      <td>4.34</td>\n",
              "      <td>2.59</td>\n",
              "      <td>1.02</td>\n",
              "      <td>0.91</td>\n",
              "      <td>...</td>\n",
              "      <td>3.19</td>\n",
              "      <td>2.75</td>\n",
              "      <td>3.98</td>\n",
              "      <td>3.25</td>\n",
              "      <td>3.73</td>\n",
              "      <td>4.46</td>\n",
              "      <td>2.36</td>\n",
              "      <td>2.82</td>\n",
              "      <td>3.70</td>\n",
              "      <td>7.36</td>\n",
              "      <td>10.00</td>\n",
              "      <td>8.90</td>\n",
              "      <td>9.26</td>\n",
              "      <td>3.74</td>\n",
              "      <td>4.10</td>\n",
              "      <td>4.42</td>\n",
              "      <td>3.03</td>\n",
              "      <td>2.70</td>\n",
              "      <td>3.02</td>\n",
              "      <td>2.69</td>\n",
              "      <td>2.82</td>\n",
              "      <td>3.13</td>\n",
              "      <td>3.11</td>\n",
              "      <td>3.86</td>\n",
              "      <td>2.87</td>\n",
              "      <td>3.67</td>\n",
              "      <td>2.93</td>\n",
              "      <td>2.93</td>\n",
              "      <td>2.64</td>\n",
              "      <td>3.55</td>\n",
              "      <td>3.55</td>\n",
              "      <td>3.22</td>\n",
              "      <td>3.06</td>\n",
              "      <td>3.97</td>\n",
              "      <td>2.79</td>\n",
              "      <td>3.82</td>\n",
              "      <td>2.75</td>\n",
              "      <td>2.96</td>\n",
              "      <td>3.67</td>\n",
              "      <td>2.91</td>\n",
              "    </tr>\n",
              "    <tr>\n",
              "      <th>14</th>\n",
              "      <td>0.00</td>\n",
              "      <td>0.00</td>\n",
              "      <td>0.01</td>\n",
              "      <td>0.00</td>\n",
              "      <td>0.00</td>\n",
              "      <td>0.00</td>\n",
              "      <td>0.00</td>\n",
              "      <td>0.00</td>\n",
              "      <td>0.00</td>\n",
              "      <td>0.00</td>\n",
              "      <td>0.00</td>\n",
              "      <td>0.00</td>\n",
              "      <td>0.00</td>\n",
              "      <td>0.00</td>\n",
              "      <td>0.00</td>\n",
              "      <td>0.00</td>\n",
              "      <td>0.00</td>\n",
              "      <td>0.00</td>\n",
              "      <td>0.00</td>\n",
              "      <td>0.00</td>\n",
              "      <td>0.00</td>\n",
              "      <td>0.00</td>\n",
              "      <td>0.00</td>\n",
              "      <td>0.00</td>\n",
              "      <td>0.00</td>\n",
              "      <td>0.00</td>\n",
              "      <td>0.00</td>\n",
              "      <td>0.00</td>\n",
              "      <td>0.00</td>\n",
              "      <td>0.00</td>\n",
              "      <td>0.00</td>\n",
              "      <td>0.00</td>\n",
              "      <td>0.00</td>\n",
              "      <td>0.00</td>\n",
              "      <td>0.00</td>\n",
              "      <td>0.00</td>\n",
              "      <td>0.00</td>\n",
              "      <td>0.00</td>\n",
              "      <td>0.00</td>\n",
              "      <td>0.00</td>\n",
              "      <td>...</td>\n",
              "      <td>0.00</td>\n",
              "      <td>0.49</td>\n",
              "      <td>0.11</td>\n",
              "      <td>0.02</td>\n",
              "      <td>0.81</td>\n",
              "      <td>0.21</td>\n",
              "      <td>0.00</td>\n",
              "      <td>0.00</td>\n",
              "      <td>0.00</td>\n",
              "      <td>0.00</td>\n",
              "      <td>0.03</td>\n",
              "      <td>0.24</td>\n",
              "      <td>0.77</td>\n",
              "      <td>0.36</td>\n",
              "      <td>0.54</td>\n",
              "      <td>0.33</td>\n",
              "      <td>0.00</td>\n",
              "      <td>0.00</td>\n",
              "      <td>0.29</td>\n",
              "      <td>0.71</td>\n",
              "      <td>0.73</td>\n",
              "      <td>0.66</td>\n",
              "      <td>0.28</td>\n",
              "      <td>0.37</td>\n",
              "      <td>0.19</td>\n",
              "      <td>0.00</td>\n",
              "      <td>0.00</td>\n",
              "      <td>0.08</td>\n",
              "      <td>0.71</td>\n",
              "      <td>0.46</td>\n",
              "      <td>0.02</td>\n",
              "      <td>0.83</td>\n",
              "      <td>0.02</td>\n",
              "      <td>0.06</td>\n",
              "      <td>0.58</td>\n",
              "      <td>0.89</td>\n",
              "      <td>0.35</td>\n",
              "      <td>0.38</td>\n",
              "      <td>0.70</td>\n",
              "      <td>0.25</td>\n",
              "    </tr>\n",
              "    <tr>\n",
              "      <th>19</th>\n",
              "      <td>0.02</td>\n",
              "      <td>0.02</td>\n",
              "      <td>0.01</td>\n",
              "      <td>0.03</td>\n",
              "      <td>0.28</td>\n",
              "      <td>1.31</td>\n",
              "      <td>0.01</td>\n",
              "      <td>0.03</td>\n",
              "      <td>0.03</td>\n",
              "      <td>0.03</td>\n",
              "      <td>0.01</td>\n",
              "      <td>0.03</td>\n",
              "      <td>0.02</td>\n",
              "      <td>0.02</td>\n",
              "      <td>0.03</td>\n",
              "      <td>0.02</td>\n",
              "      <td>0.02</td>\n",
              "      <td>0.02</td>\n",
              "      <td>0.05</td>\n",
              "      <td>1.80</td>\n",
              "      <td>0.01</td>\n",
              "      <td>0.03</td>\n",
              "      <td>0.02</td>\n",
              "      <td>0.35</td>\n",
              "      <td>1.61</td>\n",
              "      <td>0.04</td>\n",
              "      <td>0.02</td>\n",
              "      <td>0.07</td>\n",
              "      <td>0.04</td>\n",
              "      <td>0.04</td>\n",
              "      <td>0.01</td>\n",
              "      <td>0.00</td>\n",
              "      <td>0.03</td>\n",
              "      <td>0.02</td>\n",
              "      <td>0.02</td>\n",
              "      <td>0.01</td>\n",
              "      <td>0.02</td>\n",
              "      <td>0.01</td>\n",
              "      <td>0.02</td>\n",
              "      <td>0.02</td>\n",
              "      <td>...</td>\n",
              "      <td>9.24</td>\n",
              "      <td>7.61</td>\n",
              "      <td>8.29</td>\n",
              "      <td>7.63</td>\n",
              "      <td>8.60</td>\n",
              "      <td>6.87</td>\n",
              "      <td>9.05</td>\n",
              "      <td>9.27</td>\n",
              "      <td>12.28</td>\n",
              "      <td>9.54</td>\n",
              "      <td>16.53</td>\n",
              "      <td>15.69</td>\n",
              "      <td>18.06</td>\n",
              "      <td>10.25</td>\n",
              "      <td>3.60</td>\n",
              "      <td>3.58</td>\n",
              "      <td>3.61</td>\n",
              "      <td>3.43</td>\n",
              "      <td>3.21</td>\n",
              "      <td>3.08</td>\n",
              "      <td>3.18</td>\n",
              "      <td>3.15</td>\n",
              "      <td>3.36</td>\n",
              "      <td>3.41</td>\n",
              "      <td>3.45</td>\n",
              "      <td>3.45</td>\n",
              "      <td>3.30</td>\n",
              "      <td>3.30</td>\n",
              "      <td>3.47</td>\n",
              "      <td>3.54</td>\n",
              "      <td>3.78</td>\n",
              "      <td>3.76</td>\n",
              "      <td>3.50</td>\n",
              "      <td>3.67</td>\n",
              "      <td>13.08</td>\n",
              "      <td>8.94</td>\n",
              "      <td>9.41</td>\n",
              "      <td>7.30</td>\n",
              "      <td>6.77</td>\n",
              "      <td>7.83</td>\n",
              "    </tr>\n",
              "    <tr>\n",
              "      <th>...</th>\n",
              "      <td>...</td>\n",
              "      <td>...</td>\n",
              "      <td>...</td>\n",
              "      <td>...</td>\n",
              "      <td>...</td>\n",
              "      <td>...</td>\n",
              "      <td>...</td>\n",
              "      <td>...</td>\n",
              "      <td>...</td>\n",
              "      <td>...</td>\n",
              "      <td>...</td>\n",
              "      <td>...</td>\n",
              "      <td>...</td>\n",
              "      <td>...</td>\n",
              "      <td>...</td>\n",
              "      <td>...</td>\n",
              "      <td>...</td>\n",
              "      <td>...</td>\n",
              "      <td>...</td>\n",
              "      <td>...</td>\n",
              "      <td>...</td>\n",
              "      <td>...</td>\n",
              "      <td>...</td>\n",
              "      <td>...</td>\n",
              "      <td>...</td>\n",
              "      <td>...</td>\n",
              "      <td>...</td>\n",
              "      <td>...</td>\n",
              "      <td>...</td>\n",
              "      <td>...</td>\n",
              "      <td>...</td>\n",
              "      <td>...</td>\n",
              "      <td>...</td>\n",
              "      <td>...</td>\n",
              "      <td>...</td>\n",
              "      <td>...</td>\n",
              "      <td>...</td>\n",
              "      <td>...</td>\n",
              "      <td>...</td>\n",
              "      <td>...</td>\n",
              "      <td>...</td>\n",
              "      <td>...</td>\n",
              "      <td>...</td>\n",
              "      <td>...</td>\n",
              "      <td>...</td>\n",
              "      <td>...</td>\n",
              "      <td>...</td>\n",
              "      <td>...</td>\n",
              "      <td>...</td>\n",
              "      <td>...</td>\n",
              "      <td>...</td>\n",
              "      <td>...</td>\n",
              "      <td>...</td>\n",
              "      <td>...</td>\n",
              "      <td>...</td>\n",
              "      <td>...</td>\n",
              "      <td>...</td>\n",
              "      <td>...</td>\n",
              "      <td>...</td>\n",
              "      <td>...</td>\n",
              "      <td>...</td>\n",
              "      <td>...</td>\n",
              "      <td>...</td>\n",
              "      <td>...</td>\n",
              "      <td>...</td>\n",
              "      <td>...</td>\n",
              "      <td>...</td>\n",
              "      <td>...</td>\n",
              "      <td>...</td>\n",
              "      <td>...</td>\n",
              "      <td>...</td>\n",
              "      <td>...</td>\n",
              "      <td>...</td>\n",
              "      <td>...</td>\n",
              "      <td>...</td>\n",
              "      <td>...</td>\n",
              "      <td>...</td>\n",
              "      <td>...</td>\n",
              "      <td>...</td>\n",
              "      <td>...</td>\n",
              "      <td>...</td>\n",
              "    </tr>\n",
              "    <tr>\n",
              "      <th>42327</th>\n",
              "      <td>0.00</td>\n",
              "      <td>0.00</td>\n",
              "      <td>0.00</td>\n",
              "      <td>0.00</td>\n",
              "      <td>0.00</td>\n",
              "      <td>0.00</td>\n",
              "      <td>0.00</td>\n",
              "      <td>0.00</td>\n",
              "      <td>0.00</td>\n",
              "      <td>0.00</td>\n",
              "      <td>0.00</td>\n",
              "      <td>0.00</td>\n",
              "      <td>0.00</td>\n",
              "      <td>0.00</td>\n",
              "      <td>0.00</td>\n",
              "      <td>0.00</td>\n",
              "      <td>0.00</td>\n",
              "      <td>0.00</td>\n",
              "      <td>0.00</td>\n",
              "      <td>0.00</td>\n",
              "      <td>0.00</td>\n",
              "      <td>0.00</td>\n",
              "      <td>0.00</td>\n",
              "      <td>0.00</td>\n",
              "      <td>0.00</td>\n",
              "      <td>0.00</td>\n",
              "      <td>0.00</td>\n",
              "      <td>0.00</td>\n",
              "      <td>0.00</td>\n",
              "      <td>0.00</td>\n",
              "      <td>0.00</td>\n",
              "      <td>0.00</td>\n",
              "      <td>0.00</td>\n",
              "      <td>0.00</td>\n",
              "      <td>0.00</td>\n",
              "      <td>0.00</td>\n",
              "      <td>0.00</td>\n",
              "      <td>0.00</td>\n",
              "      <td>0.00</td>\n",
              "      <td>0.00</td>\n",
              "      <td>...</td>\n",
              "      <td>0.03</td>\n",
              "      <td>0.12</td>\n",
              "      <td>0.04</td>\n",
              "      <td>0.10</td>\n",
              "      <td>0.10</td>\n",
              "      <td>0.04</td>\n",
              "      <td>0.09</td>\n",
              "      <td>0.04</td>\n",
              "      <td>0.12</td>\n",
              "      <td>0.12</td>\n",
              "      <td>0.10</td>\n",
              "      <td>0.03</td>\n",
              "      <td>0.12</td>\n",
              "      <td>0.11</td>\n",
              "      <td>0.03</td>\n",
              "      <td>0.03</td>\n",
              "      <td>0.03</td>\n",
              "      <td>0.03</td>\n",
              "      <td>0.13</td>\n",
              "      <td>0.03</td>\n",
              "      <td>0.11</td>\n",
              "      <td>0.04</td>\n",
              "      <td>0.09</td>\n",
              "      <td>0.12</td>\n",
              "      <td>0.10</td>\n",
              "      <td>0.03</td>\n",
              "      <td>0.12</td>\n",
              "      <td>0.05</td>\n",
              "      <td>0.13</td>\n",
              "      <td>0.10</td>\n",
              "      <td>0.04</td>\n",
              "      <td>0.14</td>\n",
              "      <td>0.04</td>\n",
              "      <td>0.16</td>\n",
              "      <td>0.14</td>\n",
              "      <td>0.04</td>\n",
              "      <td>0.11</td>\n",
              "      <td>0.03</td>\n",
              "      <td>0.03</td>\n",
              "      <td>0.16</td>\n",
              "    </tr>\n",
              "    <tr>\n",
              "      <th>42331</th>\n",
              "      <td>3.60</td>\n",
              "      <td>3.76</td>\n",
              "      <td>2.86</td>\n",
              "      <td>3.46</td>\n",
              "      <td>4.63</td>\n",
              "      <td>5.10</td>\n",
              "      <td>3.42</td>\n",
              "      <td>3.51</td>\n",
              "      <td>3.81</td>\n",
              "      <td>4.80</td>\n",
              "      <td>3.92</td>\n",
              "      <td>6.93</td>\n",
              "      <td>4.67</td>\n",
              "      <td>3.76</td>\n",
              "      <td>4.29</td>\n",
              "      <td>3.59</td>\n",
              "      <td>4.01</td>\n",
              "      <td>6.25</td>\n",
              "      <td>4.07</td>\n",
              "      <td>3.37</td>\n",
              "      <td>6.72</td>\n",
              "      <td>3.58</td>\n",
              "      <td>5.04</td>\n",
              "      <td>4.27</td>\n",
              "      <td>5.28</td>\n",
              "      <td>4.00</td>\n",
              "      <td>5.46</td>\n",
              "      <td>5.17</td>\n",
              "      <td>8.51</td>\n",
              "      <td>7.32</td>\n",
              "      <td>7.27</td>\n",
              "      <td>9.62</td>\n",
              "      <td>5.71</td>\n",
              "      <td>6.92</td>\n",
              "      <td>5.60</td>\n",
              "      <td>4.95</td>\n",
              "      <td>5.52</td>\n",
              "      <td>6.26</td>\n",
              "      <td>5.88</td>\n",
              "      <td>4.41</td>\n",
              "      <td>...</td>\n",
              "      <td>9.97</td>\n",
              "      <td>10.78</td>\n",
              "      <td>10.57</td>\n",
              "      <td>11.68</td>\n",
              "      <td>9.69</td>\n",
              "      <td>10.17</td>\n",
              "      <td>12.36</td>\n",
              "      <td>10.91</td>\n",
              "      <td>11.30</td>\n",
              "      <td>9.77</td>\n",
              "      <td>8.11</td>\n",
              "      <td>11.96</td>\n",
              "      <td>11.79</td>\n",
              "      <td>8.26</td>\n",
              "      <td>8.48</td>\n",
              "      <td>13.78</td>\n",
              "      <td>9.52</td>\n",
              "      <td>10.54</td>\n",
              "      <td>8.92</td>\n",
              "      <td>7.68</td>\n",
              "      <td>7.66</td>\n",
              "      <td>9.02</td>\n",
              "      <td>8.14</td>\n",
              "      <td>10.99</td>\n",
              "      <td>7.98</td>\n",
              "      <td>11.64</td>\n",
              "      <td>12.55</td>\n",
              "      <td>9.07</td>\n",
              "      <td>11.29</td>\n",
              "      <td>10.44</td>\n",
              "      <td>10.31</td>\n",
              "      <td>8.34</td>\n",
              "      <td>9.67</td>\n",
              "      <td>6.67</td>\n",
              "      <td>9.65</td>\n",
              "      <td>8.01</td>\n",
              "      <td>7.68</td>\n",
              "      <td>9.29</td>\n",
              "      <td>10.31</td>\n",
              "      <td>8.55</td>\n",
              "    </tr>\n",
              "    <tr>\n",
              "      <th>42342</th>\n",
              "      <td>0.22</td>\n",
              "      <td>0.71</td>\n",
              "      <td>0.92</td>\n",
              "      <td>0.52</td>\n",
              "      <td>0.20</td>\n",
              "      <td>1.35</td>\n",
              "      <td>1.11</td>\n",
              "      <td>0.92</td>\n",
              "      <td>0.84</td>\n",
              "      <td>1.06</td>\n",
              "      <td>0.19</td>\n",
              "      <td>0.21</td>\n",
              "      <td>0.92</td>\n",
              "      <td>0.88</td>\n",
              "      <td>0.13</td>\n",
              "      <td>0.75</td>\n",
              "      <td>0.13</td>\n",
              "      <td>0.52</td>\n",
              "      <td>0.13</td>\n",
              "      <td>0.12</td>\n",
              "      <td>0.12</td>\n",
              "      <td>0.13</td>\n",
              "      <td>0.08</td>\n",
              "      <td>0.08</td>\n",
              "      <td>0.00</td>\n",
              "      <td>0.32</td>\n",
              "      <td>0.37</td>\n",
              "      <td>0.84</td>\n",
              "      <td>1.08</td>\n",
              "      <td>7.77</td>\n",
              "      <td>3.87</td>\n",
              "      <td>1.80</td>\n",
              "      <td>0.55</td>\n",
              "      <td>0.88</td>\n",
              "      <td>0.30</td>\n",
              "      <td>0.10</td>\n",
              "      <td>0.13</td>\n",
              "      <td>0.68</td>\n",
              "      <td>0.49</td>\n",
              "      <td>0.13</td>\n",
              "      <td>...</td>\n",
              "      <td>18.91</td>\n",
              "      <td>18.42</td>\n",
              "      <td>16.26</td>\n",
              "      <td>18.13</td>\n",
              "      <td>17.43</td>\n",
              "      <td>19.13</td>\n",
              "      <td>14.03</td>\n",
              "      <td>16.89</td>\n",
              "      <td>17.50</td>\n",
              "      <td>22.07</td>\n",
              "      <td>16.40</td>\n",
              "      <td>18.63</td>\n",
              "      <td>16.74</td>\n",
              "      <td>14.22</td>\n",
              "      <td>15.17</td>\n",
              "      <td>15.94</td>\n",
              "      <td>15.30</td>\n",
              "      <td>11.99</td>\n",
              "      <td>13.80</td>\n",
              "      <td>10.64</td>\n",
              "      <td>10.67</td>\n",
              "      <td>10.19</td>\n",
              "      <td>9.92</td>\n",
              "      <td>11.20</td>\n",
              "      <td>13.23</td>\n",
              "      <td>15.51</td>\n",
              "      <td>14.64</td>\n",
              "      <td>15.02</td>\n",
              "      <td>17.15</td>\n",
              "      <td>12.64</td>\n",
              "      <td>16.05</td>\n",
              "      <td>22.77</td>\n",
              "      <td>15.21</td>\n",
              "      <td>14.31</td>\n",
              "      <td>13.93</td>\n",
              "      <td>14.06</td>\n",
              "      <td>16.66</td>\n",
              "      <td>17.48</td>\n",
              "      <td>14.77</td>\n",
              "      <td>10.42</td>\n",
              "    </tr>\n",
              "    <tr>\n",
              "      <th>42355</th>\n",
              "      <td>36.35</td>\n",
              "      <td>6.72</td>\n",
              "      <td>4.41</td>\n",
              "      <td>1.26</td>\n",
              "      <td>0.00</td>\n",
              "      <td>0.00</td>\n",
              "      <td>0.00</td>\n",
              "      <td>0.00</td>\n",
              "      <td>0.00</td>\n",
              "      <td>0.00</td>\n",
              "      <td>0.00</td>\n",
              "      <td>4.66</td>\n",
              "      <td>5.09</td>\n",
              "      <td>1.48</td>\n",
              "      <td>8.21</td>\n",
              "      <td>0.00</td>\n",
              "      <td>46.99</td>\n",
              "      <td>44.99</td>\n",
              "      <td>0.00</td>\n",
              "      <td>49.11</td>\n",
              "      <td>49.48</td>\n",
              "      <td>48.74</td>\n",
              "      <td>49.28</td>\n",
              "      <td>45.58</td>\n",
              "      <td>42.37</td>\n",
              "      <td>41.66</td>\n",
              "      <td>46.21</td>\n",
              "      <td>42.88</td>\n",
              "      <td>42.04</td>\n",
              "      <td>1.72</td>\n",
              "      <td>0.00</td>\n",
              "      <td>37.11</td>\n",
              "      <td>44.69</td>\n",
              "      <td>42.11</td>\n",
              "      <td>34.06</td>\n",
              "      <td>29.89</td>\n",
              "      <td>35.85</td>\n",
              "      <td>41.76</td>\n",
              "      <td>37.90</td>\n",
              "      <td>38.13</td>\n",
              "      <td>...</td>\n",
              "      <td>9.55</td>\n",
              "      <td>17.78</td>\n",
              "      <td>16.76</td>\n",
              "      <td>16.94</td>\n",
              "      <td>14.36</td>\n",
              "      <td>12.63</td>\n",
              "      <td>14.90</td>\n",
              "      <td>7.63</td>\n",
              "      <td>11.43</td>\n",
              "      <td>14.82</td>\n",
              "      <td>14.74</td>\n",
              "      <td>18.65</td>\n",
              "      <td>19.15</td>\n",
              "      <td>25.21</td>\n",
              "      <td>17.94</td>\n",
              "      <td>24.18</td>\n",
              "      <td>24.26</td>\n",
              "      <td>21.80</td>\n",
              "      <td>27.26</td>\n",
              "      <td>22.99</td>\n",
              "      <td>23.51</td>\n",
              "      <td>27.93</td>\n",
              "      <td>24.15</td>\n",
              "      <td>24.06</td>\n",
              "      <td>21.82</td>\n",
              "      <td>23.08</td>\n",
              "      <td>17.29</td>\n",
              "      <td>22.14</td>\n",
              "      <td>21.04</td>\n",
              "      <td>28.40</td>\n",
              "      <td>23.93</td>\n",
              "      <td>33.49</td>\n",
              "      <td>30.00</td>\n",
              "      <td>29.86</td>\n",
              "      <td>32.41</td>\n",
              "      <td>35.18</td>\n",
              "      <td>38.41</td>\n",
              "      <td>26.18</td>\n",
              "      <td>30.13</td>\n",
              "      <td>33.64</td>\n",
              "    </tr>\n",
              "    <tr>\n",
              "      <th>42357</th>\n",
              "      <td>2.03</td>\n",
              "      <td>2.82</td>\n",
              "      <td>1.93</td>\n",
              "      <td>2.13</td>\n",
              "      <td>1.81</td>\n",
              "      <td>2.91</td>\n",
              "      <td>1.73</td>\n",
              "      <td>1.53</td>\n",
              "      <td>1.93</td>\n",
              "      <td>1.32</td>\n",
              "      <td>1.78</td>\n",
              "      <td>1.59</td>\n",
              "      <td>2.25</td>\n",
              "      <td>1.49</td>\n",
              "      <td>1.94</td>\n",
              "      <td>1.87</td>\n",
              "      <td>1.69</td>\n",
              "      <td>1.81</td>\n",
              "      <td>2.18</td>\n",
              "      <td>2.81</td>\n",
              "      <td>2.91</td>\n",
              "      <td>3.37</td>\n",
              "      <td>4.04</td>\n",
              "      <td>2.86</td>\n",
              "      <td>2.90</td>\n",
              "      <td>3.98</td>\n",
              "      <td>5.34</td>\n",
              "      <td>2.59</td>\n",
              "      <td>5.77</td>\n",
              "      <td>8.49</td>\n",
              "      <td>7.18</td>\n",
              "      <td>7.36</td>\n",
              "      <td>6.90</td>\n",
              "      <td>8.00</td>\n",
              "      <td>4.51</td>\n",
              "      <td>5.72</td>\n",
              "      <td>6.27</td>\n",
              "      <td>8.96</td>\n",
              "      <td>6.42</td>\n",
              "      <td>4.60</td>\n",
              "      <td>...</td>\n",
              "      <td>2.19</td>\n",
              "      <td>1.99</td>\n",
              "      <td>2.86</td>\n",
              "      <td>2.43</td>\n",
              "      <td>2.50</td>\n",
              "      <td>2.79</td>\n",
              "      <td>1.86</td>\n",
              "      <td>1.97</td>\n",
              "      <td>1.98</td>\n",
              "      <td>1.89</td>\n",
              "      <td>2.53</td>\n",
              "      <td>2.46</td>\n",
              "      <td>1.98</td>\n",
              "      <td>1.99</td>\n",
              "      <td>2.05</td>\n",
              "      <td>2.19</td>\n",
              "      <td>2.72</td>\n",
              "      <td>1.93</td>\n",
              "      <td>2.10</td>\n",
              "      <td>2.01</td>\n",
              "      <td>1.46</td>\n",
              "      <td>2.18</td>\n",
              "      <td>1.85</td>\n",
              "      <td>2.14</td>\n",
              "      <td>2.37</td>\n",
              "      <td>1.93</td>\n",
              "      <td>1.98</td>\n",
              "      <td>2.09</td>\n",
              "      <td>2.01</td>\n",
              "      <td>2.79</td>\n",
              "      <td>2.29</td>\n",
              "      <td>1.54</td>\n",
              "      <td>2.13</td>\n",
              "      <td>2.05</td>\n",
              "      <td>2.80</td>\n",
              "      <td>2.29</td>\n",
              "      <td>2.22</td>\n",
              "      <td>2.34</td>\n",
              "      <td>2.52</td>\n",
              "      <td>1.84</td>\n",
              "    </tr>\n",
              "  </tbody>\n",
              "</table>\n",
              "<p>6129 rows × 1034 columns</p>\n",
              "</div>"
            ],
            "text/plain": [
              "       2014/01/01  2014/01/02  2014/01/03  ...  2016/10/29  2016/10/30  2016/10/31\n",
              "4            2.90        5.64        6.99  ...       10.89        9.86        8.72\n",
              "6            0.11        0.11        0.25  ...        1.34        1.26        1.40\n",
              "7            0.91        1.16        0.75  ...        2.96        3.67        2.91\n",
              "14           0.00        0.00        0.01  ...        0.38        0.70        0.25\n",
              "19           0.02        0.02        0.01  ...        7.30        6.77        7.83\n",
              "...           ...         ...         ...  ...         ...         ...         ...\n",
              "42327        0.00        0.00        0.00  ...        0.03        0.03        0.16\n",
              "42331        3.60        3.76        2.86  ...        9.29       10.31        8.55\n",
              "42342        0.22        0.71        0.92  ...       17.48       14.77       10.42\n",
              "42355       36.35        6.72        4.41  ...       26.18       30.13       33.64\n",
              "42357        2.03        2.82        1.93  ...        2.34        2.52        1.84\n",
              "\n",
              "[6129 rows x 1034 columns]"
            ]
          },
          "metadata": {
            "tags": []
          },
          "execution_count": 15
        }
      ]
    },
    {
      "cell_type": "markdown",
      "metadata": {
        "id": "qHCTFRpe4nW1"
      },
      "source": [
        "# **MinMaxScaler and StandardScaler**"
      ]
    },
    {
      "cell_type": "code",
      "metadata": {
        "id": "_lyarSTm4kge"
      },
      "source": [
        "from sklearn.preprocessing import MinMaxScaler\n",
        "scaler = MinMaxScaler(feature_range=(0, 1)) \n",
        "X = scaler.fit_transform(X) \n",
        "\n",
        "# rescaledX = scaler.fit_transform(X) \n",
        "\n",
        "from sklearn.preprocessing import StandardScaler\n",
        "scaler = StandardScaler().fit(X) \n",
        "X= scaler.transform(X)"
      ],
      "execution_count": null,
      "outputs": []
    },
    {
      "cell_type": "markdown",
      "metadata": {
        "id": "YHTIJpkkXJxK"
      },
      "source": [
        "# **RESAMPLING SMOTENM**"
      ]
    },
    {
      "cell_type": "code",
      "metadata": {
        "colab": {
          "base_uri": "https://localhost:8080/"
        },
        "id": "wbHRkpwWXlkO",
        "outputId": "caa312ba-578e-48be-a20e-a849216c1882"
      },
      "source": [
        "from imblearn.over_sampling import SMOTE  \n",
        "from imblearn.under_sampling import NearMiss\n",
        "from imblearn.pipeline import Pipeline \n",
        "import matplotlib.pyplot as plt\n",
        "\n",
        "oversample = SMOTE ()\n",
        "nm = NearMiss()\n",
        "RES_X,RES_Y= oversample.fit_resample(X, Y)\n",
        "# steps = [('o', oversample),('u', nm)]\n",
        "# pipeline = Pipeline(steps=steps)\n",
        "resX, resy = nm.fit_resample(RES_X,RES_Y)\n"
      ],
      "execution_count": null,
      "outputs": [
        {
          "output_type": "stream",
          "text": [
            "/usr/local/lib/python3.6/dist-packages/sklearn/utils/deprecation.py:87: FutureWarning: Function safe_indexing is deprecated; safe_indexing is deprecated in version 0.22 and will be removed in version 0.24.\n",
            "  warnings.warn(msg, category=FutureWarning)\n",
            "/usr/local/lib/python3.6/dist-packages/sklearn/utils/deprecation.py:87: FutureWarning: Function safe_indexing is deprecated; safe_indexing is deprecated in version 0.22 and will be removed in version 0.24.\n",
            "  warnings.warn(msg, category=FutureWarning)\n",
            "/usr/local/lib/python3.6/dist-packages/sklearn/utils/deprecation.py:87: FutureWarning: Function safe_indexing is deprecated; safe_indexing is deprecated in version 0.22 and will be removed in version 0.24.\n",
            "  warnings.warn(msg, category=FutureWarning)\n",
            "/usr/local/lib/python3.6/dist-packages/sklearn/utils/deprecation.py:87: FutureWarning: Function safe_indexing is deprecated; safe_indexing is deprecated in version 0.22 and will be removed in version 0.24.\n",
            "  warnings.warn(msg, category=FutureWarning)\n"
          ],
          "name": "stderr"
        }
      ]
    },
    {
      "cell_type": "code",
      "metadata": {
        "colab": {
          "base_uri": "https://localhost:8080/",
          "height": 561
        },
        "id": "GU8DpgJpXt_y",
        "outputId": "712130c9-b218-479c-eb9a-6919bcf0470d"
      },
      "source": [
        "f, ax = plt.subplots(nrows=1, ncols=1,figsize=(15,8))\n",
        "sns.countplot(resy,facecolor=(0, 0, 0, 0),linewidth=5,edgecolor=sns.color_palette(\"dark\", 3), label = \"Count\")\n",
        "# ax.set_title(\"2D 2 classes Generated Data\")\n",
        "plt.ylabel('Total observations',fontsize=16)\n",
        "plt.xlabel('Class',fontsize=16)\n",
        "plt.savefig('resample_generated_data.png',)\n",
        "plt.savefig('resample_generated_data.eps',)\n",
        "# To check the count of fraudulent and normal transactions\n"
      ],
      "execution_count": null,
      "outputs": [
        {
          "output_type": "stream",
          "text": [
            "/usr/local/lib/python3.6/dist-packages/seaborn/_decorators.py:43: FutureWarning: Pass the following variable as a keyword arg: x. From version 0.12, the only valid positional argument will be `data`, and passing other arguments without an explicit keyword will result in an error or misinterpretation.\n",
            "  FutureWarning\n"
          ],
          "name": "stderr"
        },
        {
          "output_type": "display_data",
          "data": {
            "image/png": "[encoded data removed]",
            "text/plain": [
              "<Figure size 1080x576 with 1 Axes>"
            ]
          },
          "metadata": {
            "tags": [],
            "needs_background": "light"
          }
        }
      ]
    },
    {
      "cell_type": "markdown",
      "metadata": {
        "id": "VmUxM3-Z4rIX"
      },
      "source": [
        "# **Train Test Split**"
      ]
    },
    {
      "cell_type": "code",
      "metadata": {
        "colab": {
          "base_uri": "https://localhost:8080/"
        },
        "id": "YlHG5E6C4s6C",
        "outputId": "4fd5a441-2902-4589-e42a-c649403554ab"
      },
      "source": [
        "from sklearn.model_selection import train_test_split\n",
        "train_X, test_X, train_y, test_y  = train_test_split(resX, resy, test_size=0.25, random_state = 0) \n",
        "print('Traing Dataset')\n",
        "print (train_X.shape)\n",
        "print('Testing dataset')\n",
        "print (test_X.shape)\n",
        "\n",
        "train_X= np.ascontiguousarray(train_X)\n",
        "test_X= np.ascontiguousarray(test_X)\n",
        "train_y=np.ascontiguousarray(train_y)\n",
        "test_y= np.ascontiguousarray(test_y)"
      ],
      "execution_count": null,
      "outputs": [
        {
          "output_type": "stream",
          "text": [
            "Traing Dataset\n",
            "(8584, 1034)\n",
            "Testing dataset\n",
            "(2862, 1034)\n"
          ],
          "name": "stdout"
        }
      ]
    },
    {
      "cell_type": "markdown",
      "metadata": {
        "id": "8ucA3mZQ4y1C"
      },
      "source": [
        "# **Train case percentage**"
      ]
    },
    {
      "cell_type": "code",
      "metadata": {
        "colab": {
          "base_uri": "https://localhost:8080/"
        },
        "id": "0V9N1Ql7423-",
        "outputId": "45510778-a9a7-4c2e-dc92-30fb4eae593b"
      },
      "source": [
        "total_obs = len(train_y)\n",
        "print(\"train case\")\n",
        "print(total_obs)\n",
        "non_fraud = [i for i in train_y if i == 0]\n",
        "count_non_fraud = non_fraud.count(0)\n",
        "print(count_non_fraud)\n",
        "percentage = count_non_fraud/total_obs * 100\n",
        "print(f'{percentage:0.2f}%')"
      ],
      "execution_count": null,
      "outputs": [
        {
          "output_type": "stream",
          "text": [
            "train case\n",
            "8584\n",
            "4338\n",
            "50.54%\n"
          ],
          "name": "stdout"
        }
      ]
    },
    {
      "cell_type": "markdown",
      "metadata": {
        "id": "blmX92Fh45q5"
      },
      "source": [
        "# **Test case percentage**"
      ]
    },
    {
      "cell_type": "code",
      "metadata": {
        "colab": {
          "base_uri": "https://localhost:8080/"
        },
        "id": "iWHZU3XX47fB",
        "outputId": "8ae62f6b-e79c-47e9-e31b-64e38f2f876b"
      },
      "source": [
        "total_obs = len(test_y)\n",
        "print(\"test case\")\n",
        "print(total_obs)\n",
        "non_fraud = [i for i in test_y if i == 0]\n",
        "count_non_fraud = non_fraud.count(0)\n",
        "print(count_non_fraud)\n",
        "percentage = count_non_fraud/total_obs * 100\n",
        "print(f'{percentage:0.2f}%')"
      ],
      "execution_count": null,
      "outputs": [
        {
          "output_type": "stream",
          "text": [
            "test case\n",
            "2862\n",
            "1385\n",
            "48.39%\n"
          ],
          "name": "stdout"
        }
      ]
    },
    {
      "cell_type": "code",
      "metadata": {
        "colab": {
          "base_uri": "https://localhost:8080/"
        },
        "id": "oqeA6KyV4_3K",
        "outputId": "66b17185-4087-4efd-a59d-b511866d683f"
      },
      "source": [
        "total_obs = len(train_y)\n",
        "total_obs"
      ],
      "execution_count": null,
      "outputs": [
        {
          "output_type": "execute_result",
          "data": {
            "text/plain": [
              "8584"
            ]
          },
          "metadata": {
            "tags": []
          },
          "execution_count": 27
        }
      ]
    },
    {
      "cell_type": "code",
      "metadata": {
        "colab": {
          "base_uri": "https://localhost:8080/"
        },
        "id": "czPEK9fq5CR5",
        "outputId": "2b22c073-2d18-4c4a-e121-865eb6a49eae"
      },
      "source": [
        "non_fraud = [i for i in train_y if i == 0]\n",
        "count_non_fraud = non_fraud.count(0)\n",
        "count_non_fraud"
      ],
      "execution_count": null,
      "outputs": [
        {
          "output_type": "execute_result",
          "data": {
            "text/plain": [
              "4338"
            ]
          },
          "metadata": {
            "tags": []
          },
          "execution_count": 28
        }
      ]
    },
    {
      "cell_type": "code",
      "metadata": {
        "colab": {
          "base_uri": "https://localhost:8080/"
        },
        "id": "sXerHLez5C68",
        "outputId": "89d7d276-13f4-4e31-cc0c-45f2bf110f64"
      },
      "source": [
        "percentage = count_non_fraud/total_obs * 100\n",
        "print(f'{percentage:0.2f}%')"
      ],
      "execution_count": null,
      "outputs": [
        {
          "output_type": "stream",
          "text": [
            "50.54%\n"
          ],
          "name": "stdout"
        }
      ]
    },
    {
      "cell_type": "markdown",
      "metadata": {
        "id": "XV9nrakS5JVI"
      },
      "source": [
        "# **Import**"
      ]
    },
    {
      "cell_type": "code",
      "metadata": {
        "id": "uWuB3fw45Lb0"
      },
      "source": [
        "from sklearn.linear_model import LogisticRegression\n",
        "from sklearn.neighbors import KNeighborsClassifier\n",
        "from sklearn.naive_bayes import GaussianNB \n",
        "from sklearn.ensemble import RandomForestClassifier\n",
        "from mlxtend.classifier import StackingClassifier\n",
        "from sklearn.model_selection import cross_val_score, train_test_split\n",
        "import itertools\n",
        "import numpy as np\n",
        "import seaborn as sns\n",
        "import matplotlib.pyplot as plt\n",
        "import matplotlib.gridspec as gridspec\n",
        "import xgboost\n",
        "from mlxtend.plotting import plot_learning_curves\n",
        "from mlxtend.plotting import plot_decision_regions\n",
        "import pandas as pd\n",
        "from sklearn.metrics import confusion_matrix\n",
        "from pycm import *\n",
        "from xgboost.sklearn import XGBClassifier\n",
        "# Get some classifiers to evaluate\n",
        "from sklearn.model_selection import cross_val_score\n",
        "from sklearn.ensemble import BaggingClassifier, ExtraTreesClassifier, RandomForestClassifier\n",
        "from sklearn.neighbors import KNeighborsClassifier\n",
        "from sklearn.linear_model import RidgeClassifier\n",
        "from sklearn.svm import SVC\n",
        "from sklearn.ensemble import AdaBoostClassifier,GradientBoostingClassifier,VotingClassifier\n",
        "from mlxtend.classifier import EnsembleVoteClassifier\n"
      ],
      "execution_count": null,
      "outputs": []
    },
    {
      "cell_type": "markdown",
      "metadata": {
        "id": "VlPJtdIt5QU6"
      },
      "source": [
        "# **Plot_ROC**"
      ]
    },
    {
      "cell_type": "code",
      "metadata": {
        "id": "U21eSQNh5RYZ"
      },
      "source": [
        "def plot_ROC(label,y_train_true, y_train_prob, y_test_true, y_test_prob):\n",
        "    '''\n",
        "    a funciton to plot the ROC curve for train labels and test labels.\n",
        "    Use the best threshold found in train set to classify items in test set.\n",
        "    '''\n",
        "    fpr_train, tpr_train, thresholds_train = roc_curve(y_train_true, y_train_prob, pos_label =True)\n",
        "    sum_sensitivity_specificity_train = tpr_train + (1-fpr_train)\n",
        "    best_threshold_id_train = np.argmax(sum_sensitivity_specificity_train)\n",
        "    best_threshold = thresholds_train[best_threshold_id_train]\n",
        "    best_fpr_train = fpr_train[best_threshold_id_train]\n",
        "    best_tpr_train = tpr_train[best_threshold_id_train]\n",
        "    y_train = y_train_prob > best_threshold\n",
        "    cm_train = confusion_matrix(y_train_true, y_train)\n",
        "    acc_train = accuracy_score(y_train_true, y_train)\n",
        "    auc_train = roc_auc_score(y_train_true, y_train)\n",
        "    fig = plt.figure(figsize=(10,5))\n",
        "    ax = fig.add_subplot(121)\n",
        "    curve1 = ax.plot(fpr_train, tpr_train)\n",
        "    curve2 = ax.plot([0, 1], [0, 1], color='navy', linestyle='--')\n",
        "    dot = ax.plot(best_fpr_train, best_tpr_train, marker='o', color='black')\n",
        "    ax.text(best_fpr_train, best_tpr_train, s = '(%.3f,%.3f)' %(best_fpr_train, best_tpr_train))\n",
        "    plt.xlim([0.0, 1.0])\n",
        "    plt.ylim([0.0, 1.0])\n",
        "    plt.xlabel('False Positive Rate')\n",
        "    plt.ylabel('True Positive Rate')\n",
        "    plt.title('ROC curve (Train), AUC = %.4f'%auc_train)\n",
        "    # plt.savefig(label+'ROC curve (Train)', dpi = 500)\n",
        "    fpr_test, tpr_test, thresholds_test = roc_curve(y_test_true, y_test_prob, pos_label =True)\n",
        "    y_test = y_test_prob > best_threshold\n",
        "    cm_test = confusion_matrix(y_test_true, y_test)\n",
        "    acc_test = accuracy_score(y_test_true, y_test)\n",
        "    auc_test = roc_auc_score(y_test_true, y_test)\n",
        "    tpr_score = float(cm_test[1][1])/(cm_test[1][1] + cm_test[1][0])\n",
        "    fpr_score = float(cm_test[0][1])/(cm_test[0][0]+ cm_test[0][1])\n",
        "    ax2 = fig.add_subplot(122)\n",
        "    curve1 = ax2.plot(fpr_test, tpr_test)\n",
        "    curve2 = ax2.plot([0, 1], [0, 1], color='navy', linestyle='--')\n",
        "    dot = ax2.plot(fpr_score, tpr_score, marker='o', color='black')\n",
        "    ax2.text(fpr_score, tpr_score, s = '(%.3f,%.3f)' %(fpr_score, tpr_score))\n",
        "    plt.xlim([0.0, 1.0])\n",
        "    plt.ylim([0.0, 1.0])\n",
        "    plt.xlabel('False Positive Rate')\n",
        "    plt.ylabel('True Positive Rate')\n",
        "    plt.title('ROC curve (Test), AUC = %.4f'%auc_test)\n",
        "    plt.savefig(label+'ROC.eps', dpi = 500)\n",
        "    plt.show()\n",
        "    return best_threshold"
      ],
      "execution_count": null,
      "outputs": []
    },
    {
      "cell_type": "code",
      "metadata": {
        "colab": {
          "base_uri": "https://localhost:8080/"
        },
        "id": "WyRA7lyj7tri",
        "outputId": "a1276709-b112-4e9c-b358-be844846e788"
      },
      "source": [
        "!pip install hyperactive"
      ],
      "execution_count": null,
      "outputs": [
        {
          "output_type": "stream",
          "text": [
            "Collecting hyperactive\n",
            "\u001b[?25l  Downloading https://files.pythonhosted.org/packages/80/78/1f299c276d6e9bd78d3b0962161c5384a17099f9aed245521859efc54ed9/hyperactive-2.3.1-py3-none-any.whl (59kB)\n",
            "\u001b[K     |████████████████████████████████| 61kB 5.3MB/s \n",
            "\u001b[?25hRequirement already satisfied: numpy in /usr/local/lib/python3.6/dist-packages (from hyperactive) (1.18.5)\n",
            "Requirement already satisfied: tqdm in /usr/local/lib/python3.6/dist-packages (from hyperactive) (4.41.1)\n",
            "Requirement already satisfied: scipy in /usr/local/lib/python3.6/dist-packages (from hyperactive) (1.4.1)\n",
            "Requirement already satisfied: dill in /usr/local/lib/python3.6/dist-packages (from hyperactive) (0.3.3)\n",
            "Requirement already satisfied: pandas in /usr/local/lib/python3.6/dist-packages (from hyperactive) (1.1.4)\n",
            "Requirement already satisfied: pytz>=2017.2 in /usr/local/lib/python3.6/dist-packages (from pandas->hyperactive) (2018.9)\n",
            "Requirement already satisfied: python-dateutil>=2.7.3 in /usr/local/lib/python3.6/dist-packages (from pandas->hyperactive) (2.8.1)\n",
            "Requirement already satisfied: six>=1.5 in /usr/local/lib/python3.6/dist-packages (from python-dateutil>=2.7.3->pandas->hyperactive) (1.15.0)\n",
            "Installing collected packages: hyperactive\n",
            "Successfully installed hyperactive-2.3.1\n"
          ],
          "name": "stdout"
        }
      ]
    },
    {
      "cell_type": "markdown",
      "metadata": {
        "id": "3mTyof_dCoSD"
      },
      "source": [
        "# **Apply Under Sampling Technique Condensed Nearest Neighbour**"
      ]
    },
    {
      "cell_type": "code",
      "metadata": {
        "id": "mhE99kRTCsj9"
      },
      "source": [
        "from imblearn.under_sampling import CondensedNearestNeighbour \n",
        "\n",
        "cnn = CondensedNearestNeighbour(random_state=42)\n",
        "X1, Y1 = cnn.fit_resample(X,Y)\n",
        "train_X, test_X, train_y, test_y=train_test_split(X1,Y1,test_size=0.25)\n",
        "print(\"train_X.shape\",train_X.shape)\n",
        "print(\"train_y.shape\",train_y.shape)\n",
        "print(\"test_X.shape\",test_X.shape)\n",
        "\n",
        "\n"
      ],
      "execution_count": null,
      "outputs": []
    },
    {
      "cell_type": "code",
      "metadata": {
        "id": "4wM8I0GzGbu1"
      },
      "source": [
        "total_obs = len(train_y)\n",
        "print(\"traing case\")\n",
        "print(\"total_obs\",total_obs)\n",
        "non_fraud = [i for i in train_y if i == 0]\n",
        "count_non_fraud = non_fraud.count(0)\n",
        "print(\"count_non_fraud\",count_non_fraud)\n",
        "percentage = count_non_fraud/total_obs * 100\n",
        "print(f'{percentage:0.2f}%')\n",
        "total_obs = len(test_y)\n",
        "print(\"test case\")\n",
        "print(total_obs)\n",
        "non_fraud = [i for i in test_y if i == 0]\n",
        "count_non_fraud = non_fraud.count(0)\n",
        "print(count_non_fraud)\n",
        "percentage = count_non_fraud/total_obs * 100\n",
        "print(f'{percentage:0.2f}%')"
      ],
      "execution_count": null,
      "outputs": []
    },
    {
      "cell_type": "markdown",
      "metadata": {
        "id": "JQEoQjmMHDSm"
      },
      "source": [
        "# **Apply Under Sampling Technique EditedNearestNeighbours**"
      ]
    },
    {
      "cell_type": "code",
      "metadata": {
        "id": "LdoVPVT2GcVM"
      },
      "source": [
        "from imblearn.under_sampling import EditedNearestNeighbours \n",
        "\n",
        "enn = EditedNearestNeighbours()\n",
        "X1, Y1 = enn.fit_resample(X,Y)\n",
        "train_X, test_X, train_y, test_y=train_test_split(X1,Y1,test_size=0.25)\n",
        "print(\"train_X.shape\",train_X.shape)\n",
        "print(\"train_y.shape\",train_y.shape)\n",
        "print(\"test_X.shape\",test_X.shape)"
      ],
      "execution_count": null,
      "outputs": []
    },
    {
      "cell_type": "code",
      "metadata": {
        "id": "8mpWkDEXHekp"
      },
      "source": [
        "total_obs = len(train_y)\n",
        "print(\"traing case\")\n",
        "print(\"total_obs\",total_obs)\n",
        "non_fraud = [i for i in train_y if i == 0]\n",
        "count_non_fraud = non_fraud.count(0)\n",
        "print(\"count_non_fraud\",count_non_fraud)\n",
        "percentage = count_non_fraud/total_obs * 100\n",
        "print(f'{percentage:0.2f}%')\n",
        "total_obs = len(test_y)\n",
        "print(\"test case\")\n",
        "print(total_obs)\n",
        "non_fraud = [i for i in test_y if i == 0]\n",
        "count_non_fraud = non_fraud.count(0)\n",
        "print(count_non_fraud)\n",
        "percentage = count_non_fraud/total_obs * 100\n",
        "print(f'{percentage:0.2f}%')"
      ],
      "execution_count": null,
      "outputs": []
    },
    {
      "cell_type": "markdown",
      "metadata": {
        "id": "FBk8oWm0HgoS"
      },
      "source": [
        "# **Apply Under Sampling Technique RepeatedEditedNearestNeighbours**"
      ]
    },
    {
      "cell_type": "code",
      "metadata": {
        "id": "mXnUi_pHHoFP"
      },
      "source": [
        "from imblearn.under_sampling import RepeatedEditedNearestNeighbours\n",
        "\n",
        "renn = RepeatedEditedNearestNeighbours()\n",
        "X1, Y1 = renn.fit_resample(X,Y)\n",
        "train_X, test_X, train_y, test_y=train_test_split(X1,Y1,test_size=0.25)\n",
        "print(\"train_X.shape\",train_X.shape)\n",
        "print(\"train_y.shape\",train_y.shape)\n",
        "print(\"test_X.shape\",test_X.shape)\n"
      ],
      "execution_count": null,
      "outputs": []
    },
    {
      "cell_type": "code",
      "metadata": {
        "id": "v1W8t9R7Hzep"
      },
      "source": [
        "total_obs = len(train_y)\n",
        "print(\"traing case\")\n",
        "print(\"total_obs\",total_obs)\n",
        "non_fraud = [i for i in train_y if i == 0]\n",
        "count_non_fraud = non_fraud.count(0)\n",
        "print(\"count_non_fraud\",count_non_fraud)\n",
        "percentage = count_non_fraud/total_obs * 100\n",
        "print(f'{percentage:0.2f}%')\n",
        "total_obs = len(test_y)\n",
        "print(\"test case\")\n",
        "print(total_obs)\n",
        "non_fraud = [i for i in test_y if i == 0]\n",
        "count_non_fraud = non_fraud.count(0)\n",
        "print(count_non_fraud)\n",
        "percentage = count_non_fraud/total_obs * 100\n",
        "print(f'{percentage:0.2f}%')"
      ],
      "execution_count": null,
      "outputs": []
    },
    {
      "cell_type": "markdown",
      "metadata": {
        "id": "T38sIGC5H1l4"
      },
      "source": [
        "# **Apply Under Sampling Technique AllKNN**"
      ]
    },
    {
      "cell_type": "code",
      "metadata": {
        "id": "6vrDvn4QH8tf"
      },
      "source": [
        "from imblearn.under_sampling import AllKNN \n",
        "\n",
        "allknn = AllKNN()\n",
        "X1, Y1 = allknn.fit_resample(X,Y)\n",
        "train_X, test_X, train_y, test_y=train_test_split(X1,Y1,test_size=0.25)\n",
        "print(\"train_X.shape\",train_X.shape)\n",
        "print(\"train_y.shape\",train_y.shape)\n",
        "print(\"test_X.shape\",test_X.shape)\n"
      ],
      "execution_count": null,
      "outputs": []
    },
    {
      "cell_type": "code",
      "metadata": {
        "id": "3SAKaJTGIHuG"
      },
      "source": [
        "total_obs = len(train_y)\n",
        "print(\"traing case\")\n",
        "print(\"total_obs\",total_obs)\n",
        "non_fraud = [i for i in train_y if i == 0]\n",
        "count_non_fraud = non_fraud.count(0)\n",
        "print(\"count_non_fraud\",count_non_fraud)\n",
        "percentage = count_non_fraud/total_obs * 100\n",
        "print(f'{percentage:0.2f}%')\n",
        "total_obs = len(test_y)\n",
        "print(\"test case\")\n",
        "print(total_obs)\n",
        "non_fraud = [i for i in test_y if i == 0]\n",
        "count_non_fraud = non_fraud.count(0)\n",
        "print(count_non_fraud)\n",
        "percentage = count_non_fraud/total_obs * 100\n",
        "print(f'{percentage:0.2f}%')"
      ],
      "execution_count": null,
      "outputs": []
    },
    {
      "cell_type": "markdown",
      "metadata": {
        "id": "5DEp7CQZILKD"
      },
      "source": [
        "# **Apply Under Sampling Technique InstanceHardnessThreshold**\n",
        "\n",
        "\n"
      ]
    },
    {
      "cell_type": "code",
      "metadata": {
        "id": "V7lRENA_IMI3"
      },
      "source": [
        "from imblearn.under_sampling import InstanceHardnessThreshold\n",
        "iht  = InstanceHardnessThreshold(random_state=42)\n",
        "X1, Y1 = iht.fit_resample(X,Y)\n",
        "train_X, test_X, train_y, test_y=train_test_split(X1,Y1,test_size=0.25)\n",
        "print(\"train_X.shape\",train_X.shape)\n",
        "print(\"train_y.shape\",train_y.shape)\n",
        "print(\"test_X.shape\",test_X.shape)\n"
      ],
      "execution_count": null,
      "outputs": []
    },
    {
      "cell_type": "code",
      "metadata": {
        "id": "uBVYlljmIqCq"
      },
      "source": [
        "total_obs = len(train_y)\n",
        "print(\"traing case\")\n",
        "print(\"total_obs\",total_obs)\n",
        "non_fraud = [i for i in train_y if i == 0]\n",
        "count_non_fraud = non_fraud.count(0)\n",
        "print(\"count_non_fraud\",count_non_fraud)\n",
        "percentage = count_non_fraud/total_obs * 100\n",
        "print(f'{percentage:0.2f}%')\n",
        "total_obs = len(test_y)\n",
        "print(\"test case\")\n",
        "print(total_obs)\n",
        "non_fraud = [i for i in test_y if i == 0]\n",
        "count_non_fraud = non_fraud.count(0)\n",
        "print(count_non_fraud)\n",
        "percentage = count_non_fraud/total_obs * 100\n",
        "print(f'{percentage:0.2f}%')"
      ],
      "execution_count": null,
      "outputs": []
    },
    {
      "cell_type": "markdown",
      "metadata": {
        "id": "16Fb31x7I2f3"
      },
      "source": [
        "# **Apply Under Sampling Technique NearMiss**"
      ]
    },
    {
      "cell_type": "code",
      "metadata": {
        "id": "QQHB_fYkI36Y"
      },
      "source": [
        "from imblearn.under_sampling import NearMiss \n",
        "nm  = NearMiss()\n",
        "X1, Y1 = nm.fit_resample(X,Y)\n",
        "train_X, test_X, train_y, test_y=train_test_split(X1,Y1,test_size=0.25)\n",
        "print(\"train_X.shape\",train_X.shape)\n",
        "print(\"train_y.shape\",train_y.shape)\n",
        "print(\"test_X.shape\",test_X.shape)\n"
      ],
      "execution_count": null,
      "outputs": []
    },
    {
      "cell_type": "code",
      "metadata": {
        "id": "UYEc_ucRK59t"
      },
      "source": [
        "total_obs = len(train_y)\n",
        "print(\"traing case\")\n",
        "print(\"total_obs\",total_obs)\n",
        "non_fraud = [i for i in train_y if i == 0]\n",
        "count_non_fraud = non_fraud.count(0)\n",
        "print(\"count_non_fraud\",count_non_fraud)\n",
        "percentage = count_non_fraud/total_obs * 100\n",
        "print(f'{percentage:0.2f}%')\n",
        "total_obs = len(test_y)\n",
        "print(\"test case\")\n",
        "print(total_obs)\n",
        "non_fraud = [i for i in test_y if i == 0]\n",
        "count_non_fraud = non_fraud.count(0)\n",
        "print(count_non_fraud)\n",
        "percentage = count_non_fraud/total_obs * 100\n",
        "print(f'{percentage:0.2f}%')"
      ],
      "execution_count": null,
      "outputs": []
    },
    {
      "cell_type": "markdown",
      "metadata": {
        "id": "f5djG4TQLn7R"
      },
      "source": [
        "# **Apply Under Sampling Technique NeighbourhoodCleaningRule**"
      ]
    },
    {
      "cell_type": "code",
      "metadata": {
        "id": "_OTjNv0aLqDJ"
      },
      "source": [
        "from imblearn.under_sampling import NeighbourhoodCleaningRule\n",
        "\n",
        "ncr  = NeighbourhoodCleaningRule()\n",
        "X1, Y1 = ncr.fit_resample(X,Y)\n",
        "train_X, test_X, train_y, test_y=train_test_split(X1,Y1,test_size=0.25)\n",
        "print(\"train_X.shape\",train_X.shape)\n",
        "print(\"train_y.shape\",train_y.shape)\n",
        "print(\"test_X.shape\",test_X.shape)"
      ],
      "execution_count": null,
      "outputs": []
    },
    {
      "cell_type": "code",
      "metadata": {
        "id": "5EUhe1veMPxY"
      },
      "source": [
        "total_obs = len(train_y)\n",
        "print(\"traing case\")\n",
        "print(\"total_obs\",total_obs)\n",
        "non_fraud = [i for i in train_y if i == 0]\n",
        "count_non_fraud = non_fraud.count(0)\n",
        "print(\"count_non_fraud\",count_non_fraud)\n",
        "percentage = count_non_fraud/total_obs * 100\n",
        "print(f'{percentage:0.2f}%')\n",
        "total_obs = len(test_y)\n",
        "print(\"test case\")\n",
        "print(total_obs)\n",
        "non_fraud = [i for i in test_y if i == 0]\n",
        "count_non_fraud = non_fraud.count(0)\n",
        "print(count_non_fraud)\n",
        "percentage = count_non_fraud/total_obs * 100\n",
        "print(f'{percentage:0.2f}%')"
      ],
      "execution_count": null,
      "outputs": []
    },
    {
      "cell_type": "markdown",
      "metadata": {
        "id": "5sDQG616MRVA"
      },
      "source": [
        "# **Apply Under Sampling Technique OneSidedSelection**"
      ]
    },
    {
      "cell_type": "code",
      "metadata": {
        "id": "XWuoa75TMjc4"
      },
      "source": [
        "from imblearn.under_sampling import OneSidedSelection \n",
        "oss  = OneSidedSelection()\n",
        "X1, Y1 = oss.fit_resample(X,Y)\n",
        "train_X, test_X, train_y, test_y=train_test_split(X1,Y1,test_size=0.25)\n",
        "print(\"train_X.shape\",train_X.shape)\n",
        "print(\"train_y.shape\",train_y.shape)\n",
        "print(\"test_X.shape\",test_X.shape)"
      ],
      "execution_count": null,
      "outputs": []
    },
    {
      "cell_type": "code",
      "metadata": {
        "id": "StcWjiJaMvbe"
      },
      "source": [
        "total_obs = len(train_y)\n",
        "print(\"traing case\")\n",
        "print(\"total_obs\",total_obs)\n",
        "non_fraud = [i for i in train_y if i == 0]\n",
        "count_non_fraud = non_fraud.count(0)\n",
        "print(\"count_non_fraud\",count_non_fraud)\n",
        "percentage = count_non_fraud/total_obs * 100\n",
        "print(f'{percentage:0.2f}%')\n",
        "total_obs = len(test_y)\n",
        "print(\"test case\")\n",
        "print(total_obs)\n",
        "non_fraud = [i for i in test_y if i == 0]\n",
        "count_non_fraud = non_fraud.count(0)\n",
        "print(count_non_fraud)\n",
        "percentage = count_non_fraud/total_obs * 100\n",
        "print(f'{percentage:0.2f}%')"
      ],
      "execution_count": null,
      "outputs": []
    },
    {
      "cell_type": "markdown",
      "metadata": {
        "id": "1uj6OavEMydF"
      },
      "source": [
        "# **Apply Under Sampling Technique RandomUnderSampler**"
      ]
    },
    {
      "cell_type": "code",
      "metadata": {
        "id": "aP-1N464M4K-"
      },
      "source": [
        "from imblearn.under_sampling import RandomUnderSampler \n",
        "rus  = RandomUnderSampler(random_state=42)\n",
        "X1, Y1 = rus.fit_resample(X,Y)\n",
        "train_X, test_X, train_y, test_y=train_test_split(X1,Y1,test_size=0.25)\n",
        "print(\"train_X.shape\",train_X.shape)\n",
        "print(\"train_y.shape\",train_y.shape)\n",
        "print(\"test_X.shape\",test_X.shape)"
      ],
      "execution_count": null,
      "outputs": []
    },
    {
      "cell_type": "code",
      "metadata": {
        "id": "sIeGgcl7NLoL"
      },
      "source": [
        "total_obs = len(train_y)\n",
        "print(\"traing case\")\n",
        "print(\"total_obs\",total_obs)\n",
        "non_fraud = [i for i in train_y if i == 0]\n",
        "count_non_fraud = non_fraud.count(0)\n",
        "print(\"count_non_fraud\",count_non_fraud)\n",
        "percentage = count_non_fraud/total_obs * 100\n",
        "print(f'{percentage:0.2f}%')\n",
        "total_obs = len(test_y)\n",
        "print(\"test case\")\n",
        "print(total_obs)\n",
        "non_fraud = [i for i in test_y if i == 0]\n",
        "count_non_fraud = non_fraud.count(0)\n",
        "print(count_non_fraud)\n",
        "percentage = count_non_fraud/total_obs * 100\n",
        "print(f'{percentage:0.2f}%')"
      ],
      "execution_count": null,
      "outputs": []
    },
    {
      "cell_type": "markdown",
      "metadata": {
        "id": "aKoertMlNmiW"
      },
      "source": [
        "# **Apply Under Sampling Technique TomekLinks**"
      ]
    },
    {
      "cell_type": "code",
      "metadata": {
        "id": "-cJwd7l_Nkgl"
      },
      "source": [
        "from imblearn.under_sampling import TomekLinks \n",
        "\n",
        "tl  = TomekLinks()\n",
        "X1, Y1 = tl.fit_resample(X,Y)\n",
        "train_X, test_X, train_y, test_y=train_test_split(X1,Y1,test_size=0.25)\n",
        "print(\"train_X.shape\",train_X.shape)\n",
        "print(\"train_y.shape\",train_y.shape)\n",
        "print(\"test_X.shape\",test_X.shape)"
      ],
      "execution_count": null,
      "outputs": []
    },
    {
      "cell_type": "code",
      "metadata": {
        "id": "DLq2OdPmN6ZD"
      },
      "source": [
        "total_obs = len(train_y)\n",
        "print(\"traing case\")\n",
        "print(\"total_obs\",total_obs)\n",
        "non_fraud = [i for i in train_y if i == 0]\n",
        "count_non_fraud = non_fraud.count(0)\n",
        "print(\"count_non_fraud\",count_non_fraud)\n",
        "percentage = count_non_fraud/total_obs * 100\n",
        "print(f'{percentage:0.2f}%')\n",
        "total_obs = len(test_y)\n",
        "print(\"test case\")\n",
        "print(total_obs)\n",
        "non_fraud = [i for i in test_y if i == 0]\n",
        "count_non_fraud = non_fraud.count(0)\n",
        "print(count_non_fraud)\n",
        "percentage = count_non_fraud/total_obs * 100\n",
        "print(f'{percentage:0.2f}%')"
      ],
      "execution_count": null,
      "outputs": []
    },
    {
      "cell_type": "markdown",
      "metadata": {
        "id": "FR-WMQBWN9N6"
      },
      "source": [
        "# **`Oversampling Techniques`**"
      ]
    },
    {
      "cell_type": "markdown",
      "metadata": {
        "id": "WqGb1BRlOP0V"
      },
      "source": [
        "# **Apply Over Sampling Technique Adasyn**\n",
        "\n",
        "---\n",
        "\n"
      ]
    },
    {
      "cell_type": "code",
      "metadata": {
        "id": "pdqSwGuzOCap"
      },
      "source": [
        "from imblearn.over_sampling import ADASYN  \n",
        "\n",
        "ada = ADASYN(random_state=42)\n",
        "X1, Y1 = ada.fit_resample(X,Y)\n",
        "train_X, test_X, train_y, test_y=train_test_split(X1,Y1,test_size=0.25)\n",
        "print(\"train_X.shape\",train_X.shape)\n",
        "print(\"train_y.shape\",train_y.shape)\n",
        "print(\"test_X.shape\",test_X.shape)"
      ],
      "execution_count": null,
      "outputs": []
    },
    {
      "cell_type": "code",
      "metadata": {
        "id": "owMsWxvWOjpd"
      },
      "source": [
        "total_obs = len(train_y)\n",
        "print(\"traing case\")\n",
        "print(\"total_obs\",total_obs)\n",
        "non_fraud = [i for i in train_y if i == 0]\n",
        "count_non_fraud = non_fraud.count(0)\n",
        "print(\"count_non_fraud\",count_non_fraud)\n",
        "percentage = count_non_fraud/total_obs * 100\n",
        "print(f'{percentage:0.2f}%')\n",
        "total_obs = len(test_y)\n",
        "print(\"test case\")\n",
        "print(total_obs)\n",
        "non_fraud = [i for i in test_y if i == 0]\n",
        "count_non_fraud = non_fraud.count(0)\n",
        "print(count_non_fraud)\n",
        "percentage = count_non_fraud/total_obs * 100\n",
        "print(f'{percentage:0.2f}%')"
      ],
      "execution_count": null,
      "outputs": []
    },
    {
      "cell_type": "markdown",
      "metadata": {
        "id": "ZODiX4CZPrMZ"
      },
      "source": [
        "# **Apply Over Sampling Technique BorderlineSMOTE**"
      ]
    },
    {
      "cell_type": "code",
      "metadata": {
        "id": "YF1VAIiEQPvi"
      },
      "source": [
        "from imblearn.over_sampling import BorderlineSMOTE\n",
        "bsm = BorderlineSMOTE(random_state=42)\n",
        "X1, Y1 = bsm.fit_resample(X,Y)\n",
        "train_X, test_X, train_y, test_y=train_test_split(X1,Y1,test_size=0.25)\n",
        "print(\"train_X.shape\",train_X.shape)\n",
        "print(\"train_y.shape\",train_y.shape)\n",
        "print(\"test_X.shape\",test_X.shape)\n"
      ],
      "execution_count": null,
      "outputs": []
    },
    {
      "cell_type": "code",
      "metadata": {
        "id": "xKv_Bm9hQfgv"
      },
      "source": [
        "total_obs = len(train_y)\n",
        "print(\"traing case\")\n",
        "print(\"total_obs\",total_obs)\n",
        "non_fraud = [i for i in train_y if i == 0]\n",
        "count_non_fraud = non_fraud.count(0)\n",
        "print(\"count_non_fraud\",count_non_fraud)\n",
        "percentage = count_non_fraud/total_obs * 100\n",
        "print(f'{percentage:0.2f}%')\n",
        "total_obs = len(test_y)\n",
        "print(\"test case\")\n",
        "print(total_obs)\n",
        "non_fraud = [i for i in test_y if i == 0]\n",
        "count_non_fraud = non_fraud.count(0)\n",
        "print(count_non_fraud)\n",
        "percentage = count_non_fraud/total_obs * 100\n",
        "print(f'{percentage:0.2f}%')"
      ],
      "execution_count": null,
      "outputs": []
    },
    {
      "cell_type": "markdown",
      "metadata": {
        "id": "ar4MxtjIResj"
      },
      "source": [
        "# **Apply Over Sampling Technique kMeansSMOTE**"
      ]
    },
    {
      "cell_type": "code",
      "metadata": {
        "id": "VGQUgmvZSCxg"
      },
      "source": [
        "from imblearn.over_sampling import KMeansSMOTE\n",
        "ksm = KMeansSMOTE(random_state=42)\n",
        "X1, Y1 = ksm.fit_resample(X,Y)\n",
        "train_X, test_X, train_y, test_y=train_test_split(X1,Y1,test_size=0.25)\n",
        "print(\"train_X.shape\",train_X.shape)\n",
        "print(\"train_y.shape\",train_y.shape)\n",
        "print(\"test_X.shape\",test_X.shape)\n"
      ],
      "execution_count": null,
      "outputs": []
    },
    {
      "cell_type": "code",
      "metadata": {
        "id": "4GMgtFGtRsTo"
      },
      "source": [
        "total_obs = len(train_y)\n",
        "print(\"traing case\")\n",
        "print(\"total_obs\",total_obs)\n",
        "non_fraud = [i for i in train_y if i == 0]\n",
        "count_non_fraud = non_fraud.count(0)\n",
        "print(\"count_non_fraud\",count_non_fraud)\n",
        "percentage = count_non_fraud/total_obs * 100\n",
        "print(f'{percentage:0.2f}%')\n",
        "total_obs = len(test_y)\n",
        "print(\"test case\")\n",
        "print(total_obs)\n",
        "non_fraud = [i for i in test_y if i == 0]\n",
        "count_non_fraud = non_fraud.count(0)\n",
        "print(count_non_fraud)\n",
        "percentage = count_non_fraud/total_obs * 100\n",
        "print(f'{percentage:0.2f}%')"
      ],
      "execution_count": null,
      "outputs": []
    },
    {
      "cell_type": "markdown",
      "metadata": {
        "id": "fk3jCiJMRyzA"
      },
      "source": [
        "# **Apply Over Sampling Technique RandomOverSampler**"
      ]
    },
    {
      "cell_type": "code",
      "metadata": {
        "id": "dkjRv9fZR0au"
      },
      "source": [
        "from imblearn.over_sampling import RandomOverSampler\n",
        "ros = RandomOverSampler(random_state=42)\n",
        "X1, Y1 = ros.fit_resample(X,Y)\n",
        "train_X, test_X, train_y, test_y=train_test_split(X1,Y1,test_size=0.25)\n",
        "print(\"train_X.shape\",train_X.shape)\n",
        "print(\"train_y.shape\",train_y.shape)\n",
        "print(\"test_X.shape\",test_X.shape)"
      ],
      "execution_count": null,
      "outputs": []
    },
    {
      "cell_type": "code",
      "metadata": {
        "id": "EoeevXqTSMN4"
      },
      "source": [
        "total_obs = len(train_y)\n",
        "print(\"traing case\")\n",
        "print(\"total_obs\",total_obs)\n",
        "non_fraud = [i for i in train_y if i == 0]\n",
        "count_non_fraud = non_fraud.count(0)\n",
        "print(\"count_non_fraud\",count_non_fraud)\n",
        "percentage = count_non_fraud/total_obs * 100\n",
        "print(f'{percentage:0.2f}%')\n",
        "total_obs = len(test_y)\n",
        "print(\"test case\")\n",
        "print(total_obs)\n",
        "non_fraud = [i for i in test_y if i == 0]\n",
        "count_non_fraud = non_fraud.count(0)\n",
        "print(count_non_fraud)\n",
        "percentage = count_non_fraud/total_obs * 100\n",
        "print(f'{percentage:0.2f}%')"
      ],
      "execution_count": null,
      "outputs": []
    },
    {
      "cell_type": "markdown",
      "metadata": {
        "id": "SmJTcaqRSVx5"
      },
      "source": [
        "# **Apply Over Sampling Technique SMOTE**"
      ]
    },
    {
      "cell_type": "code",
      "metadata": {
        "id": "t1eZMuRnSUMY"
      },
      "source": [
        "from imblearn.over_sampling import SMOTE \n",
        "sm = SMOTE(random_state=42)\n",
        "X1, Y1 = sm.fit_resample(X,Y)\n",
        "train_X, test_X, train_y, test_y=train_test_split(X1,Y1,test_size=0.25)\n",
        "print(\"train_X.shape\",train_X.shape)\n",
        "print(\"train_y.shape\",train_y.shape)\n",
        "print(\"test_X.shape\",test_X.shape)"
      ],
      "execution_count": null,
      "outputs": []
    },
    {
      "cell_type": "code",
      "metadata": {
        "id": "8n4v_3MSSk8p"
      },
      "source": [
        "total_obs = len(train_y)\n",
        "print(\"traing case\")\n",
        "print(\"total_obs\",total_obs)\n",
        "non_fraud = [i for i in train_y if i == 0]\n",
        "count_non_fraud = non_fraud.count(0)\n",
        "print(\"count_non_fraud\",count_non_fraud)\n",
        "percentage = count_non_fraud/total_obs * 100\n",
        "print(f'{percentage:0.2f}%')\n",
        "total_obs = len(test_y)\n",
        "print(\"test case\")\n",
        "print(total_obs)\n",
        "non_fraud = [i for i in test_y if i == 0]\n",
        "count_non_fraud = non_fraud.count(0)\n",
        "print(count_non_fraud)\n",
        "percentage = count_non_fraud/total_obs * 100\n",
        "print(f'{percentage:0.2f}%')"
      ],
      "execution_count": null,
      "outputs": []
    },
    {
      "cell_type": "markdown",
      "metadata": {
        "id": "YlWY6W1hTNoU"
      },
      "source": [
        "# **Apply Over Sampling Technique SVMSMOTE**"
      ]
    },
    {
      "cell_type": "code",
      "metadata": {
        "id": "JWleZu1UTMQt"
      },
      "source": [
        "from imblearn.over_sampling import SVMSMOTE \n",
        "svmsmote = SVMSMOTE(random_state=42)\n",
        "X1, Y1 = svmsmote.fit_resample(X,Y)\n",
        "train_X, test_X, train_y, test_y=train_test_split(X1,Y1,test_size=0.25)\n",
        "print(\"train_X.shape\",train_X.shape)\n",
        "print(\"train_y.shape\",train_y.shape)\n",
        "print(\"test_X.shape\",test_X.shape)"
      ],
      "execution_count": null,
      "outputs": []
    },
    {
      "cell_type": "code",
      "metadata": {
        "id": "kamorNi_TYbX"
      },
      "source": [
        "total_obs = len(train_y)\n",
        "print(\"traing case\")\n",
        "print(\"total_obs\",total_obs)\n",
        "non_fraud = [i for i in train_y if i == 0]\n",
        "count_non_fraud = non_fraud.count(0)\n",
        "print(\"count_non_fraud\",count_non_fraud)\n",
        "percentage = count_non_fraud/total_obs * 100\n",
        "print(f'{percentage:0.2f}%')\n",
        "total_obs = len(test_y)\n",
        "print(\"test case\")\n",
        "print(total_obs)\n",
        "non_fraud = [i for i in test_y if i == 0]\n",
        "count_non_fraud = non_fraud.count(0)\n",
        "print(count_non_fraud)\n",
        "percentage = count_non_fraud/total_obs * 100\n",
        "print(f'{percentage:0.2f}%')"
      ],
      "execution_count": null,
      "outputs": []
    },
    {
      "cell_type": "markdown",
      "metadata": {
        "id": "gZ_8ssZYOmOq"
      },
      "source": [
        "# **Hyperparameter tune GradBoost**"
      ]
    },
    {
      "cell_type": "code",
      "metadata": {
        "colab": {
          "base_uri": "https://localhost:8080/",
          "height": 157,
          "referenced_widgets": [
            "eb772f6f0dcc43a68da31f40c971d76b",
            "94c702f2c9194e34bf197697fe0e7a87",
            "d43720a559044b39b23d92a351b6de9d",
            "80d356d68b2146079aaa8355fc32e59c",
            "e27c499451514acebbe0155e39549ced",
            "93a82725a1e14c3696542a9749f68fe5",
            "1f1f3a62ec74495a8a8f03a9bbd03648",
            "03175a6f1ca34cef88242d4f5d507c2c"
          ]
        },
        "id": "uhcc6bJIC2GT",
        "outputId": "33148c53-362a-4bc7-e9cc-e65eb9f5f3f9"
      },
      "source": [
        "from sklearn.model_selection import cross_val_score\n",
        "from sklearn.ensemble import GradientBoostingClassifier\n",
        "from sklearn.datasets import load_breast_cancer\n",
        "from hyperactive import Hyperactive\n",
        "\n",
        "# data = load_breast_cancer()\n",
        "# X, y = data.data, data.target\n",
        "# print(\"X\",X.shape)\n",
        "# print(\"y\", y.shape)\n",
        "\n",
        "def model(para, X, y):\n",
        "    gbc = GradientBoostingClassifier(\n",
        "        n_estimators=para[\"n_estimators\"],\n",
        "        max_depth=para[\"max_depth\"],\n",
        "        min_samples_split=para[\"min_samples_split\"],\n",
        "    )\n",
        "    scores = cross_val_score(gbc, test_X, test_y, cv=3)\n",
        "\n",
        "    return scores.mean()\n",
        "\n",
        "\n",
        "search_config = {\n",
        "    model: {\n",
        "        \"n_estimators\": range(10, 200, 10),\n",
        "        \"max_depth\": range(2, 12),\n",
        "        \"min_samples_split\": range(2, 12),\n",
        "    }\n",
        "}\n",
        "\n",
        "opt = Hyperactive(train_X, train_y)\n",
        "opt.search(search_config, n_iter=100)\n"
      ],
      "execution_count": null,
      "outputs": [
        {
          "output_type": "stream",
          "text": [
            "No meta data found for model function\n",
            "Set random start position\n"
          ],
          "name": "stdout"
        },
        {
          "output_type": "display_data",
          "data": {
            "application/vnd.jupyter.widget-view+json": {
              "model_id": "eb772f6f0dcc43a68da31f40c971d76b",
              "version_major": 2,
              "version_minor": 0
            },
            "text/plain": [
              "HBox(children=(FloatProgress(value=0.0, description='Thread 0 -> model', style=ProgressStyle(description_width…"
            ]
          },
          "metadata": {
            "tags": []
          }
        },
        {
          "output_type": "stream",
          "text": [
            "\n",
            "best para = {'n_estimators': 140, 'max_depth': 9, 'min_samples_split': 5}\n",
            "score     = -inf \n",
            "\n"
          ],
          "name": "stdout"
        }
      ]
    },
    {
      "cell_type": "code",
      "metadata": {
        "colab": {
          "base_uri": "https://localhost:8080/",
          "height": 34
        },
        "id": "S8zb6b3K9a1Z",
        "outputId": "abbd6666-1ecd-45a0-ade1-ea0da21e3cbd"
      },
      "source": [
        "X.shape"
      ],
      "execution_count": null,
      "outputs": [
        {
          "output_type": "execute_result",
          "data": {
            "text/plain": [
              "(6129, 1034)"
            ]
          },
          "metadata": {
            "tags": []
          },
          "execution_count": 52
        }
      ]
    },
    {
      "cell_type": "code",
      "metadata": {
        "colab": {
          "base_uri": "https://localhost:8080/",
          "height": 1000,
          "referenced_widgets": [
            "506f3736bd0249c1b749db7c0aa4090a",
            "52a92fb44c414a8b81552463580718a9",
            "efeba16ad77b4f11a27116daed34350b",
            "28220c84d5ba43aeb0db3ca18654949b",
            "ff83eede24b941769b5c8f5de383adb2",
            "6cce9f18f970481f8e53be6fe19c3627",
            "baefcf42285a48d6b8f2a155c7290060",
            "5800f66962994ff0b95d115a1c0a2631",
            "09f00d9eb7e146ff863186f1eed7729f",
            "a6733530c34542f8932e2e26cb338130",
            "3d2061c6d83146bea40d8eea2c645dba",
            "4bb9cf27abc4431fb24499c547222bc0",
            "f77668d50b4d4d75bc17f053bb1d677c",
            "4a0f021863054905a41627792c2fa7a8",
            "60b453e2678941e080e61c58572d12e5",
            "0b2476b423b14d2d94f97b30959b8fae"
          ]
        },
        "id": "gJXrq1uR47NI",
        "outputId": "42fb54aa-8e42-4497-87bd-1a7e808a84c7"
      },
      "source": [
        "import itertools\n",
        "\n",
        "from sklearn.datasets import load_breast_cancer\n",
        "from sklearn.model_selection import cross_val_score\n",
        "from mlxtend.classifier import StackingClassifier\n",
        "\n",
        "from sklearn.ensemble import (\n",
        "    GradientBoostingClassifier,\n",
        "    RandomForestClassifier,\n",
        "    ExtraTreesClassifier,\n",
        ")\n",
        "\n",
        "from sklearn.neighbors import KNeighborsClassifier\n",
        "from sklearn.neural_network import MLPClassifier\n",
        "from sklearn.gaussian_process import GaussianProcessClassifier\n",
        "from sklearn.tree import DecisionTreeClassifier\n",
        "from sklearn.naive_bayes import GaussianNB\n",
        "\n",
        "from sklearn.linear_model import LogisticRegression\n",
        "from sklearn.linear_model.ridge import RidgeClassifier\n",
        "\n",
        "from hyperactive import Hyperactive\n",
        "\n",
        "# data = load_breast_cancer()\n",
        "# X, y = data.data, data.target\n",
        "\n",
        "\n",
        "gbc = GradientBoostingClassifier()\n",
        "rfc = RandomForestClassifier()\n",
        "etc = ExtraTreesClassifier()\n",
        "\n",
        "mlp = MLPClassifier()\n",
        "gnb = GaussianNB()\n",
        "gpc = GaussianProcessClassifier()\n",
        "dtc = DecisionTreeClassifier()\n",
        "knn = KNeighborsClassifier()\n",
        "\n",
        "lr = LogisticRegression()\n",
        "rc = RidgeClassifier()\n",
        "\n",
        "\n",
        "def stacking(para, X, y):\n",
        "    stack_lvl_0 = StackingClassifier(classifiers=para[\"lvl_0\"], meta_classifier=para[\"top\"])\n",
        "    stack_lvl_1 = StackingClassifier(classifiers=para[\"lvl_1\"], meta_classifier=stack_lvl_0)\n",
        "    scores = cross_val_score(stack_lvl_1, X, y, cv=3)\n",
        "\n",
        "    return scores.mean()\n",
        "\n",
        "\n",
        "def get_combinations(models):\n",
        "    comb = []\n",
        "    for i in range(0, len(models) + 1):\n",
        "        for subset in itertools.permutations(models, i):\n",
        "            if len(subset) == 0:\n",
        "                continue\n",
        "            comb.append(list(subset))\n",
        "    return comb\n",
        "\n",
        "\n",
        "top = [lr, dtc, gnb, rc]\n",
        "models_0 = [gpc, dtc, mlp, gnb, knn]\n",
        "models_1 = [gbc, rfc, etc]\n",
        "\n",
        "stack_lvl_0_clfs = get_combinations(models_0)\n",
        "stack_lvl_1_clfs = get_combinations(models_1)\n",
        "\n",
        "\n",
        "search_config = {\n",
        "    stacking: {\"lvl_1\": stack_lvl_1_clfs, \"lvl_0\": stack_lvl_0_clfs, \"top\": top}\n",
        "}\n",
        "\n",
        "\n",
        "opt = Hyperactive(train_X, train_y)\n",
        "opt.search(search_config, n_jobs=2, n_iter=5)\n"
      ],
      "execution_count": null,
      "outputs": [
        {
          "output_type": "stream",
          "text": [
            "/usr/local/lib/python3.6/dist-packages/sklearn/utils/deprecation.py:144: FutureWarning: The sklearn.linear_model.ridge module is  deprecated in version 0.22 and will be removed in version 0.24. The corresponding classes / functions should instead be imported from sklearn.linear_model. Anything that cannot be imported from sklearn.linear_model is now part of the private API.\n",
            "  warnings.warn(message, FutureWarning)\n"
          ],
          "name": "stderr"
        },
        {
          "output_type": "stream",
          "text": [
            "No meta data found for stacking function\n",
            "Set random start position\n",
            "No meta data found for stacking function\n",
            "Set random start position\n"
          ],
          "name": "stdout"
        },
        {
          "output_type": "display_data",
          "data": {
            "application/vnd.jupyter.widget-view+json": {
              "model_id": "506f3736bd0249c1b749db7c0aa4090a",
              "version_major": 2,
              "version_minor": 0
            },
            "text/plain": [
              "HBox(children=(FloatProgress(value=0.0, description='Thread 0 -> stacking', max=5.0, style=ProgressStyle(descr…"
            ]
          },
          "metadata": {
            "tags": []
          }
        },
        {
          "output_type": "display_data",
          "data": {
            "application/vnd.jupyter.widget-view+json": {
              "model_id": "09f00d9eb7e146ff863186f1eed7729f",
              "version_major": 2,
              "version_minor": 0
            },
            "text/plain": [
              "HBox(children=(FloatProgress(value=0.0, description='Thread 1 -> stacking', max=5.0, style=ProgressStyle(descr…"
            ]
          },
          "metadata": {
            "tags": []
          }
        },
        {
          "output_type": "stream",
          "text": [
            "\n",
            "\n",
            "\n",
            "\n",
            "\n",
            "\n",
            "\n",
            "\n",
            "best para = {'lvl_1': [RandomForestClassifier(bootstrap=True, ccp_alpha=0.0, class_weight=None,\n",
            "                       criterion='gini', max_depth=None, max_features='auto',\n",
            "                       max_leaf_nodes=None, max_samples=None,\n",
            "                       min_impurity_decrease=0.0, min_impurity_split=None,\n",
            "                       min_samples_leaf=1, min_samples_split=2,\n",
            "                       min_weight_fraction_leaf=0.0, n_estimators=100,\n",
            "                       n_jobs=None, oob_score=False, random_state=None,\n",
            "                       verbose=0, warm_start=False), ExtraTreesClassifier(bootstrap=False, ccp_alpha=0.0, class_weight=None,\n",
            "                     criterion='gini', max_depth=None, max_features='auto',\n",
            "                     max_leaf_nodes=None, max_samples=None,\n",
            "                     min_impurity_decrease=0.0, min_impurity_split=None,\n",
            "                     min_samples_leaf=1, min_samples_split=2,\n",
            "                     min_weight_fraction_leaf=0.0, n_estimators=100,\n",
            "                     n_jobs=None, oob_score=False, random_state=None, verbose=0,\n",
            "                     warm_start=False)], 'lvl_0': [GaussianProcessClassifier(copy_X_train=True, kernel=None, max_iter_predict=100,\n",
            "                          multi_class='one_vs_rest', n_jobs=None,\n",
            "                          n_restarts_optimizer=0, optimizer='fmin_l_bfgs_b',\n",
            "                          random_state=None, warm_start=False), GaussianNB(priors=None, var_smoothing=1e-09), KNeighborsClassifier(algorithm='auto', leaf_size=30, metric='minkowski',\n",
            "                     metric_params=None, n_jobs=None, n_neighbors=5, p=2,\n",
            "                     weights='uniform'), MLPClassifier(activation='relu', alpha=0.0001, batch_size='auto', beta_1=0.9,\n",
            "              beta_2=0.999, early_stopping=False, epsilon=1e-08,\n",
            "              hidden_layer_sizes=(100,), learning_rate='constant',\n",
            "              learning_rate_init=0.001, max_fun=15000, max_iter=200,\n",
            "              momentum=0.9, n_iter_no_change=10, nesterovs_momentum=True,\n",
            "              power_t=0.5, random_state=None, shuffle=True, solver='adam',\n",
            "              tol=0.0001, validation_fraction=0.1, verbose=False,\n",
            "              warm_start=False)], 'top': DecisionTreeClassifier(ccp_alpha=0.0, class_weight=None, criterion='gini',\n",
            "                       max_depth=None, max_features=None, max_leaf_nodes=None,\n",
            "                       min_impurity_decrease=0.0, min_impurity_split=None,\n",
            "                       min_samples_leaf=1, min_samples_split=2,\n",
            "                       min_weight_fraction_leaf=0.0, presort='deprecated',\n",
            "                       random_state=None, splitter='best')}\n",
            "score     = 0.9349434290687554 \n",
            "\n",
            "best para = {'lvl_1': [GradientBoostingClassifier(ccp_alpha=0.0, criterion='friedman_mse', init=None,\n",
            "                           learning_rate=0.1, loss='deviance', max_depth=3,\n",
            "                           max_features=None, max_leaf_nodes=None,\n",
            "                           min_impurity_decrease=0.0, min_impurity_split=None,\n",
            "                           min_samples_leaf=1, min_samples_split=2,\n",
            "                           min_weight_fraction_leaf=0.0, n_estimators=100,\n",
            "                           n_iter_no_change=None, presort='deprecated',\n",
            "                           random_state=None, subsample=1.0, tol=0.0001,\n",
            "                           validation_fraction=0.1, verbose=0,\n",
            "                           warm_start=False), RandomForestClassifier(bootstrap=True, ccp_alpha=0.0, class_weight=None,\n",
            "                       criterion='gini', max_depth=None, max_features='auto',\n",
            "                       max_leaf_nodes=None, max_samples=None,\n",
            "                       min_impurity_decrease=0.0, min_impurity_split=None,\n",
            "                       min_samples_leaf=1, min_samples_split=2,\n",
            "                       min_weight_fraction_leaf=0.0, n_estimators=100,\n",
            "                       n_jobs=None, oob_score=False, random_state=None,\n",
            "                       verbose=0, warm_start=False), ExtraTreesClassifier(bootstrap=False, ccp_alpha=0.0, class_weight=None,\n",
            "                     criterion='gini', max_depth=None, max_features='auto',\n",
            "                     max_leaf_nodes=None, max_samples=None,\n",
            "                     min_impurity_decrease=0.0, min_impurity_split=None,\n",
            "                     min_samples_leaf=1, min_samples_split=2,\n",
            "                     min_weight_fraction_leaf=0.0, n_estimators=100,\n",
            "                     n_jobs=None, oob_score=False, random_state=None, verbose=0,\n",
            "                     warm_start=False)], 'lvl_0': [DecisionTreeClassifier(ccp_alpha=0.0, class_weight=None, criterion='gini',\n",
            "                       max_depth=None, max_features=None, max_leaf_nodes=None,\n",
            "                       min_impurity_decrease=0.0, min_impurity_split=None,\n",
            "                       min_samples_leaf=1, min_samples_split=2,\n",
            "                       min_weight_fraction_leaf=0.0, presort='deprecated',\n",
            "                       random_state=None, splitter='best'), GaussianNB(priors=None, var_smoothing=1e-09), KNeighborsClassifier(algorithm='auto', leaf_size=30, metric='minkowski',\n",
            "                     metric_params=None, n_jobs=None, n_neighbors=5, p=2,\n",
            "                     weights='uniform'), GaussianProcessClassifier(copy_X_train=True, kernel=None, max_iter_predict=100,\n",
            "                          multi_class='one_vs_rest', n_jobs=None,\n",
            "                          n_restarts_optimizer=0, optimizer='fmin_l_bfgs_b',\n",
            "                          random_state=None, warm_start=False), MLPClassifier(activation='relu', alpha=0.0001, batch_size='auto', beta_1=0.9,\n",
            "              beta_2=0.999, early_stopping=False, epsilon=1e-08,\n",
            "              hidden_layer_sizes=(100,), learning_rate='constant',\n",
            "              learning_rate_init=0.001, max_fun=15000, max_iter=200,\n",
            "              momentum=0.9, n_iter_no_change=10, nesterovs_momentum=True,\n",
            "              power_t=0.5, random_state=None, shuffle=True, solver='adam',\n",
            "              tol=0.0001, validation_fraction=0.1, verbose=False,\n",
            "              warm_start=False)], 'top': DecisionTreeClassifier(ccp_alpha=0.0, class_weight=None, criterion='gini',\n",
            "                       max_depth=None, max_features=None, max_leaf_nodes=None,\n",
            "                       min_impurity_decrease=0.0, min_impurity_split=None,\n",
            "                       min_samples_leaf=1, min_samples_split=2,\n",
            "                       min_weight_fraction_leaf=0.0, presort='deprecated',\n",
            "                       random_state=None, splitter='best')}\n",
            "score     = 0.9340731070496083 \n",
            "\n"
          ],
          "name": "stdout"
        }
      ]
    },
    {
      "cell_type": "markdown",
      "metadata": {
        "id": "sc2swlDgO0cS"
      },
      "source": [
        "# **Hyperparameter tune AdaBoost, XGBoost**"
      ]
    },
    {
      "cell_type": "code",
      "metadata": {
        "colab": {
          "base_uri": "https://localhost:8080/",
          "height": 339,
          "referenced_widgets": [
            "56af8c52f7c942dbaaa05b3d6e77ae8a",
            "89132d4cdaa841a895a4c1f1f078b182",
            "90cb6ca4732a491db3f1c63a8fd1d284",
            "7abd2053332b4c149dd6ea236cb145b9",
            "f498026203a84ec6a89e12dcdfcf0a5b",
            "b07dc766dae64f4a816b69b4ab3a9642",
            "45d122eb33ba4440b99be62dc54a2138",
            "e10b88b0f4de4531a2963d501eab3a46"
          ]
        },
        "id": "-cqA5uM0zU_3",
        "outputId": "d3197194-5647-4731-bcdf-b7b2c9c2415e"
      },
      "source": [
        "import itertools\n",
        "\n",
        "from sklearn.datasets import load_breast_cancer\n",
        "from sklearn.model_selection import cross_val_score\n",
        "from mlxtend.classifier import StackingClassifier\n",
        "\n",
        "from sklearn.ensemble import (\n",
        "    GradientBoostingClassifier,\n",
        "    RandomForestClassifier,\n",
        "    ExtraTreesClassifier,\n",
        ")\n",
        "\n",
        "from sklearn.neighbors import KNeighborsClassifier\n",
        "from sklearn.neural_network import MLPClassifier\n",
        "from sklearn.gaussian_process import GaussianProcessClassifier\n",
        "from sklearn.tree import DecisionTreeClassifier\n",
        "from sklearn.naive_bayes import GaussianNB\n",
        "\n",
        "from sklearn.linear_model import LogisticRegression\n",
        "from sklearn.linear_model.ridge import RidgeClassifier\n",
        "\n",
        "from hyperactive import Hyperactive\n",
        "\n",
        "\n",
        "gbc = GradientBoostingClassifier()\n",
        "ada_boost = AdaBoostClassifier()\n",
        "xgb_boost = XGBClassifier()\n",
        "\n",
        "\n",
        "\n",
        "def stacking(para, X, y):\n",
        "    stack_lvl_0 = StackingClassifier(\n",
        "        classifiers=para[\"lvl_0\"], meta_classifier=para[\"top\"]\n",
        "    )\n",
        "    # stack_lvl_1 = StackingClassifier(\n",
        "    #     classifiers=para[\"lvl_1\"], meta_classifier=stack_lvl_0\n",
        "    # )\n",
        "    scores = cross_val_score(stack_lvl_0, X, y, cv=3)\n",
        "\n",
        "    return scores.mean()\n",
        "\n",
        "\n",
        "def get_combinations(models):\n",
        "    comb = []\n",
        "    for i in range(0, len(models) + 1):\n",
        "        for subset in itertools.permutations(models, i):\n",
        "            if len(subset) == 0:\n",
        "                continue\n",
        "            comb.append(list(subset))\n",
        "    return comb\n",
        "\n",
        "\n",
        "top = [xgb_boost]\n",
        "models_0 = [gbc, ada_boost, xgb_boost]\n",
        "# models_1 = [gbc, rfc, etc]\n",
        "\n",
        "stack_lvl_0_clfs = get_combinations(models_0)\n",
        "# stack_lvl_1_clfs = get_combinations(models_1)\n",
        "\n",
        "\n",
        "search_config = {\n",
        "    stacking: {\"lvl_0\": stack_lvl_0_clfs, \"top\": top}\n",
        "}\n",
        "\n",
        "opt = Hyperactive(train_X, train_y)\n",
        "opt.search(search_config, n_jobs=1, n_iter=100)\n"
      ],
      "execution_count": null,
      "outputs": [
        {
          "output_type": "stream",
          "text": [
            "No meta data found for stacking function\n",
            "Set random start position\n"
          ],
          "name": "stdout"
        },
        {
          "output_type": "stream",
          "text": [
            "/usr/local/lib/python3.6/dist-packages/sklearn/utils/deprecation.py:144: FutureWarning: The sklearn.linear_model.ridge module is  deprecated in version 0.22 and will be removed in version 0.24. The corresponding classes / functions should instead be imported from sklearn.linear_model. Anything that cannot be imported from sklearn.linear_model is now part of the private API.\n",
            "  warnings.warn(message, FutureWarning)\n"
          ],
          "name": "stderr"
        },
        {
          "output_type": "display_data",
          "data": {
            "application/vnd.jupyter.widget-view+json": {
              "model_id": "56af8c52f7c942dbaaa05b3d6e77ae8a",
              "version_major": 2,
              "version_minor": 0
            },
            "text/plain": [
              "HBox(children=(FloatProgress(value=0.0, description='Thread 0 -> stacking', style=ProgressStyle(description_wi…"
            ]
          },
          "metadata": {
            "tags": []
          }
        },
        {
          "output_type": "stream",
          "text": [
            "\n",
            "best para = {'lvl_0': [AdaBoostClassifier(algorithm='SAMME.R', base_estimator=None, learning_rate=1.0,\n",
            "                   n_estimators=50, random_state=None)], 'top': XGBClassifier(base_score=0.5, booster='gbtree', colsample_bylevel=1,\n",
            "              colsample_bynode=1, colsample_bytree=1, gamma=0,\n",
            "              learning_rate=0.1, max_delta_step=0, max_depth=3,\n",
            "              min_child_weight=1, missing=None, n_estimators=100, n_jobs=1,\n",
            "              nthread=None, objective='binary:logistic', random_state=0,\n",
            "              reg_alpha=0, reg_lambda=1, scale_pos_weight=1, seed=None,\n",
            "              silent=None, subsample=1, verbosity=1)}\n",
            "score     = 0.9336379460400348 \n",
            "\n"
          ],
          "name": "stdout"
        }
      ]
    },
    {
      "cell_type": "markdown",
      "metadata": {
        "id": "likvmsCItbAx"
      },
      "source": [
        "**SVM FOR PARAMETER TUNING**\n",
        "\n",
        "---\n",
        "\n"
      ]
    },
    {
      "cell_type": "code",
      "metadata": {
        "colab": {
          "base_uri": "https://localhost:8080/",
          "height": 585,
          "referenced_widgets": [
            "65c1289fdc664500b6158bd3bb435281",
            "f242d8e4fcf5465ea0abdbdc597c702b",
            "ef241be0883d40918f09a31cdaf4cd6a",
            "7ea36d2ef85146ada52a35209a86c481",
            "0c3a3a1ac8284660b0ac15c632738395",
            "2bc21099bce94e89b3921e8b703177e0",
            "5fb113fcccfb48209ca5703f0ef33ddd",
            "8020ba4703c1471bae4d01ef6dc84030",
            "fba3985fb8e140aba380d738d616f0ac",
            "458f8336ccb04437be64ca6cee27d370",
            "6c42db65dd284cf5b01b283b94a30547",
            "0abe9512fbfd470699aa992b6c4f125a",
            "53c81cd47f734103ac0b16b8f71b6b7a",
            "ae3187770e0a4008bfb1b19335b5bb30",
            "a1e1e69a8e374ce4b6f5405a975855d6",
            "d7a355b7910f42e4a285289ecf1ae832"
          ]
        },
        "id": "yW5eomKXdvWU",
        "outputId": "27c0eadc-723c-447d-a54c-4fff41561b47"
      },
      "source": [
        "from sklearn.svm import SVC\n",
        "import itertools\n",
        "from sklearn.model_selection import cross_val_score\n",
        "from mlxtend.classifier import StackingClassifier\n",
        "from hyperactive import Hyperactive\n",
        "\n",
        "svc = SVC()\n",
        "\n",
        "def stacking(para, X, y):\n",
        "    stack_lvl_0 = StackingClassifier(\n",
        "        classifiers=para[\"lvl_0\"], meta_classifier=para[\"top\"]\n",
        "    )\n",
        "    scores = cross_val_score(stack_lvl_0, X, y, cv=3)\n",
        "\n",
        "    return scores.mean()\n",
        "def get_combinations(models):\n",
        "    comb = []\n",
        "    for i in range(0, len(models) + 1):\n",
        "        for subset in itertools.permutations(models, i):\n",
        "            if len(subset) == 0:\n",
        "                continue\n",
        "            comb.append(list(subset))\n",
        "    return comb\n",
        "\n",
        "\n",
        "top = [svc]\n",
        "models_0 = [svc]\n",
        "# models_1 = [gbc, rfc, etc]\n",
        "\n",
        "stack_lvl_0_clfs = get_combinations(models_0)\n",
        "# stack_lvl_1_clfs = get_combinations(models_1)\n",
        "\n",
        "\n",
        "search_config = {\n",
        "    stacking: {\"lvl_0\": stack_lvl_0_clfs, \"top\": top}\n",
        "}\n",
        "\n",
        "opt = Hyperactive(train_X, train_y)\n",
        "opt.search(search_config, n_jobs=2, n_iter=50)\n"
      ],
      "execution_count": null,
      "outputs": [
        {
          "output_type": "stream",
          "text": [
            "Set random start position\n",
            "Set random start position\n"
          ],
          "name": "stdout"
        },
        {
          "output_type": "display_data",
          "data": {
            "application/vnd.jupyter.widget-view+json": {
              "model_id": "65c1289fdc664500b6158bd3bb435281",
              "version_major": 2,
              "version_minor": 0
            },
            "text/plain": [
              "HBox(children=(FloatProgress(value=0.0, description='Thread 0 -> stacking', max=50.0, style=ProgressStyle(desc…"
            ]
          },
          "metadata": {
            "tags": []
          }
        },
        {
          "output_type": "display_data",
          "data": {
            "application/vnd.jupyter.widget-view+json": {
              "model_id": "fba3985fb8e140aba380d738d616f0ac",
              "version_major": 2,
              "version_minor": 0
            },
            "text/plain": [
              "HBox(children=(FloatProgress(value=0.0, description='Thread 1 -> stacking', max=50.0, style=ProgressStyle(desc…"
            ]
          },
          "metadata": {
            "tags": []
          }
        },
        {
          "output_type": "stream",
          "text": [
            "\n",
            "\n",
            "\n",
            "\n",
            "\n",
            "\n",
            "\n",
            "\n",
            "best para = {'lvl_0': [SVC(C=1.0, break_ties=False, cache_size=200, class_weight=None, coef0=0.0,\n",
            "    decision_function_shape='ovr', degree=3, gamma='scale', kernel='rbf',\n",
            "    max_iter=-1, probability=False, random_state=None, shrinking=True,\n",
            "    tol=0.001, verbose=False)], 'top': SVC(C=1.0, break_ties=False, cache_size=200, class_weight=None, coef0=0.0,\n",
            "    decision_function_shape='ovr', degree=3, gamma='scale', kernel='rbf',\n",
            "    max_iter=-1, probability=False, random_state=None, shrinking=True,\n",
            "    tol=0.001, verbose=False)}\n",
            "score     = 0.9338555265448215 \n",
            "\n",
            "best para = {'lvl_0': [SVC(C=1.0, break_ties=False, cache_size=200, class_weight=None, coef0=0.0,\n",
            "    decision_function_shape='ovr', degree=3, gamma='scale', kernel='rbf',\n",
            "    max_iter=-1, probability=False, random_state=None, shrinking=True,\n",
            "    tol=0.001, verbose=False)], 'top': SVC(C=1.0, break_ties=False, cache_size=200, class_weight=None, coef0=0.0,\n",
            "    decision_function_shape='ovr', degree=3, gamma='scale', kernel='rbf',\n",
            "    max_iter=-1, probability=False, random_state=None, shrinking=True,\n",
            "    tol=0.001, verbose=False)}\n",
            "score     = 0.9338555265448215 \n",
            "\n"
          ],
          "name": "stdout"
        }
      ]
    },
    {
      "cell_type": "markdown",
      "metadata": {
        "id": "OmHAsWVvCreC"
      },
      "source": [
        "# **GradBoost tune**"
      ]
    },
    {
      "cell_type": "code",
      "metadata": {
        "id": "1rXQ2oNW-UgN"
      },
      "source": [
        "%%time\n",
        "from sklearn.model_selection import cross_val_score\n",
        "from sklearn.ensemble import GradientBoostingClassifier\n",
        "from sklearn.datasets import load_breast_cancer\n",
        "from hyperactive import Hyperactive\n",
        "\n",
        "\n",
        "\n",
        "def model(para, X, y):\n",
        "    gbc = GradientBoostingClassifier(\n",
        "        n_estimators=para[\"n_estimators\"],\n",
        "        max_depth=para[\"max_depth\"],\n",
        "        min_samples_split=para[\"min_samples_split\"],\n",
        "    )\n",
        "    scores = cross_val_score(gbc, X, y, cv=3)\n",
        "\n",
        "    return scores.mean()\n",
        "\n",
        "\n",
        "search_config = {\n",
        "    model: {\n",
        "        \"n_estimators\": range(10, 200, 10),\n",
        "        \"max_depth\": range(2, 12),\n",
        "        \"min_samples_split\": range(2, 12),\n",
        "    }\n",
        "}\n",
        "\n",
        "\n",
        "opt = Hyperactive(train_X, train_y)\n",
        "opt.search(search_config, n_iter=100)\n"
      ],
      "execution_count": null,
      "outputs": []
    },
    {
      "cell_type": "markdown",
      "metadata": {
        "id": "Nz9joix2Cwm3"
      },
      "source": [
        "# **Hyperparameter tuning XGBoost with Random Search**"
      ]
    },
    {
      "cell_type": "code",
      "metadata": {
        "colab": {
          "base_uri": "https://localhost:8080/",
          "height": 175,
          "referenced_widgets": [
            "ee25295906b846e99788f299cf2551bc",
            "57cc70a44eb246bcaef60f909b7f4354",
            "f04351074e4c4b5898d3c2abe7f96b1a",
            "e0f4b6a5ebef43de84e750250282938f",
            "4e5f915b7d924431b57b8999078aed0c",
            "9257b349e7c94868aa2f7eb763a6f8a0",
            "e9389861ca024ba089003f80ec9b080e",
            "aa159f8035374636906435e50bd289f0"
          ]
        },
        "id": "bTYGOSYtJ1Ad",
        "outputId": "cdf95b7c-a0c4-4e4e-bf71-e02a07c2c01e"
      },
      "source": [
        "%%time\n",
        "from sklearn.model_selection import cross_val_score\n",
        "from xgboost import XGBClassifier\n",
        "from sklearn.datasets import load_breast_cancer\n",
        "from hyperactive import Hyperactive \n",
        "\n",
        "\n",
        "def model(para, X, y):\n",
        "    xgb = XGBClassifier(\n",
        "        n_estimators=para[\"n_estimators\"],\n",
        "        max_depth=para[\"max_depth\"],\n",
        "        learning_rate=para[\"learning_rate\"],\n",
        "    )\n",
        "    scores = cross_val_score(xgb, X, y, cv=3)\n",
        "\n",
        "    return scores.mean()\n",
        "\n",
        "\n",
        "search_config = {\n",
        "    model: {\n",
        "        \"n_estimators\": range(10, 200, 10),\n",
        "        \"max_depth\": range(2, 12),\n",
        "        \"learning_rate\": [1e-3, 1e-2, 1e-1, 0.5, 1.0],\n",
        "    }\n",
        "}\n",
        "\n",
        "opt = Hyperactive(train_X, train_y)\n",
        "opt.search(search_config, n_iter=100)\n"
      ],
      "execution_count": null,
      "outputs": [
        {
          "output_type": "stream",
          "text": [
            "Set random start position\n"
          ],
          "name": "stdout"
        },
        {
          "output_type": "display_data",
          "data": {
            "application/vnd.jupyter.widget-view+json": {
              "model_id": "ee25295906b846e99788f299cf2551bc",
              "version_major": 2,
              "version_minor": 0
            },
            "text/plain": [
              "HBox(children=(FloatProgress(value=0.0, description='Thread 0 -> model', style=ProgressStyle(description_width…"
            ]
          },
          "metadata": {
            "tags": []
          }
        },
        {
          "output_type": "stream",
          "text": [
            "\n",
            "best para = {'n_estimators': 90, 'max_depth': 3, 'learning_rate': 0.5}\n",
            "score     = 0.934508268059182 \n",
            "\n",
            "CPU times: user 1h 49min 40s, sys: 3.05 s, total: 1h 49min 44s\n",
            "Wall time: 1h 49min 44s\n"
          ],
          "name": "stdout"
        }
      ]
    },
    {
      "cell_type": "markdown",
      "metadata": {
        "id": "b4lXybnhFBC5"
      },
      "source": [
        "# **Hyperparameter tuning LightGBM with Random Search**"
      ]
    },
    {
      "cell_type": "code",
      "metadata": {
        "colab": {
          "base_uri": "https://localhost:8080/",
          "height": 175,
          "referenced_widgets": [
            "f78b834028064acf8575015101fab2f7",
            "962faa37c7634fa7bef4c9810b4fa857",
            "8b0e50d7e3454d599f1772d613777455",
            "09b33b217c3146c892aae8272c63a8ca",
            "9b78190bd3ba4065b697908531b0be26",
            "f0bb7e94b3ec4bc0892ed3d5537d352e",
            "ffe59638ea584c468413c6178cff1693",
            "58f56527ff714506a7cc382803565716"
          ]
        },
        "id": "GwbcsPibDKVe",
        "outputId": "02709dd0-4b26-4e61-a66f-2c105f538ae2"
      },
      "source": [
        "%%time\n",
        "from sklearn.model_selection import cross_val_score\n",
        "from lightgbm import LGBMClassifier\n",
        "from sklearn.datasets import load_breast_cancer\n",
        "from hyperactive import Hyperactive \n",
        "\n",
        "\n",
        "def model(para, X, y):\n",
        "    lgbm =LGBMClassifier(\n",
        "        n_estimators=para[\"n_estimators\"],\n",
        "        max_depth=para[\"max_depth\"],\n",
        "        learning_rate=para[\"learning_rate\"],\n",
        "    )\n",
        "    scores = cross_val_score(lgbm, X, y, cv=3)\n",
        "\n",
        "    return scores.mean()\n",
        "\n",
        "\n",
        "search_config = {\n",
        "    model: {\n",
        "        \"n_estimators\": range(10, 200, 10),\n",
        "        \"max_depth\": range(2, 12),\n",
        "        \"learning_rate\": [1e-3, 1e-2, 1e-1, 0.5, 1.0],\n",
        "    }\n",
        "}\n",
        "\n",
        "opt = Hyperactive(train_X, train_y)\n",
        "opt.search(search_config, n_iter=100)"
      ],
      "execution_count": null,
      "outputs": [
        {
          "output_type": "stream",
          "text": [
            "Set random start position\n"
          ],
          "name": "stdout"
        },
        {
          "output_type": "display_data",
          "data": {
            "application/vnd.jupyter.widget-view+json": {
              "model_id": "f78b834028064acf8575015101fab2f7",
              "version_major": 2,
              "version_minor": 0
            },
            "text/plain": [
              "HBox(children=(FloatProgress(value=0.0, description='Thread 0 -> model', style=ProgressStyle(description_width…"
            ]
          },
          "metadata": {
            "tags": []
          }
        },
        {
          "output_type": "stream",
          "text": [
            "\n",
            "best para = {'n_estimators': 90, 'max_depth': 3, 'learning_rate': 0.1}\n",
            "score     = 0.934508268059182 \n",
            "\n",
            "CPU times: user 1h 25min 7s, sys: 8.18 s, total: 1h 25min 15s\n",
            "Wall time: 43min 25s\n"
          ],
          "name": "stdout"
        }
      ]
    },
    {
      "cell_type": "code",
      "metadata": {
        "id": "9MAp0YFjqgva"
      },
      "source": [
        "ed A"
      ],
      "execution_count": null,
      "outputs": []
    },
    {
      "cell_type": "markdown",
      "metadata": {
        "id": "1Ac4-d13FHXI"
      },
      "source": [
        "# **Hyperparameter tuning CatBoost with Simulated Annealing**"
      ]
    },
    {
      "cell_type": "code",
      "metadata": {
        "colab": {
          "base_uri": "https://localhost:8080/"
        },
        "id": "ljviWdp6FQEb",
        "outputId": "ba0c5feb-608d-49d4-c62a-ff55236ac790"
      },
      "source": [
        "!pip install catboost"
      ],
      "execution_count": null,
      "outputs": [
        {
          "output_type": "stream",
          "text": [
            "Collecting catboost\n",
            "\u001b[?25l  Downloading https://files.pythonhosted.org/packages/52/39/128fff65072c8327371e3c594f3c826d29c85b21cb6485980353b168e0e4/catboost-0.24.2-cp36-none-manylinux1_x86_64.whl (66.1MB)\n",
            "\u001b[K     |████████████████████████████████| 66.2MB 51kB/s \n",
            "\u001b[?25hRequirement already satisfied: pandas>=0.24.0 in /usr/local/lib/python3.6/dist-packages (from catboost) (1.1.4)\n",
            "Requirement already satisfied: matplotlib in /usr/local/lib/python3.6/dist-packages (from catboost) (3.2.2)\n",
            "Requirement already satisfied: numpy>=1.16.0 in /usr/local/lib/python3.6/dist-packages (from catboost) (1.18.5)\n",
            "Requirement already satisfied: scipy in /usr/local/lib/python3.6/dist-packages (from catboost) (1.4.1)\n",
            "Requirement already satisfied: six in /usr/local/lib/python3.6/dist-packages (from catboost) (1.15.0)\n",
            "Requirement already satisfied: graphviz in /usr/local/lib/python3.6/dist-packages (from catboost) (0.10.1)\n",
            "Requirement already satisfied: plotly in /usr/local/lib/python3.6/dist-packages (from catboost) (4.4.1)\n",
            "Requirement already satisfied: pytz>=2017.2 in /usr/local/lib/python3.6/dist-packages (from pandas>=0.24.0->catboost) (2018.9)\n",
            "Requirement already satisfied: python-dateutil>=2.7.3 in /usr/local/lib/python3.6/dist-packages (from pandas>=0.24.0->catboost) (2.8.1)\n",
            "Requirement already satisfied: pyparsing!=2.0.4,!=2.1.2,!=2.1.6,>=2.0.1 in /usr/local/lib/python3.6/dist-packages (from matplotlib->catboost) (2.4.7)\n",
            "Requirement already satisfied: cycler>=0.10 in /usr/local/lib/python3.6/dist-packages (from matplotlib->catboost) (0.10.0)\n",
            "Requirement already satisfied: kiwisolver>=1.0.1 in /usr/local/lib/python3.6/dist-packages (from matplotlib->catboost) (1.3.1)\n",
            "Requirement already satisfied: retrying>=1.3.3 in /usr/local/lib/python3.6/dist-packages (from plotly->catboost) (1.3.3)\n",
            "Installing collected packages: catboost\n",
            "Successfully installed catboost-0.24.2\n"
          ],
          "name": "stdout"
        }
      ]
    },
    {
      "cell_type": "code",
      "metadata": {
        "colab": {
          "base_uri": "https://localhost:8080/",
          "referenced_widgets": [
            "656cb666346a4ccda2f61efa2a4b7e36",
            "16ae6d94dc6e492c99a7afe9f0d96322",
            "acc1dbd3b54c4f979baf64fcdf3bf45b",
            "d02f42ba54d14ba884edf3dd04b256ab",
            "6a61c8814c8d4ca0b4bb00f20c953b30",
            "f5b4dd1541dd4fff8d80a07aa113eebd",
            "11a6c4b1b749466a8a37b6d47148a9f5",
            "b9af5e414bee44b4ae7b2709f1a00668"
          ]
        },
        "id": "hrTTAiznbG6H",
        "outputId": "45ea0a15-7fd2-47dc-ec09-ceaf902ca83a"
      },
      "source": [
        " %%time\n",
        "from sklearn.model_selection import cross_val_score\n",
        "from catboost import CatBoostClassifier\n",
        "from sklearn.datasets import load_breast_cancer\n",
        "from hyperactive import Hyperactive \n",
        "\n",
        "def model(para, X, y):\n",
        "    cat =CatBoostClassifier(\n",
        "        n_estimators=para[\"n_estimators\"],\n",
        "        max_depth=para[\"max_depth\"],\n",
        "        learning_rate=para[\"learning_rate\"],\n",
        "        verbose=False,\n",
        "    )\n",
        "    scores = cross_val_score(cat, X, y, cv=3)\n",
        "\n",
        "    return scores.mean()\n",
        "\n",
        "search_config = {\n",
        "    model: {\n",
        "        \"n_estimators\": range(10, 200, 10),\n",
        "        \"max_depth\": range(2, 12),\n",
        "        \"learning_rate\": [1e-3, 1e-2, 1e-1, 0.5, 1.0],\n",
        "    }\n",
        "}\n",
        "\n",
        "opt = Hyperactive(train_X, train_y)\n",
        "opt.search(search_config,optimizer=\"SimulatedAnnealing\", n_iter=100)"
      ],
      "execution_count": null,
      "outputs": [
        {
          "output_type": "stream",
          "text": [
            "Set random start position\n"
          ],
          "name": "stdout"
        },
        {
          "output_type": "display_data",
          "data": {
            "application/vnd.jupyter.widget-view+json": {
              "model_id": "656cb666346a4ccda2f61efa2a4b7e36",
              "version_major": 2,
              "version_minor": 0
            },
            "text/plain": [
              "HBox(children=(FloatProgress(value=0.0, description='Thread 0 -> model', style=ProgressStyle(description_width…"
            ]
          },
          "metadata": {
            "tags": []
          }
        }
      ]
    },
    {
      "cell_type": "markdown",
      "metadata": {
        "id": "IYj2WV_ZC0wJ"
      },
      "source": [
        "# **AdaBoost**"
      ]
    },
    {
      "cell_type": "code",
      "metadata": {
        "colab": {
          "base_uri": "https://localhost:8080/",
          "height": 175,
          "referenced_widgets": [
            "36bb9202825c48d49f5f8e5648735bcd",
            "2f31651b9e2e4551b88682c4f65498c3",
            "72f7f414b1a0454b97c194a97a7ba251",
            "eb466882837c4292bc5af1b6e0d46382",
            "6435309fd5f64f2d814cea12c456a7fc",
            "1246aa2f8527491992770ffcb32c695a",
            "5b2588afbb4f42e1ae6e6665dadb5c45",
            "c037f28f9cfa42658f1afc9e365fdcb5"
          ]
        },
        "id": "mjfxtOZ8J_t3",
        "outputId": "9ab68cc9-b5ba-430d-e144-57926ca85a06"
      },
      "source": [
        "%%time\n",
        "from sklearn.model_selection import cross_val_score\n",
        "from sklearn.ensemble import AdaBoostClassifier\n",
        "from hyperactive import Hyperactive\n",
        "\n",
        "\n",
        "def model(para, X, y):\n",
        "    ada_boost = AdaBoostClassifier(\n",
        "         n_estimators=para[\"n_estimators\"],\n",
        "        base_estimator=para[\"base_estimator\"],\n",
        "        learning_rate=para[\"learning_rate\"],\n",
        "        \n",
        "    )\n",
        "    scores = cross_val_score(ada_boost, X, y, cv=3)\n",
        "\n",
        "    return scores.mean()\n",
        "\n",
        "\n",
        "search_config = {\n",
        "    model: {\n",
        "         \"n_estimators\": range(10, 200, 10),\n",
        "        \"base_estimator\": range(2, 12),\n",
        "        \"learning_rate\": [1e-3, 1e-2, 1e-1, 0.5, 1.0],\n",
        "\n",
        "\n",
        "    }\n",
        "}\n",
        "\n",
        "\n",
        "opt = Hyperactive(train_X, train_y)\n",
        "opt.search(search_config, n_iter=100)\n"
      ],
      "execution_count": null,
      "outputs": [
        {
          "output_type": "stream",
          "text": [
            "Set random start position\n"
          ],
          "name": "stdout"
        },
        {
          "output_type": "display_data",
          "data": {
            "application/vnd.jupyter.widget-view+json": {
              "model_id": "36bb9202825c48d49f5f8e5648735bcd",
              "version_major": 2,
              "version_minor": 0
            },
            "text/plain": [
              "HBox(children=(FloatProgress(value=0.0, description='Thread 0 -> model', style=ProgressStyle(description_width…"
            ]
          },
          "metadata": {
            "tags": []
          }
        },
        {
          "output_type": "stream",
          "text": [
            "\n",
            "best para = {'n_estimators': 120, 'base_estimator': 5, 'learning_rate': 0.1}\n",
            "score     = -inf \n",
            "\n",
            "CPU times: user 3.66 s, sys: 151 ms, total: 3.81 s\n",
            "Wall time: 4.01 s\n"
          ],
          "name": "stdout"
        }
      ]
    },
    {
      "cell_type": "markdown",
      "metadata": {
        "id": "7vOJBFbaC489"
      },
      "source": [
        "# **Stack of XGBoost, GradBoost, AdaBoost**"
      ]
    },
    {
      "cell_type": "code",
      "metadata": {
        "colab": {
          "base_uri": "https://localhost:8080/",
          "height": 859,
          "referenced_widgets": [
            "b14cf11bbd0f439db7604186db228e4e",
            "5264b331367d43eea10b8f28a4359102",
            "77c45177cc1346a5a9723353094e81b6",
            "0695b54b17b54ffba5520e3348722d85",
            "d3b763288ed1487888c1551ee1cf7297",
            "724febc88caf4f9394d5e72de9aed81e",
            "06f2bf10bfec482f83875ba30e2fd1ab",
            "ca8a51c0d4cf4b76bfd150083b29f1a5"
          ]
        },
        "id": "42f0KmUNo-Ck",
        "outputId": "7c01c2b6-770a-435d-fa0f-2d4de84835e8"
      },
      "source": [
        "%%time\n",
        "\n",
        "from sklearn.ensemble import AdaBoostClassifier\n",
        "from hyperactive import Hyperactive\n",
        "gbc = GradientBoostingClassifier()\n",
        "ada_boost = AdaBoostClassifier()\n",
        "xgb_boost = XGBClassifier()\n",
        "\n",
        "\n",
        "def stacking(para, X, y):\n",
        "    stack_lvl_0 = StackingClassifier(\n",
        "        classifiers=para[\"lvl_0\"], meta_classifier=para[\"top\"]\n",
        "    )\n",
        "    stack_lvl_1 = StackingClassifier(\n",
        "        classifiers=para[\"lvl_1\"], meta_classifier=stack_lvl_0\n",
        "    )\n",
        "    scores = cross_val_score(stack_lvl_1, X, y, cv=3)\n",
        "\n",
        "    return scores.mean()\n",
        "\n",
        "\n",
        "def get_combinations(models):\n",
        "    comb = []\n",
        "    for i in range(0, len(models) + 1):\n",
        "        for subset in itertools.permutations(models, i):\n",
        "            if len(subset) == 0:\n",
        "                continue\n",
        "            comb.append(list(subset))\n",
        "    return comb\n",
        "\n",
        "\n",
        "top = [xgb_boost]\n",
        "models_0 = [gbc, ada_boost, xgb_boost]\n",
        "models_1 = [gbc, ada_boost, xgb_boost]\n",
        "\n",
        "stack_lvl_0_clfs = get_combinations(models_0)\n",
        "stack_lvl_1_clfs = get_combinations(models_1)\n",
        "\n",
        "\n",
        "search_config = {\n",
        "    stacking: {\"lvl_1\": stack_lvl_1_clfs, \"lvl_0\": stack_lvl_0_clfs, \"top\": top}\n",
        "}\n",
        "\n",
        "\n",
        "opt = Hyperactive(train_X, train_y)\n",
        "opt.search(search_config,optimizer=\"Bayesian\", n_iter=5)\n"
      ],
      "execution_count": null,
      "outputs": [
        {
          "output_type": "stream",
          "text": [
            "Set random start position\n"
          ],
          "name": "stdout"
        },
        {
          "output_type": "display_data",
          "data": {
            "application/vnd.jupyter.widget-view+json": {
              "model_id": "b14cf11bbd0f439db7604186db228e4e",
              "version_minor": 0,
              "version_major": 2
            },
            "text/plain": [
              "HBox(children=(FloatProgress(value=0.0, description='Thread 0 -> stacking', max=5.0, style=ProgressStyle(descr…"
            ]
          },
          "metadata": {
            "tags": []
          }
        },
        {
          "output_type": "stream",
          "text": [
            "\n",
            "best para = {'lvl_1': [AdaBoostClassifier(algorithm='SAMME.R', base_estimator=None, learning_rate=1.0,\n",
            "                   n_estimators=50, random_state=None), XGBClassifier(base_score=0.5, booster='gbtree', colsample_bylevel=1,\n",
            "              colsample_bynode=1, colsample_bytree=1, gamma=0,\n",
            "              learning_rate=0.1, max_delta_step=0, max_depth=3,\n",
            "              min_child_weight=1, missing=None, n_estimators=100, n_jobs=1,\n",
            "              nthread=None, objective='binary:logistic', random_state=0,\n",
            "              reg_alpha=0, reg_lambda=1, scale_pos_weight=1, seed=None,\n",
            "              silent=None, subsample=1, verbosity=1), GradientBoostingClassifier(ccp_alpha=0.0, criterion='friedman_mse', init=None,\n",
            "                           learning_rate=0.1, loss='deviance', max_depth=3,\n",
            "                           max_features=None, max_leaf_nodes=None,\n",
            "                           min_impurity_decrease=0.0, min_impurity_split=None,\n",
            "                           min_samples_leaf=1, min_samples_split=2,\n",
            "                           min_weight_fraction_leaf=0.0, n_estimators=100,\n",
            "                           n_iter_no_change=None, presort='deprecated',\n",
            "                           random_state=None, subsample=1.0, tol=0.0001,\n",
            "                           validation_fraction=0.1, verbose=0,\n",
            "                           warm_start=False)], 'lvl_0': [GradientBoostingClassifier(ccp_alpha=0.0, criterion='friedman_mse', init=None,\n",
            "                           learning_rate=0.1, loss='deviance', max_depth=3,\n",
            "                           max_features=None, max_leaf_nodes=None,\n",
            "                           min_impurity_decrease=0.0, min_impurity_split=None,\n",
            "                           min_samples_leaf=1, min_samples_split=2,\n",
            "                           min_weight_fraction_leaf=0.0, n_estimators=100,\n",
            "                           n_iter_no_change=None, presort='deprecated',\n",
            "                           random_state=None, subsample=1.0, tol=0.0001,\n",
            "                           validation_fraction=0.1, verbose=0,\n",
            "                           warm_start=False), AdaBoostClassifier(algorithm='SAMME.R', base_estimator=None, learning_rate=1.0,\n",
            "                   n_estimators=50, random_state=None), XGBClassifier(base_score=0.5, booster='gbtree', colsample_bylevel=1,\n",
            "              colsample_bynode=1, colsample_bytree=1, gamma=0,\n",
            "              learning_rate=0.1, max_delta_step=0, max_depth=3,\n",
            "              min_child_weight=1, missing=None, n_estimators=100, n_jobs=1,\n",
            "              nthread=None, objective='binary:logistic', random_state=0,\n",
            "              reg_alpha=0, reg_lambda=1, scale_pos_weight=1, seed=None,\n",
            "              silent=None, subsample=1, verbosity=1)], 'top': XGBClassifier(base_score=0.5, booster='gbtree', colsample_bylevel=1,\n",
            "              colsample_bynode=1, colsample_bytree=1, gamma=0,\n",
            "              learning_rate=0.1, max_delta_step=0, max_depth=3,\n",
            "              min_child_weight=1, missing=None, n_estimators=100, n_jobs=1,\n",
            "              nthread=None, objective='binary:logistic', random_state=0,\n",
            "              reg_alpha=0, reg_lambda=1, scale_pos_weight=1, seed=None,\n",
            "              silent=None, subsample=1, verbosity=1)}\n",
            "score     = 0.8812907431710726 \n",
            "\n",
            "CPU times: user 34min 17s, sys: 1.38 s, total: 34min 18s\n",
            "Wall time: 34min 18s\n"
          ],
          "name": "stdout"
        }
      ]
    }
  ]
}